{
 "cells": [
  {
   "cell_type": "code",
   "id": "initial_id",
   "metadata": {
    "collapsed": true,
    "ExecuteTime": {
     "end_time": "2025-07-20T02:31:30.652219Z",
     "start_time": "2025-07-20T02:31:30.361219Z"
    }
   },
   "source": [
    "import pandas as pd\n",
    "import numpy as np\n",
    "import plotly.express as px"
   ],
   "outputs": [],
   "execution_count": 1
  },
  {
   "metadata": {
    "ExecuteTime": {
     "end_time": "2025-07-20T02:31:30.831176Z",
     "start_time": "2025-07-20T02:31:30.665800Z"
    }
   },
   "cell_type": "code",
   "source": [
    "data_sheet = pd.read_excel('data/2025_soil_raw_data.xlsx', sheet_name='토양성분', header=0)\n",
    "data_sheet.head(5)"
   ],
   "id": "b315377a18e9fc40",
   "outputs": [
    {
     "data": {
      "text/plain": [
       "   지역 품목      샘플코드   PH   EC   유기물  유효인산   유효규산    교환성칼륨    교환성칼슘   교환성마그네슘  \\\n",
       "0  김제  벼  GJ-R1-01  6.4  0.3  23.0  20.0  394.0  0.10965  7.18560  1.735686   \n",
       "1  김제  벼  GJ-R1-02  6.5  0.3  15.0  38.0  384.0  0.09945  7.14069  1.554714   \n",
       "2  김제  벼  GJ-R1-03  6.5  0.3  23.0  22.0  264.0  0.12240  7.19059  1.702782   \n",
       "3  김제  벼  GJ-R1-04  7.0  0.2  23.0  36.0  529.0  0.10455  7.22552  1.809720   \n",
       "4  김제  벼  GJ-R1-05  7.2  0.2  17.0  38.0  594.0  0.11475  7.48001  1.711008   \n",
       "\n",
       "   CEC   토성  sand(%)  silt(%)  clay(%)  석회소요량  \n",
       "0  NaN  NaN      NaN      NaN      NaN    NaN  \n",
       "1  NaN  NaN      NaN      NaN      NaN    NaN  \n",
       "2  NaN  NaN      NaN      NaN      NaN    NaN  \n",
       "3  NaN  NaN      NaN      NaN      NaN    NaN  \n",
       "4  NaN  NaN      NaN      NaN      NaN    NaN  "
      ],
      "text/html": [
       "<div>\n",
       "<style scoped>\n",
       "    .dataframe tbody tr th:only-of-type {\n",
       "        vertical-align: middle;\n",
       "    }\n",
       "\n",
       "    .dataframe tbody tr th {\n",
       "        vertical-align: top;\n",
       "    }\n",
       "\n",
       "    .dataframe thead th {\n",
       "        text-align: right;\n",
       "    }\n",
       "</style>\n",
       "<table border=\"1\" class=\"dataframe\">\n",
       "  <thead>\n",
       "    <tr style=\"text-align: right;\">\n",
       "      <th></th>\n",
       "      <th>지역</th>\n",
       "      <th>품목</th>\n",
       "      <th>샘플코드</th>\n",
       "      <th>PH</th>\n",
       "      <th>EC</th>\n",
       "      <th>유기물</th>\n",
       "      <th>유효인산</th>\n",
       "      <th>유효규산</th>\n",
       "      <th>교환성칼륨</th>\n",
       "      <th>교환성칼슘</th>\n",
       "      <th>교환성마그네슘</th>\n",
       "      <th>CEC</th>\n",
       "      <th>토성</th>\n",
       "      <th>sand(%)</th>\n",
       "      <th>silt(%)</th>\n",
       "      <th>clay(%)</th>\n",
       "      <th>석회소요량</th>\n",
       "    </tr>\n",
       "  </thead>\n",
       "  <tbody>\n",
       "    <tr>\n",
       "      <th>0</th>\n",
       "      <td>김제</td>\n",
       "      <td>벼</td>\n",
       "      <td>GJ-R1-01</td>\n",
       "      <td>6.4</td>\n",
       "      <td>0.3</td>\n",
       "      <td>23.0</td>\n",
       "      <td>20.0</td>\n",
       "      <td>394.0</td>\n",
       "      <td>0.10965</td>\n",
       "      <td>7.18560</td>\n",
       "      <td>1.735686</td>\n",
       "      <td>NaN</td>\n",
       "      <td>NaN</td>\n",
       "      <td>NaN</td>\n",
       "      <td>NaN</td>\n",
       "      <td>NaN</td>\n",
       "      <td>NaN</td>\n",
       "    </tr>\n",
       "    <tr>\n",
       "      <th>1</th>\n",
       "      <td>김제</td>\n",
       "      <td>벼</td>\n",
       "      <td>GJ-R1-02</td>\n",
       "      <td>6.5</td>\n",
       "      <td>0.3</td>\n",
       "      <td>15.0</td>\n",
       "      <td>38.0</td>\n",
       "      <td>384.0</td>\n",
       "      <td>0.09945</td>\n",
       "      <td>7.14069</td>\n",
       "      <td>1.554714</td>\n",
       "      <td>NaN</td>\n",
       "      <td>NaN</td>\n",
       "      <td>NaN</td>\n",
       "      <td>NaN</td>\n",
       "      <td>NaN</td>\n",
       "      <td>NaN</td>\n",
       "    </tr>\n",
       "    <tr>\n",
       "      <th>2</th>\n",
       "      <td>김제</td>\n",
       "      <td>벼</td>\n",
       "      <td>GJ-R1-03</td>\n",
       "      <td>6.5</td>\n",
       "      <td>0.3</td>\n",
       "      <td>23.0</td>\n",
       "      <td>22.0</td>\n",
       "      <td>264.0</td>\n",
       "      <td>0.12240</td>\n",
       "      <td>7.19059</td>\n",
       "      <td>1.702782</td>\n",
       "      <td>NaN</td>\n",
       "      <td>NaN</td>\n",
       "      <td>NaN</td>\n",
       "      <td>NaN</td>\n",
       "      <td>NaN</td>\n",
       "      <td>NaN</td>\n",
       "    </tr>\n",
       "    <tr>\n",
       "      <th>3</th>\n",
       "      <td>김제</td>\n",
       "      <td>벼</td>\n",
       "      <td>GJ-R1-04</td>\n",
       "      <td>7.0</td>\n",
       "      <td>0.2</td>\n",
       "      <td>23.0</td>\n",
       "      <td>36.0</td>\n",
       "      <td>529.0</td>\n",
       "      <td>0.10455</td>\n",
       "      <td>7.22552</td>\n",
       "      <td>1.809720</td>\n",
       "      <td>NaN</td>\n",
       "      <td>NaN</td>\n",
       "      <td>NaN</td>\n",
       "      <td>NaN</td>\n",
       "      <td>NaN</td>\n",
       "      <td>NaN</td>\n",
       "    </tr>\n",
       "    <tr>\n",
       "      <th>4</th>\n",
       "      <td>김제</td>\n",
       "      <td>벼</td>\n",
       "      <td>GJ-R1-05</td>\n",
       "      <td>7.2</td>\n",
       "      <td>0.2</td>\n",
       "      <td>17.0</td>\n",
       "      <td>38.0</td>\n",
       "      <td>594.0</td>\n",
       "      <td>0.11475</td>\n",
       "      <td>7.48001</td>\n",
       "      <td>1.711008</td>\n",
       "      <td>NaN</td>\n",
       "      <td>NaN</td>\n",
       "      <td>NaN</td>\n",
       "      <td>NaN</td>\n",
       "      <td>NaN</td>\n",
       "      <td>NaN</td>\n",
       "    </tr>\n",
       "  </tbody>\n",
       "</table>\n",
       "</div>"
      ]
     },
     "execution_count": 2,
     "metadata": {},
     "output_type": "execute_result"
    }
   ],
   "execution_count": 2
  },
  {
   "metadata": {
    "ExecuteTime": {
     "end_time": "2025-07-20T02:31:35.831474Z",
     "start_time": "2025-07-20T02:31:35.821650Z"
    }
   },
   "cell_type": "code",
   "source": [
    "## 지역별 통계\n",
    "print('지역별 성분 통게 분석표')\n",
    "\n",
    "sel_col = ['PH', 'EC','유기물', '유효인산', '유효규산', '교환성칼륨', '교환성칼슘', '교환성마그네슘']\n",
    "stats_table = data_sheet.groupby(['지역', '품목'])[sel_col].mean()\n",
    "stats_table"
   ],
   "id": "67e78d399f1503b0",
   "outputs": [
    {
     "name": "stdout",
     "output_type": "stream",
     "text": [
      "지역별 성분 통게 분석표\n"
     ]
    },
    {
     "data": {
      "text/plain": [
       "              PH        EC        유기물       유효인산        유효규산     교환성칼륨  \\\n",
       "지역  품목                                                                   \n",
       "구례  벼        NaN       NaN  35.931250        NaN  142.779167       NaN   \n",
       "김제  벼   6.833333  0.308333  23.770833  28.375000  387.833333  0.152787   \n",
       "    콩   6.228421  0.520947  19.353474  99.127579  275.261053  0.316526   \n",
       "새만금 콩   6.247847  0.147361   2.458472   9.423194         NaN  0.401147   \n",
       "순창  벼        NaN       NaN  50.278000        NaN  906.370000       NaN   \n",
       "    콩        NaN       NaN  42.168333        NaN  492.175000       NaN   \n",
       "화성  벼   7.341176  2.831618  18.448529  63.264706  554.588235  0.865294   \n",
       "\n",
       "           교환성칼슘   교환성마그네슘  \n",
       "지역  품목                      \n",
       "구례  벼        NaN       NaN  \n",
       "김제  벼   7.598730  1.867302  \n",
       "    콩   5.700000  1.743474  \n",
       "새만금 콩   1.211054  2.226835  \n",
       "순창  벼        NaN       NaN  \n",
       "    콩        NaN       NaN  \n",
       "화성  벼   4.712059  3.686765  "
      ],
      "text/html": [
       "<div>\n",
       "<style scoped>\n",
       "    .dataframe tbody tr th:only-of-type {\n",
       "        vertical-align: middle;\n",
       "    }\n",
       "\n",
       "    .dataframe tbody tr th {\n",
       "        vertical-align: top;\n",
       "    }\n",
       "\n",
       "    .dataframe thead th {\n",
       "        text-align: right;\n",
       "    }\n",
       "</style>\n",
       "<table border=\"1\" class=\"dataframe\">\n",
       "  <thead>\n",
       "    <tr style=\"text-align: right;\">\n",
       "      <th></th>\n",
       "      <th></th>\n",
       "      <th>PH</th>\n",
       "      <th>EC</th>\n",
       "      <th>유기물</th>\n",
       "      <th>유효인산</th>\n",
       "      <th>유효규산</th>\n",
       "      <th>교환성칼륨</th>\n",
       "      <th>교환성칼슘</th>\n",
       "      <th>교환성마그네슘</th>\n",
       "    </tr>\n",
       "    <tr>\n",
       "      <th>지역</th>\n",
       "      <th>품목</th>\n",
       "      <th></th>\n",
       "      <th></th>\n",
       "      <th></th>\n",
       "      <th></th>\n",
       "      <th></th>\n",
       "      <th></th>\n",
       "      <th></th>\n",
       "      <th></th>\n",
       "    </tr>\n",
       "  </thead>\n",
       "  <tbody>\n",
       "    <tr>\n",
       "      <th>구례</th>\n",
       "      <th>벼</th>\n",
       "      <td>NaN</td>\n",
       "      <td>NaN</td>\n",
       "      <td>35.931250</td>\n",
       "      <td>NaN</td>\n",
       "      <td>142.779167</td>\n",
       "      <td>NaN</td>\n",
       "      <td>NaN</td>\n",
       "      <td>NaN</td>\n",
       "    </tr>\n",
       "    <tr>\n",
       "      <th rowspan=\"2\" valign=\"top\">김제</th>\n",
       "      <th>벼</th>\n",
       "      <td>6.833333</td>\n",
       "      <td>0.308333</td>\n",
       "      <td>23.770833</td>\n",
       "      <td>28.375000</td>\n",
       "      <td>387.833333</td>\n",
       "      <td>0.152787</td>\n",
       "      <td>7.598730</td>\n",
       "      <td>1.867302</td>\n",
       "    </tr>\n",
       "    <tr>\n",
       "      <th>콩</th>\n",
       "      <td>6.228421</td>\n",
       "      <td>0.520947</td>\n",
       "      <td>19.353474</td>\n",
       "      <td>99.127579</td>\n",
       "      <td>275.261053</td>\n",
       "      <td>0.316526</td>\n",
       "      <td>5.700000</td>\n",
       "      <td>1.743474</td>\n",
       "    </tr>\n",
       "    <tr>\n",
       "      <th>새만금</th>\n",
       "      <th>콩</th>\n",
       "      <td>6.247847</td>\n",
       "      <td>0.147361</td>\n",
       "      <td>2.458472</td>\n",
       "      <td>9.423194</td>\n",
       "      <td>NaN</td>\n",
       "      <td>0.401147</td>\n",
       "      <td>1.211054</td>\n",
       "      <td>2.226835</td>\n",
       "    </tr>\n",
       "    <tr>\n",
       "      <th rowspan=\"2\" valign=\"top\">순창</th>\n",
       "      <th>벼</th>\n",
       "      <td>NaN</td>\n",
       "      <td>NaN</td>\n",
       "      <td>50.278000</td>\n",
       "      <td>NaN</td>\n",
       "      <td>906.370000</td>\n",
       "      <td>NaN</td>\n",
       "      <td>NaN</td>\n",
       "      <td>NaN</td>\n",
       "    </tr>\n",
       "    <tr>\n",
       "      <th>콩</th>\n",
       "      <td>NaN</td>\n",
       "      <td>NaN</td>\n",
       "      <td>42.168333</td>\n",
       "      <td>NaN</td>\n",
       "      <td>492.175000</td>\n",
       "      <td>NaN</td>\n",
       "      <td>NaN</td>\n",
       "      <td>NaN</td>\n",
       "    </tr>\n",
       "    <tr>\n",
       "      <th>화성</th>\n",
       "      <th>벼</th>\n",
       "      <td>7.341176</td>\n",
       "      <td>2.831618</td>\n",
       "      <td>18.448529</td>\n",
       "      <td>63.264706</td>\n",
       "      <td>554.588235</td>\n",
       "      <td>0.865294</td>\n",
       "      <td>4.712059</td>\n",
       "      <td>3.686765</td>\n",
       "    </tr>\n",
       "  </tbody>\n",
       "</table>\n",
       "</div>"
      ]
     },
     "execution_count": 3,
     "metadata": {},
     "output_type": "execute_result"
    }
   ],
   "execution_count": 3
  },
  {
   "metadata": {
    "ExecuteTime": {
     "end_time": "2025-07-20T02:31:37.848847Z",
     "start_time": "2025-07-20T02:31:37.839656Z"
    }
   },
   "cell_type": "code",
   "source": [
    "stats_table = stats_table.reset_index()\n",
    "stats_table"
   ],
   "id": "9cb2ecfdd1790a6d",
   "outputs": [
    {
     "data": {
      "text/plain": [
       "    지역 품목        PH        EC        유기물       유효인산        유효규산     교환성칼륨  \\\n",
       "0   구례  벼       NaN       NaN  35.931250        NaN  142.779167       NaN   \n",
       "1   김제  벼  6.833333  0.308333  23.770833  28.375000  387.833333  0.152787   \n",
       "2   김제  콩  6.228421  0.520947  19.353474  99.127579  275.261053  0.316526   \n",
       "3  새만금  콩  6.247847  0.147361   2.458472   9.423194         NaN  0.401147   \n",
       "4   순창  벼       NaN       NaN  50.278000        NaN  906.370000       NaN   \n",
       "5   순창  콩       NaN       NaN  42.168333        NaN  492.175000       NaN   \n",
       "6   화성  벼  7.341176  2.831618  18.448529  63.264706  554.588235  0.865294   \n",
       "\n",
       "      교환성칼슘   교환성마그네슘  \n",
       "0       NaN       NaN  \n",
       "1  7.598730  1.867302  \n",
       "2  5.700000  1.743474  \n",
       "3  1.211054  2.226835  \n",
       "4       NaN       NaN  \n",
       "5       NaN       NaN  \n",
       "6  4.712059  3.686765  "
      ],
      "text/html": [
       "<div>\n",
       "<style scoped>\n",
       "    .dataframe tbody tr th:only-of-type {\n",
       "        vertical-align: middle;\n",
       "    }\n",
       "\n",
       "    .dataframe tbody tr th {\n",
       "        vertical-align: top;\n",
       "    }\n",
       "\n",
       "    .dataframe thead th {\n",
       "        text-align: right;\n",
       "    }\n",
       "</style>\n",
       "<table border=\"1\" class=\"dataframe\">\n",
       "  <thead>\n",
       "    <tr style=\"text-align: right;\">\n",
       "      <th></th>\n",
       "      <th>지역</th>\n",
       "      <th>품목</th>\n",
       "      <th>PH</th>\n",
       "      <th>EC</th>\n",
       "      <th>유기물</th>\n",
       "      <th>유효인산</th>\n",
       "      <th>유효규산</th>\n",
       "      <th>교환성칼륨</th>\n",
       "      <th>교환성칼슘</th>\n",
       "      <th>교환성마그네슘</th>\n",
       "    </tr>\n",
       "  </thead>\n",
       "  <tbody>\n",
       "    <tr>\n",
       "      <th>0</th>\n",
       "      <td>구례</td>\n",
       "      <td>벼</td>\n",
       "      <td>NaN</td>\n",
       "      <td>NaN</td>\n",
       "      <td>35.931250</td>\n",
       "      <td>NaN</td>\n",
       "      <td>142.779167</td>\n",
       "      <td>NaN</td>\n",
       "      <td>NaN</td>\n",
       "      <td>NaN</td>\n",
       "    </tr>\n",
       "    <tr>\n",
       "      <th>1</th>\n",
       "      <td>김제</td>\n",
       "      <td>벼</td>\n",
       "      <td>6.833333</td>\n",
       "      <td>0.308333</td>\n",
       "      <td>23.770833</td>\n",
       "      <td>28.375000</td>\n",
       "      <td>387.833333</td>\n",
       "      <td>0.152787</td>\n",
       "      <td>7.598730</td>\n",
       "      <td>1.867302</td>\n",
       "    </tr>\n",
       "    <tr>\n",
       "      <th>2</th>\n",
       "      <td>김제</td>\n",
       "      <td>콩</td>\n",
       "      <td>6.228421</td>\n",
       "      <td>0.520947</td>\n",
       "      <td>19.353474</td>\n",
       "      <td>99.127579</td>\n",
       "      <td>275.261053</td>\n",
       "      <td>0.316526</td>\n",
       "      <td>5.700000</td>\n",
       "      <td>1.743474</td>\n",
       "    </tr>\n",
       "    <tr>\n",
       "      <th>3</th>\n",
       "      <td>새만금</td>\n",
       "      <td>콩</td>\n",
       "      <td>6.247847</td>\n",
       "      <td>0.147361</td>\n",
       "      <td>2.458472</td>\n",
       "      <td>9.423194</td>\n",
       "      <td>NaN</td>\n",
       "      <td>0.401147</td>\n",
       "      <td>1.211054</td>\n",
       "      <td>2.226835</td>\n",
       "    </tr>\n",
       "    <tr>\n",
       "      <th>4</th>\n",
       "      <td>순창</td>\n",
       "      <td>벼</td>\n",
       "      <td>NaN</td>\n",
       "      <td>NaN</td>\n",
       "      <td>50.278000</td>\n",
       "      <td>NaN</td>\n",
       "      <td>906.370000</td>\n",
       "      <td>NaN</td>\n",
       "      <td>NaN</td>\n",
       "      <td>NaN</td>\n",
       "    </tr>\n",
       "    <tr>\n",
       "      <th>5</th>\n",
       "      <td>순창</td>\n",
       "      <td>콩</td>\n",
       "      <td>NaN</td>\n",
       "      <td>NaN</td>\n",
       "      <td>42.168333</td>\n",
       "      <td>NaN</td>\n",
       "      <td>492.175000</td>\n",
       "      <td>NaN</td>\n",
       "      <td>NaN</td>\n",
       "      <td>NaN</td>\n",
       "    </tr>\n",
       "    <tr>\n",
       "      <th>6</th>\n",
       "      <td>화성</td>\n",
       "      <td>벼</td>\n",
       "      <td>7.341176</td>\n",
       "      <td>2.831618</td>\n",
       "      <td>18.448529</td>\n",
       "      <td>63.264706</td>\n",
       "      <td>554.588235</td>\n",
       "      <td>0.865294</td>\n",
       "      <td>4.712059</td>\n",
       "      <td>3.686765</td>\n",
       "    </tr>\n",
       "  </tbody>\n",
       "</table>\n",
       "</div>"
      ]
     },
     "execution_count": 4,
     "metadata": {},
     "output_type": "execute_result"
    }
   ],
   "execution_count": 4
  },
  {
   "metadata": {
    "ExecuteTime": {
     "end_time": "2025-07-20T02:31:40.017821Z",
     "start_time": "2025-07-20T02:31:40.012741Z"
    }
   },
   "cell_type": "code",
   "source": [
    "stats_table_rice = stats_table[stats_table['품목'] == '벼']\n",
    "stats_table_bean = stats_table[stats_table['품목'] == '콩']"
   ],
   "id": "6c8cf036b00e2749",
   "outputs": [],
   "execution_count": 5
  },
  {
   "metadata": {
    "ExecuteTime": {
     "end_time": "2025-07-20T02:31:41.598617Z",
     "start_time": "2025-07-20T02:31:41.590769Z"
    }
   },
   "cell_type": "code",
   "source": "stats_table_rice",
   "id": "bbf89f2cce958d5a",
   "outputs": [
    {
     "data": {
      "text/plain": [
       "   지역 품목        PH        EC        유기물       유효인산        유효규산     교환성칼륨  \\\n",
       "0  구례  벼       NaN       NaN  35.931250        NaN  142.779167       NaN   \n",
       "1  김제  벼  6.833333  0.308333  23.770833  28.375000  387.833333  0.152787   \n",
       "4  순창  벼       NaN       NaN  50.278000        NaN  906.370000       NaN   \n",
       "6  화성  벼  7.341176  2.831618  18.448529  63.264706  554.588235  0.865294   \n",
       "\n",
       "      교환성칼슘   교환성마그네슘  \n",
       "0       NaN       NaN  \n",
       "1  7.598730  1.867302  \n",
       "4       NaN       NaN  \n",
       "6  4.712059  3.686765  "
      ],
      "text/html": [
       "<div>\n",
       "<style scoped>\n",
       "    .dataframe tbody tr th:only-of-type {\n",
       "        vertical-align: middle;\n",
       "    }\n",
       "\n",
       "    .dataframe tbody tr th {\n",
       "        vertical-align: top;\n",
       "    }\n",
       "\n",
       "    .dataframe thead th {\n",
       "        text-align: right;\n",
       "    }\n",
       "</style>\n",
       "<table border=\"1\" class=\"dataframe\">\n",
       "  <thead>\n",
       "    <tr style=\"text-align: right;\">\n",
       "      <th></th>\n",
       "      <th>지역</th>\n",
       "      <th>품목</th>\n",
       "      <th>PH</th>\n",
       "      <th>EC</th>\n",
       "      <th>유기물</th>\n",
       "      <th>유효인산</th>\n",
       "      <th>유효규산</th>\n",
       "      <th>교환성칼륨</th>\n",
       "      <th>교환성칼슘</th>\n",
       "      <th>교환성마그네슘</th>\n",
       "    </tr>\n",
       "  </thead>\n",
       "  <tbody>\n",
       "    <tr>\n",
       "      <th>0</th>\n",
       "      <td>구례</td>\n",
       "      <td>벼</td>\n",
       "      <td>NaN</td>\n",
       "      <td>NaN</td>\n",
       "      <td>35.931250</td>\n",
       "      <td>NaN</td>\n",
       "      <td>142.779167</td>\n",
       "      <td>NaN</td>\n",
       "      <td>NaN</td>\n",
       "      <td>NaN</td>\n",
       "    </tr>\n",
       "    <tr>\n",
       "      <th>1</th>\n",
       "      <td>김제</td>\n",
       "      <td>벼</td>\n",
       "      <td>6.833333</td>\n",
       "      <td>0.308333</td>\n",
       "      <td>23.770833</td>\n",
       "      <td>28.375000</td>\n",
       "      <td>387.833333</td>\n",
       "      <td>0.152787</td>\n",
       "      <td>7.598730</td>\n",
       "      <td>1.867302</td>\n",
       "    </tr>\n",
       "    <tr>\n",
       "      <th>4</th>\n",
       "      <td>순창</td>\n",
       "      <td>벼</td>\n",
       "      <td>NaN</td>\n",
       "      <td>NaN</td>\n",
       "      <td>50.278000</td>\n",
       "      <td>NaN</td>\n",
       "      <td>906.370000</td>\n",
       "      <td>NaN</td>\n",
       "      <td>NaN</td>\n",
       "      <td>NaN</td>\n",
       "    </tr>\n",
       "    <tr>\n",
       "      <th>6</th>\n",
       "      <td>화성</td>\n",
       "      <td>벼</td>\n",
       "      <td>7.341176</td>\n",
       "      <td>2.831618</td>\n",
       "      <td>18.448529</td>\n",
       "      <td>63.264706</td>\n",
       "      <td>554.588235</td>\n",
       "      <td>0.865294</td>\n",
       "      <td>4.712059</td>\n",
       "      <td>3.686765</td>\n",
       "    </tr>\n",
       "  </tbody>\n",
       "</table>\n",
       "</div>"
      ]
     },
     "execution_count": 6,
     "metadata": {},
     "output_type": "execute_result"
    }
   ],
   "execution_count": 6
  },
  {
   "metadata": {
    "ExecuteTime": {
     "end_time": "2025-07-20T02:31:43.512652Z",
     "start_time": "2025-07-20T02:31:43.505539Z"
    }
   },
   "cell_type": "code",
   "source": "stats_table_bean",
   "id": "350113eef62b4d1e",
   "outputs": [
    {
     "data": {
      "text/plain": [
       "    지역 품목        PH        EC        유기물       유효인산        유효규산     교환성칼륨  \\\n",
       "2   김제  콩  6.228421  0.520947  19.353474  99.127579  275.261053  0.316526   \n",
       "3  새만금  콩  6.247847  0.147361   2.458472   9.423194         NaN  0.401147   \n",
       "5   순창  콩       NaN       NaN  42.168333        NaN  492.175000       NaN   \n",
       "\n",
       "      교환성칼슘   교환성마그네슘  \n",
       "2  5.700000  1.743474  \n",
       "3  1.211054  2.226835  \n",
       "5       NaN       NaN  "
      ],
      "text/html": [
       "<div>\n",
       "<style scoped>\n",
       "    .dataframe tbody tr th:only-of-type {\n",
       "        vertical-align: middle;\n",
       "    }\n",
       "\n",
       "    .dataframe tbody tr th {\n",
       "        vertical-align: top;\n",
       "    }\n",
       "\n",
       "    .dataframe thead th {\n",
       "        text-align: right;\n",
       "    }\n",
       "</style>\n",
       "<table border=\"1\" class=\"dataframe\">\n",
       "  <thead>\n",
       "    <tr style=\"text-align: right;\">\n",
       "      <th></th>\n",
       "      <th>지역</th>\n",
       "      <th>품목</th>\n",
       "      <th>PH</th>\n",
       "      <th>EC</th>\n",
       "      <th>유기물</th>\n",
       "      <th>유효인산</th>\n",
       "      <th>유효규산</th>\n",
       "      <th>교환성칼륨</th>\n",
       "      <th>교환성칼슘</th>\n",
       "      <th>교환성마그네슘</th>\n",
       "    </tr>\n",
       "  </thead>\n",
       "  <tbody>\n",
       "    <tr>\n",
       "      <th>2</th>\n",
       "      <td>김제</td>\n",
       "      <td>콩</td>\n",
       "      <td>6.228421</td>\n",
       "      <td>0.520947</td>\n",
       "      <td>19.353474</td>\n",
       "      <td>99.127579</td>\n",
       "      <td>275.261053</td>\n",
       "      <td>0.316526</td>\n",
       "      <td>5.700000</td>\n",
       "      <td>1.743474</td>\n",
       "    </tr>\n",
       "    <tr>\n",
       "      <th>3</th>\n",
       "      <td>새만금</td>\n",
       "      <td>콩</td>\n",
       "      <td>6.247847</td>\n",
       "      <td>0.147361</td>\n",
       "      <td>2.458472</td>\n",
       "      <td>9.423194</td>\n",
       "      <td>NaN</td>\n",
       "      <td>0.401147</td>\n",
       "      <td>1.211054</td>\n",
       "      <td>2.226835</td>\n",
       "    </tr>\n",
       "    <tr>\n",
       "      <th>5</th>\n",
       "      <td>순창</td>\n",
       "      <td>콩</td>\n",
       "      <td>NaN</td>\n",
       "      <td>NaN</td>\n",
       "      <td>42.168333</td>\n",
       "      <td>NaN</td>\n",
       "      <td>492.175000</td>\n",
       "      <td>NaN</td>\n",
       "      <td>NaN</td>\n",
       "      <td>NaN</td>\n",
       "    </tr>\n",
       "  </tbody>\n",
       "</table>\n",
       "</div>"
      ]
     },
     "execution_count": 7,
     "metadata": {},
     "output_type": "execute_result"
    }
   ],
   "execution_count": 7
  },
  {
   "metadata": {
    "ExecuteTime": {
     "end_time": "2025-07-20T02:31:46.034749Z",
     "start_time": "2025-07-20T02:31:45.867055Z"
    }
   },
   "cell_type": "code",
   "source": [
    "#ph\n",
    "fig_ph = px.bar(stats_table_bean, x='지역', y='PH', text_auto='.3s', title='지역별(콩) pH 평균치')\n",
    "fig_ph.add_shape(\n",
    "    type='line',\n",
    "    x0=-0.5,\n",
    "    x1=1.5,\n",
    "    y0=6.5,\n",
    "    y1=6.5,\n",
    "    line=dict(color=\"white\", width=2, dash='dash'),\n",
    "    name='적정 하한'\n",
    ")\n",
    "\n",
    "fig_ph.add_shape(\n",
    "    type='line',\n",
    "    x0=-0.5,\n",
    "    x1=1.5,\n",
    "    y0=7.0,\n",
    "    y1=7.0,\n",
    "    line=dict(color=\"white\", width=2, dash='dash'),\n",
    "    name='적정 상한'\n",
    ")\n",
    "\n",
    "fig_ph.update_traces(textposition='inside')\n",
    "\n",
    "fig_ph.show()"
   ],
   "id": "b96ff86377ceff73",
   "outputs": [
    {
     "data": {
      "application/vnd.plotly.v1+json": {
       "data": [
        {
         "hovertemplate": "지역=%{x}<br>PH=%{y}<extra></extra>",
         "legendgroup": "",
         "marker": {
          "color": "#636efa",
          "pattern": {
           "shape": ""
          }
         },
         "name": "",
         "orientation": "v",
         "showlegend": false,
         "textposition": "inside",
         "texttemplate": "%{y:.3s}",
         "x": [
          "김제",
          "새만금",
          "순창"
         ],
         "xaxis": "x",
         "y": {
          "dtype": "f8",
          "bdata": "BRVbNefpGEBEZYepy/0YQAAAAAAAAPh/"
         },
         "yaxis": "y",
         "type": "bar"
        }
       ],
       "layout": {
        "template": {
         "data": {
          "histogram2dcontour": [
           {
            "type": "histogram2dcontour",
            "colorbar": {
             "outlinewidth": 0,
             "ticks": ""
            },
            "colorscale": [
             [
              0.0,
              "#0d0887"
             ],
             [
              0.1111111111111111,
              "#46039f"
             ],
             [
              0.2222222222222222,
              "#7201a8"
             ],
             [
              0.3333333333333333,
              "#9c179e"
             ],
             [
              0.4444444444444444,
              "#bd3786"
             ],
             [
              0.5555555555555556,
              "#d8576b"
             ],
             [
              0.6666666666666666,
              "#ed7953"
             ],
             [
              0.7777777777777778,
              "#fb9f3a"
             ],
             [
              0.8888888888888888,
              "#fdca26"
             ],
             [
              1.0,
              "#f0f921"
             ]
            ]
           }
          ],
          "choropleth": [
           {
            "type": "choropleth",
            "colorbar": {
             "outlinewidth": 0,
             "ticks": ""
            }
           }
          ],
          "histogram2d": [
           {
            "type": "histogram2d",
            "colorbar": {
             "outlinewidth": 0,
             "ticks": ""
            },
            "colorscale": [
             [
              0.0,
              "#0d0887"
             ],
             [
              0.1111111111111111,
              "#46039f"
             ],
             [
              0.2222222222222222,
              "#7201a8"
             ],
             [
              0.3333333333333333,
              "#9c179e"
             ],
             [
              0.4444444444444444,
              "#bd3786"
             ],
             [
              0.5555555555555556,
              "#d8576b"
             ],
             [
              0.6666666666666666,
              "#ed7953"
             ],
             [
              0.7777777777777778,
              "#fb9f3a"
             ],
             [
              0.8888888888888888,
              "#fdca26"
             ],
             [
              1.0,
              "#f0f921"
             ]
            ]
           }
          ],
          "heatmap": [
           {
            "type": "heatmap",
            "colorbar": {
             "outlinewidth": 0,
             "ticks": ""
            },
            "colorscale": [
             [
              0.0,
              "#0d0887"
             ],
             [
              0.1111111111111111,
              "#46039f"
             ],
             [
              0.2222222222222222,
              "#7201a8"
             ],
             [
              0.3333333333333333,
              "#9c179e"
             ],
             [
              0.4444444444444444,
              "#bd3786"
             ],
             [
              0.5555555555555556,
              "#d8576b"
             ],
             [
              0.6666666666666666,
              "#ed7953"
             ],
             [
              0.7777777777777778,
              "#fb9f3a"
             ],
             [
              0.8888888888888888,
              "#fdca26"
             ],
             [
              1.0,
              "#f0f921"
             ]
            ]
           }
          ],
          "contourcarpet": [
           {
            "type": "contourcarpet",
            "colorbar": {
             "outlinewidth": 0,
             "ticks": ""
            }
           }
          ],
          "contour": [
           {
            "type": "contour",
            "colorbar": {
             "outlinewidth": 0,
             "ticks": ""
            },
            "colorscale": [
             [
              0.0,
              "#0d0887"
             ],
             [
              0.1111111111111111,
              "#46039f"
             ],
             [
              0.2222222222222222,
              "#7201a8"
             ],
             [
              0.3333333333333333,
              "#9c179e"
             ],
             [
              0.4444444444444444,
              "#bd3786"
             ],
             [
              0.5555555555555556,
              "#d8576b"
             ],
             [
              0.6666666666666666,
              "#ed7953"
             ],
             [
              0.7777777777777778,
              "#fb9f3a"
             ],
             [
              0.8888888888888888,
              "#fdca26"
             ],
             [
              1.0,
              "#f0f921"
             ]
            ]
           }
          ],
          "surface": [
           {
            "type": "surface",
            "colorbar": {
             "outlinewidth": 0,
             "ticks": ""
            },
            "colorscale": [
             [
              0.0,
              "#0d0887"
             ],
             [
              0.1111111111111111,
              "#46039f"
             ],
             [
              0.2222222222222222,
              "#7201a8"
             ],
             [
              0.3333333333333333,
              "#9c179e"
             ],
             [
              0.4444444444444444,
              "#bd3786"
             ],
             [
              0.5555555555555556,
              "#d8576b"
             ],
             [
              0.6666666666666666,
              "#ed7953"
             ],
             [
              0.7777777777777778,
              "#fb9f3a"
             ],
             [
              0.8888888888888888,
              "#fdca26"
             ],
             [
              1.0,
              "#f0f921"
             ]
            ]
           }
          ],
          "mesh3d": [
           {
            "type": "mesh3d",
            "colorbar": {
             "outlinewidth": 0,
             "ticks": ""
            }
           }
          ],
          "scatter": [
           {
            "marker": {
             "line": {
              "color": "#283442"
             }
            },
            "type": "scatter"
           }
          ],
          "parcoords": [
           {
            "type": "parcoords",
            "line": {
             "colorbar": {
              "outlinewidth": 0,
              "ticks": ""
             }
            }
           }
          ],
          "scatterpolargl": [
           {
            "type": "scatterpolargl",
            "marker": {
             "colorbar": {
              "outlinewidth": 0,
              "ticks": ""
             }
            }
           }
          ],
          "bar": [
           {
            "error_x": {
             "color": "#f2f5fa"
            },
            "error_y": {
             "color": "#f2f5fa"
            },
            "marker": {
             "line": {
              "color": "rgb(17,17,17)",
              "width": 0.5
             },
             "pattern": {
              "fillmode": "overlay",
              "size": 10,
              "solidity": 0.2
             }
            },
            "type": "bar"
           }
          ],
          "scattergeo": [
           {
            "type": "scattergeo",
            "marker": {
             "colorbar": {
              "outlinewidth": 0,
              "ticks": ""
             }
            }
           }
          ],
          "scatterpolar": [
           {
            "type": "scatterpolar",
            "marker": {
             "colorbar": {
              "outlinewidth": 0,
              "ticks": ""
             }
            }
           }
          ],
          "histogram": [
           {
            "marker": {
             "pattern": {
              "fillmode": "overlay",
              "size": 10,
              "solidity": 0.2
             }
            },
            "type": "histogram"
           }
          ],
          "scattergl": [
           {
            "marker": {
             "line": {
              "color": "#283442"
             }
            },
            "type": "scattergl"
           }
          ],
          "scatter3d": [
           {
            "type": "scatter3d",
            "line": {
             "colorbar": {
              "outlinewidth": 0,
              "ticks": ""
             }
            },
            "marker": {
             "colorbar": {
              "outlinewidth": 0,
              "ticks": ""
             }
            }
           }
          ],
          "scattermap": [
           {
            "type": "scattermap",
            "marker": {
             "colorbar": {
              "outlinewidth": 0,
              "ticks": ""
             }
            }
           }
          ],
          "scattermapbox": [
           {
            "type": "scattermapbox",
            "marker": {
             "colorbar": {
              "outlinewidth": 0,
              "ticks": ""
             }
            }
           }
          ],
          "scatterternary": [
           {
            "type": "scatterternary",
            "marker": {
             "colorbar": {
              "outlinewidth": 0,
              "ticks": ""
             }
            }
           }
          ],
          "scattercarpet": [
           {
            "type": "scattercarpet",
            "marker": {
             "colorbar": {
              "outlinewidth": 0,
              "ticks": ""
             }
            }
           }
          ],
          "carpet": [
           {
            "aaxis": {
             "endlinecolor": "#A2B1C6",
             "gridcolor": "#506784",
             "linecolor": "#506784",
             "minorgridcolor": "#506784",
             "startlinecolor": "#A2B1C6"
            },
            "baxis": {
             "endlinecolor": "#A2B1C6",
             "gridcolor": "#506784",
             "linecolor": "#506784",
             "minorgridcolor": "#506784",
             "startlinecolor": "#A2B1C6"
            },
            "type": "carpet"
           }
          ],
          "table": [
           {
            "cells": {
             "fill": {
              "color": "#506784"
             },
             "line": {
              "color": "rgb(17,17,17)"
             }
            },
            "header": {
             "fill": {
              "color": "#2a3f5f"
             },
             "line": {
              "color": "rgb(17,17,17)"
             }
            },
            "type": "table"
           }
          ],
          "barpolar": [
           {
            "marker": {
             "line": {
              "color": "rgb(17,17,17)",
              "width": 0.5
             },
             "pattern": {
              "fillmode": "overlay",
              "size": 10,
              "solidity": 0.2
             }
            },
            "type": "barpolar"
           }
          ],
          "pie": [
           {
            "automargin": true,
            "type": "pie"
           }
          ]
         },
         "layout": {
          "autotypenumbers": "strict",
          "colorway": [
           "#636efa",
           "#EF553B",
           "#00cc96",
           "#ab63fa",
           "#FFA15A",
           "#19d3f3",
           "#FF6692",
           "#B6E880",
           "#FF97FF",
           "#FECB52"
          ],
          "font": {
           "color": "#f2f5fa"
          },
          "hovermode": "closest",
          "hoverlabel": {
           "align": "left"
          },
          "paper_bgcolor": "rgb(17,17,17)",
          "plot_bgcolor": "rgb(17,17,17)",
          "polar": {
           "bgcolor": "rgb(17,17,17)",
           "angularaxis": {
            "gridcolor": "#506784",
            "linecolor": "#506784",
            "ticks": ""
           },
           "radialaxis": {
            "gridcolor": "#506784",
            "linecolor": "#506784",
            "ticks": ""
           }
          },
          "ternary": {
           "bgcolor": "rgb(17,17,17)",
           "aaxis": {
            "gridcolor": "#506784",
            "linecolor": "#506784",
            "ticks": ""
           },
           "baxis": {
            "gridcolor": "#506784",
            "linecolor": "#506784",
            "ticks": ""
           },
           "caxis": {
            "gridcolor": "#506784",
            "linecolor": "#506784",
            "ticks": ""
           }
          },
          "coloraxis": {
           "colorbar": {
            "outlinewidth": 0,
            "ticks": ""
           }
          },
          "colorscale": {
           "sequential": [
            [
             0.0,
             "#0d0887"
            ],
            [
             0.1111111111111111,
             "#46039f"
            ],
            [
             0.2222222222222222,
             "#7201a8"
            ],
            [
             0.3333333333333333,
             "#9c179e"
            ],
            [
             0.4444444444444444,
             "#bd3786"
            ],
            [
             0.5555555555555556,
             "#d8576b"
            ],
            [
             0.6666666666666666,
             "#ed7953"
            ],
            [
             0.7777777777777778,
             "#fb9f3a"
            ],
            [
             0.8888888888888888,
             "#fdca26"
            ],
            [
             1.0,
             "#f0f921"
            ]
           ],
           "sequentialminus": [
            [
             0.0,
             "#0d0887"
            ],
            [
             0.1111111111111111,
             "#46039f"
            ],
            [
             0.2222222222222222,
             "#7201a8"
            ],
            [
             0.3333333333333333,
             "#9c179e"
            ],
            [
             0.4444444444444444,
             "#bd3786"
            ],
            [
             0.5555555555555556,
             "#d8576b"
            ],
            [
             0.6666666666666666,
             "#ed7953"
            ],
            [
             0.7777777777777778,
             "#fb9f3a"
            ],
            [
             0.8888888888888888,
             "#fdca26"
            ],
            [
             1.0,
             "#f0f921"
            ]
           ],
           "diverging": [
            [
             0,
             "#8e0152"
            ],
            [
             0.1,
             "#c51b7d"
            ],
            [
             0.2,
             "#de77ae"
            ],
            [
             0.3,
             "#f1b6da"
            ],
            [
             0.4,
             "#fde0ef"
            ],
            [
             0.5,
             "#f7f7f7"
            ],
            [
             0.6,
             "#e6f5d0"
            ],
            [
             0.7,
             "#b8e186"
            ],
            [
             0.8,
             "#7fbc41"
            ],
            [
             0.9,
             "#4d9221"
            ],
            [
             1,
             "#276419"
            ]
           ]
          },
          "xaxis": {
           "gridcolor": "#283442",
           "linecolor": "#506784",
           "ticks": "",
           "title": {
            "standoff": 15
           },
           "zerolinecolor": "#283442",
           "automargin": true,
           "zerolinewidth": 2
          },
          "yaxis": {
           "gridcolor": "#283442",
           "linecolor": "#506784",
           "ticks": "",
           "title": {
            "standoff": 15
           },
           "zerolinecolor": "#283442",
           "automargin": true,
           "zerolinewidth": 2
          },
          "scene": {
           "xaxis": {
            "backgroundcolor": "rgb(17,17,17)",
            "gridcolor": "#506784",
            "linecolor": "#506784",
            "showbackground": true,
            "ticks": "",
            "zerolinecolor": "#C8D4E3",
            "gridwidth": 2
           },
           "yaxis": {
            "backgroundcolor": "rgb(17,17,17)",
            "gridcolor": "#506784",
            "linecolor": "#506784",
            "showbackground": true,
            "ticks": "",
            "zerolinecolor": "#C8D4E3",
            "gridwidth": 2
           },
           "zaxis": {
            "backgroundcolor": "rgb(17,17,17)",
            "gridcolor": "#506784",
            "linecolor": "#506784",
            "showbackground": true,
            "ticks": "",
            "zerolinecolor": "#C8D4E3",
            "gridwidth": 2
           }
          },
          "shapedefaults": {
           "line": {
            "color": "#f2f5fa"
           }
          },
          "annotationdefaults": {
           "arrowcolor": "#f2f5fa",
           "arrowhead": 0,
           "arrowwidth": 1
          },
          "geo": {
           "bgcolor": "rgb(17,17,17)",
           "landcolor": "rgb(17,17,17)",
           "subunitcolor": "#506784",
           "showland": true,
           "showlakes": true,
           "lakecolor": "rgb(17,17,17)"
          },
          "title": {
           "x": 0.05
          },
          "updatemenudefaults": {
           "bgcolor": "#506784",
           "borderwidth": 0
          },
          "sliderdefaults": {
           "bgcolor": "#C8D4E3",
           "borderwidth": 1,
           "bordercolor": "rgb(17,17,17)",
           "tickwidth": 0
          },
          "mapbox": {
           "style": "dark"
          }
         }
        },
        "xaxis": {
         "anchor": "y",
         "domain": [
          0.0,
          1.0
         ],
         "title": {
          "text": "지역"
         }
        },
        "yaxis": {
         "anchor": "x",
         "domain": [
          0.0,
          1.0
         ],
         "title": {
          "text": "PH"
         }
        },
        "legend": {
         "tracegroupgap": 0
        },
        "title": {
         "text": "지역별(콩) pH 평균치"
        },
        "barmode": "relative",
        "shapes": [
         {
          "line": {
           "color": "white",
           "dash": "dash",
           "width": 2
          },
          "name": "적정 하한",
          "type": "line",
          "x0": -0.5,
          "x1": 1.5,
          "y0": 6.5,
          "y1": 6.5
         },
         {
          "line": {
           "color": "white",
           "dash": "dash",
           "width": 2
          },
          "name": "적정 상한",
          "type": "line",
          "x0": -0.5,
          "x1": 1.5,
          "y0": 7.0,
          "y1": 7.0
         }
        ]
       },
       "config": {
        "plotlyServerURL": "https://plot.ly"
       }
      }
     },
     "metadata": {},
     "output_type": "display_data"
    }
   ],
   "execution_count": 8
  },
  {
   "metadata": {
    "ExecuteTime": {
     "end_time": "2025-07-19T14:22:08.134397Z",
     "start_time": "2025-07-19T14:22:08.102295Z"
    }
   },
   "cell_type": "code",
   "source": "fig_ph.write_image('bean_ph.png')",
   "id": "1571715f1aeae016",
   "outputs": [],
   "execution_count": 43
  },
  {
   "metadata": {
    "ExecuteTime": {
     "end_time": "2025-07-20T02:33:36.603976Z",
     "start_time": "2025-07-20T02:33:36.574989Z"
    }
   },
   "cell_type": "code",
   "source": [
    "#EC\n",
    "fig_ec = px.bar(stats_table_bean, x='지역', y='EC', text_auto='.2s', title='지역별(콩) EC 평균치')\n",
    "fig_ec.add_shape(\n",
    "    type='line',\n",
    "    x0=-0.5,\n",
    "    x1=3.5,\n",
    "    y0=0,\n",
    "    y1=0,\n",
    "    line=dict(color=\"white\", width=2, dash='dash'),\n",
    "    name='적정 하한'\n",
    ")\n",
    "\n",
    "fig_ec.add_shape(\n",
    "    type='line',\n",
    "    x0=-0.5,\n",
    "    x1=3.5,\n",
    "    y0=1.2,\n",
    "    y1=1.2,\n",
    "    line=dict(color=\"white\", width=2, dash='dash'),\n",
    "    name='적정 상한'\n",
    ")\n",
    "\n",
    "fig_ec.update_traces(textposition='inside')\n",
    "\n",
    "fig_ec.show()"
   ],
   "id": "719aa1ce8b359867",
   "outputs": [
    {
     "data": {
      "application/vnd.plotly.v1+json": {
       "data": [
        {
         "hovertemplate": "지역=%{x}<br>EC=%{y}<extra></extra>",
         "legendgroup": "",
         "marker": {
          "color": "#636efa",
          "pattern": {
           "shape": ""
          }
         },
         "name": "",
         "orientation": "v",
         "showlegend": false,
         "textposition": "inside",
         "texttemplate": "%{y:.2s}",
         "x": [
          "김제",
          "새만금",
          "순창"
         ],
         "xaxis": "x",
         "y": {
          "dtype": "f8",
          "bdata": "KsjJ0Jmr4D8yVHaYutzCPwAAAAAAAPh/"
         },
         "yaxis": "y",
         "type": "bar"
        }
       ],
       "layout": {
        "template": {
         "data": {
          "histogram2dcontour": [
           {
            "type": "histogram2dcontour",
            "colorbar": {
             "outlinewidth": 0,
             "ticks": ""
            },
            "colorscale": [
             [
              0.0,
              "#0d0887"
             ],
             [
              0.1111111111111111,
              "#46039f"
             ],
             [
              0.2222222222222222,
              "#7201a8"
             ],
             [
              0.3333333333333333,
              "#9c179e"
             ],
             [
              0.4444444444444444,
              "#bd3786"
             ],
             [
              0.5555555555555556,
              "#d8576b"
             ],
             [
              0.6666666666666666,
              "#ed7953"
             ],
             [
              0.7777777777777778,
              "#fb9f3a"
             ],
             [
              0.8888888888888888,
              "#fdca26"
             ],
             [
              1.0,
              "#f0f921"
             ]
            ]
           }
          ],
          "choropleth": [
           {
            "type": "choropleth",
            "colorbar": {
             "outlinewidth": 0,
             "ticks": ""
            }
           }
          ],
          "histogram2d": [
           {
            "type": "histogram2d",
            "colorbar": {
             "outlinewidth": 0,
             "ticks": ""
            },
            "colorscale": [
             [
              0.0,
              "#0d0887"
             ],
             [
              0.1111111111111111,
              "#46039f"
             ],
             [
              0.2222222222222222,
              "#7201a8"
             ],
             [
              0.3333333333333333,
              "#9c179e"
             ],
             [
              0.4444444444444444,
              "#bd3786"
             ],
             [
              0.5555555555555556,
              "#d8576b"
             ],
             [
              0.6666666666666666,
              "#ed7953"
             ],
             [
              0.7777777777777778,
              "#fb9f3a"
             ],
             [
              0.8888888888888888,
              "#fdca26"
             ],
             [
              1.0,
              "#f0f921"
             ]
            ]
           }
          ],
          "heatmap": [
           {
            "type": "heatmap",
            "colorbar": {
             "outlinewidth": 0,
             "ticks": ""
            },
            "colorscale": [
             [
              0.0,
              "#0d0887"
             ],
             [
              0.1111111111111111,
              "#46039f"
             ],
             [
              0.2222222222222222,
              "#7201a8"
             ],
             [
              0.3333333333333333,
              "#9c179e"
             ],
             [
              0.4444444444444444,
              "#bd3786"
             ],
             [
              0.5555555555555556,
              "#d8576b"
             ],
             [
              0.6666666666666666,
              "#ed7953"
             ],
             [
              0.7777777777777778,
              "#fb9f3a"
             ],
             [
              0.8888888888888888,
              "#fdca26"
             ],
             [
              1.0,
              "#f0f921"
             ]
            ]
           }
          ],
          "contourcarpet": [
           {
            "type": "contourcarpet",
            "colorbar": {
             "outlinewidth": 0,
             "ticks": ""
            }
           }
          ],
          "contour": [
           {
            "type": "contour",
            "colorbar": {
             "outlinewidth": 0,
             "ticks": ""
            },
            "colorscale": [
             [
              0.0,
              "#0d0887"
             ],
             [
              0.1111111111111111,
              "#46039f"
             ],
             [
              0.2222222222222222,
              "#7201a8"
             ],
             [
              0.3333333333333333,
              "#9c179e"
             ],
             [
              0.4444444444444444,
              "#bd3786"
             ],
             [
              0.5555555555555556,
              "#d8576b"
             ],
             [
              0.6666666666666666,
              "#ed7953"
             ],
             [
              0.7777777777777778,
              "#fb9f3a"
             ],
             [
              0.8888888888888888,
              "#fdca26"
             ],
             [
              1.0,
              "#f0f921"
             ]
            ]
           }
          ],
          "surface": [
           {
            "type": "surface",
            "colorbar": {
             "outlinewidth": 0,
             "ticks": ""
            },
            "colorscale": [
             [
              0.0,
              "#0d0887"
             ],
             [
              0.1111111111111111,
              "#46039f"
             ],
             [
              0.2222222222222222,
              "#7201a8"
             ],
             [
              0.3333333333333333,
              "#9c179e"
             ],
             [
              0.4444444444444444,
              "#bd3786"
             ],
             [
              0.5555555555555556,
              "#d8576b"
             ],
             [
              0.6666666666666666,
              "#ed7953"
             ],
             [
              0.7777777777777778,
              "#fb9f3a"
             ],
             [
              0.8888888888888888,
              "#fdca26"
             ],
             [
              1.0,
              "#f0f921"
             ]
            ]
           }
          ],
          "mesh3d": [
           {
            "type": "mesh3d",
            "colorbar": {
             "outlinewidth": 0,
             "ticks": ""
            }
           }
          ],
          "scatter": [
           {
            "marker": {
             "line": {
              "color": "#283442"
             }
            },
            "type": "scatter"
           }
          ],
          "parcoords": [
           {
            "type": "parcoords",
            "line": {
             "colorbar": {
              "outlinewidth": 0,
              "ticks": ""
             }
            }
           }
          ],
          "scatterpolargl": [
           {
            "type": "scatterpolargl",
            "marker": {
             "colorbar": {
              "outlinewidth": 0,
              "ticks": ""
             }
            }
           }
          ],
          "bar": [
           {
            "error_x": {
             "color": "#f2f5fa"
            },
            "error_y": {
             "color": "#f2f5fa"
            },
            "marker": {
             "line": {
              "color": "rgb(17,17,17)",
              "width": 0.5
             },
             "pattern": {
              "fillmode": "overlay",
              "size": 10,
              "solidity": 0.2
             }
            },
            "type": "bar"
           }
          ],
          "scattergeo": [
           {
            "type": "scattergeo",
            "marker": {
             "colorbar": {
              "outlinewidth": 0,
              "ticks": ""
             }
            }
           }
          ],
          "scatterpolar": [
           {
            "type": "scatterpolar",
            "marker": {
             "colorbar": {
              "outlinewidth": 0,
              "ticks": ""
             }
            }
           }
          ],
          "histogram": [
           {
            "marker": {
             "pattern": {
              "fillmode": "overlay",
              "size": 10,
              "solidity": 0.2
             }
            },
            "type": "histogram"
           }
          ],
          "scattergl": [
           {
            "marker": {
             "line": {
              "color": "#283442"
             }
            },
            "type": "scattergl"
           }
          ],
          "scatter3d": [
           {
            "type": "scatter3d",
            "line": {
             "colorbar": {
              "outlinewidth": 0,
              "ticks": ""
             }
            },
            "marker": {
             "colorbar": {
              "outlinewidth": 0,
              "ticks": ""
             }
            }
           }
          ],
          "scattermap": [
           {
            "type": "scattermap",
            "marker": {
             "colorbar": {
              "outlinewidth": 0,
              "ticks": ""
             }
            }
           }
          ],
          "scattermapbox": [
           {
            "type": "scattermapbox",
            "marker": {
             "colorbar": {
              "outlinewidth": 0,
              "ticks": ""
             }
            }
           }
          ],
          "scatterternary": [
           {
            "type": "scatterternary",
            "marker": {
             "colorbar": {
              "outlinewidth": 0,
              "ticks": ""
             }
            }
           }
          ],
          "scattercarpet": [
           {
            "type": "scattercarpet",
            "marker": {
             "colorbar": {
              "outlinewidth": 0,
              "ticks": ""
             }
            }
           }
          ],
          "carpet": [
           {
            "aaxis": {
             "endlinecolor": "#A2B1C6",
             "gridcolor": "#506784",
             "linecolor": "#506784",
             "minorgridcolor": "#506784",
             "startlinecolor": "#A2B1C6"
            },
            "baxis": {
             "endlinecolor": "#A2B1C6",
             "gridcolor": "#506784",
             "linecolor": "#506784",
             "minorgridcolor": "#506784",
             "startlinecolor": "#A2B1C6"
            },
            "type": "carpet"
           }
          ],
          "table": [
           {
            "cells": {
             "fill": {
              "color": "#506784"
             },
             "line": {
              "color": "rgb(17,17,17)"
             }
            },
            "header": {
             "fill": {
              "color": "#2a3f5f"
             },
             "line": {
              "color": "rgb(17,17,17)"
             }
            },
            "type": "table"
           }
          ],
          "barpolar": [
           {
            "marker": {
             "line": {
              "color": "rgb(17,17,17)",
              "width": 0.5
             },
             "pattern": {
              "fillmode": "overlay",
              "size": 10,
              "solidity": 0.2
             }
            },
            "type": "barpolar"
           }
          ],
          "pie": [
           {
            "automargin": true,
            "type": "pie"
           }
          ]
         },
         "layout": {
          "autotypenumbers": "strict",
          "colorway": [
           "#636efa",
           "#EF553B",
           "#00cc96",
           "#ab63fa",
           "#FFA15A",
           "#19d3f3",
           "#FF6692",
           "#B6E880",
           "#FF97FF",
           "#FECB52"
          ],
          "font": {
           "color": "#f2f5fa"
          },
          "hovermode": "closest",
          "hoverlabel": {
           "align": "left"
          },
          "paper_bgcolor": "rgb(17,17,17)",
          "plot_bgcolor": "rgb(17,17,17)",
          "polar": {
           "bgcolor": "rgb(17,17,17)",
           "angularaxis": {
            "gridcolor": "#506784",
            "linecolor": "#506784",
            "ticks": ""
           },
           "radialaxis": {
            "gridcolor": "#506784",
            "linecolor": "#506784",
            "ticks": ""
           }
          },
          "ternary": {
           "bgcolor": "rgb(17,17,17)",
           "aaxis": {
            "gridcolor": "#506784",
            "linecolor": "#506784",
            "ticks": ""
           },
           "baxis": {
            "gridcolor": "#506784",
            "linecolor": "#506784",
            "ticks": ""
           },
           "caxis": {
            "gridcolor": "#506784",
            "linecolor": "#506784",
            "ticks": ""
           }
          },
          "coloraxis": {
           "colorbar": {
            "outlinewidth": 0,
            "ticks": ""
           }
          },
          "colorscale": {
           "sequential": [
            [
             0.0,
             "#0d0887"
            ],
            [
             0.1111111111111111,
             "#46039f"
            ],
            [
             0.2222222222222222,
             "#7201a8"
            ],
            [
             0.3333333333333333,
             "#9c179e"
            ],
            [
             0.4444444444444444,
             "#bd3786"
            ],
            [
             0.5555555555555556,
             "#d8576b"
            ],
            [
             0.6666666666666666,
             "#ed7953"
            ],
            [
             0.7777777777777778,
             "#fb9f3a"
            ],
            [
             0.8888888888888888,
             "#fdca26"
            ],
            [
             1.0,
             "#f0f921"
            ]
           ],
           "sequentialminus": [
            [
             0.0,
             "#0d0887"
            ],
            [
             0.1111111111111111,
             "#46039f"
            ],
            [
             0.2222222222222222,
             "#7201a8"
            ],
            [
             0.3333333333333333,
             "#9c179e"
            ],
            [
             0.4444444444444444,
             "#bd3786"
            ],
            [
             0.5555555555555556,
             "#d8576b"
            ],
            [
             0.6666666666666666,
             "#ed7953"
            ],
            [
             0.7777777777777778,
             "#fb9f3a"
            ],
            [
             0.8888888888888888,
             "#fdca26"
            ],
            [
             1.0,
             "#f0f921"
            ]
           ],
           "diverging": [
            [
             0,
             "#8e0152"
            ],
            [
             0.1,
             "#c51b7d"
            ],
            [
             0.2,
             "#de77ae"
            ],
            [
             0.3,
             "#f1b6da"
            ],
            [
             0.4,
             "#fde0ef"
            ],
            [
             0.5,
             "#f7f7f7"
            ],
            [
             0.6,
             "#e6f5d0"
            ],
            [
             0.7,
             "#b8e186"
            ],
            [
             0.8,
             "#7fbc41"
            ],
            [
             0.9,
             "#4d9221"
            ],
            [
             1,
             "#276419"
            ]
           ]
          },
          "xaxis": {
           "gridcolor": "#283442",
           "linecolor": "#506784",
           "ticks": "",
           "title": {
            "standoff": 15
           },
           "zerolinecolor": "#283442",
           "automargin": true,
           "zerolinewidth": 2
          },
          "yaxis": {
           "gridcolor": "#283442",
           "linecolor": "#506784",
           "ticks": "",
           "title": {
            "standoff": 15
           },
           "zerolinecolor": "#283442",
           "automargin": true,
           "zerolinewidth": 2
          },
          "scene": {
           "xaxis": {
            "backgroundcolor": "rgb(17,17,17)",
            "gridcolor": "#506784",
            "linecolor": "#506784",
            "showbackground": true,
            "ticks": "",
            "zerolinecolor": "#C8D4E3",
            "gridwidth": 2
           },
           "yaxis": {
            "backgroundcolor": "rgb(17,17,17)",
            "gridcolor": "#506784",
            "linecolor": "#506784",
            "showbackground": true,
            "ticks": "",
            "zerolinecolor": "#C8D4E3",
            "gridwidth": 2
           },
           "zaxis": {
            "backgroundcolor": "rgb(17,17,17)",
            "gridcolor": "#506784",
            "linecolor": "#506784",
            "showbackground": true,
            "ticks": "",
            "zerolinecolor": "#C8D4E3",
            "gridwidth": 2
           }
          },
          "shapedefaults": {
           "line": {
            "color": "#f2f5fa"
           }
          },
          "annotationdefaults": {
           "arrowcolor": "#f2f5fa",
           "arrowhead": 0,
           "arrowwidth": 1
          },
          "geo": {
           "bgcolor": "rgb(17,17,17)",
           "landcolor": "rgb(17,17,17)",
           "subunitcolor": "#506784",
           "showland": true,
           "showlakes": true,
           "lakecolor": "rgb(17,17,17)"
          },
          "title": {
           "x": 0.05
          },
          "updatemenudefaults": {
           "bgcolor": "#506784",
           "borderwidth": 0
          },
          "sliderdefaults": {
           "bgcolor": "#C8D4E3",
           "borderwidth": 1,
           "bordercolor": "rgb(17,17,17)",
           "tickwidth": 0
          },
          "mapbox": {
           "style": "dark"
          }
         }
        },
        "xaxis": {
         "anchor": "y",
         "domain": [
          0.0,
          1.0
         ],
         "title": {
          "text": "지역"
         }
        },
        "yaxis": {
         "anchor": "x",
         "domain": [
          0.0,
          1.0
         ],
         "title": {
          "text": "EC"
         }
        },
        "legend": {
         "tracegroupgap": 0
        },
        "title": {
         "text": "지역별(콩) EC 평균치"
        },
        "barmode": "relative",
        "shapes": [
         {
          "line": {
           "color": "white",
           "dash": "dash",
           "width": 2
          },
          "name": "적정 하한",
          "type": "line",
          "x0": -0.5,
          "x1": 3.5,
          "y0": 0,
          "y1": 0
         },
         {
          "line": {
           "color": "white",
           "dash": "dash",
           "width": 2
          },
          "name": "적정 상한",
          "type": "line",
          "x0": -0.5,
          "x1": 3.5,
          "y0": 1.2,
          "y1": 1.2
         }
        ]
       },
       "config": {
        "plotlyServerURL": "https://plot.ly"
       }
      }
     },
     "metadata": {},
     "output_type": "display_data"
    }
   ],
   "execution_count": 11
  },
  {
   "metadata": {
    "ExecuteTime": {
     "end_time": "2025-07-20T02:33:52.997946Z",
     "start_time": "2025-07-20T02:33:50.253434Z"
    }
   },
   "cell_type": "code",
   "source": "fig_ec.write_image('bean_ec.png')",
   "id": "36d3cd2e5ff023d9",
   "outputs": [],
   "execution_count": 12
  }
 ],
 "metadata": {
  "kernelspec": {
   "display_name": "Python 3",
   "language": "python",
   "name": "python3"
  },
  "language_info": {
   "codemirror_mode": {
    "name": "ipython",
    "version": 2
   },
   "file_extension": ".py",
   "mimetype": "text/x-python",
   "name": "python",
   "nbconvert_exporter": "python",
   "pygments_lexer": "ipython2",
   "version": "2.7.6"
  }
 },
 "nbformat": 4,
 "nbformat_minor": 5
}
