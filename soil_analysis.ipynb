{
 "cells": [
  {
   "cell_type": "code",
   "id": "initial_id",
   "metadata": {
    "collapsed": true,
    "ExecuteTime": {
     "end_time": "2025-07-20T14:14:16.345379Z",
     "start_time": "2025-07-20T14:14:15.986040Z"
    }
   },
   "source": [
    "import pandas as pd\n",
    "import numpy as np\n",
    "import plotly.express as px"
   ],
   "outputs": [],
   "execution_count": 1
  },
  {
   "metadata": {
    "ExecuteTime": {
     "end_time": "2025-07-20T14:14:19.094071Z",
     "start_time": "2025-07-20T14:14:18.783685Z"
    }
   },
   "cell_type": "code",
   "source": [
    "data_sheet = pd.read_excel('data/2025_soil_raw_data.xlsx', sheet_name='토양성분', header=0)\n",
    "data_sheet.head(5)"
   ],
   "id": "b315377a18e9fc40",
   "outputs": [
    {
     "data": {
      "text/plain": [
       "   지역 품목      샘플코드   PH   EC   유기물  유효인산   유효규산    교환성칼륨    교환성칼슘   교환성마그네슘  \\\n",
       "0  김제  벼  GJ-R1-01  6.4  0.3  23.0  20.0  394.0  0.10965  7.18560  1.735686   \n",
       "1  김제  벼  GJ-R1-02  6.5  0.3  15.0  38.0  384.0  0.09945  7.14069  1.554714   \n",
       "2  김제  벼  GJ-R1-03  6.5  0.3  23.0  22.0  264.0  0.12240  7.19059  1.702782   \n",
       "3  김제  벼  GJ-R1-04  7.0  0.2  23.0  36.0  529.0  0.10455  7.22552  1.809720   \n",
       "4  김제  벼  GJ-R1-05  7.2  0.2  17.0  38.0  594.0  0.11475  7.48001  1.711008   \n",
       "\n",
       "   CEC   토성  sand(%)  silt(%)  clay(%)  석회소요량  \n",
       "0  NaN  NaN      NaN      NaN      NaN    NaN  \n",
       "1  NaN  NaN      NaN      NaN      NaN    NaN  \n",
       "2  NaN  NaN      NaN      NaN      NaN    NaN  \n",
       "3  NaN  NaN      NaN      NaN      NaN    NaN  \n",
       "4  NaN  NaN      NaN      NaN      NaN    NaN  "
      ],
      "text/html": [
       "<div>\n",
       "<style scoped>\n",
       "    .dataframe tbody tr th:only-of-type {\n",
       "        vertical-align: middle;\n",
       "    }\n",
       "\n",
       "    .dataframe tbody tr th {\n",
       "        vertical-align: top;\n",
       "    }\n",
       "\n",
       "    .dataframe thead th {\n",
       "        text-align: right;\n",
       "    }\n",
       "</style>\n",
       "<table border=\"1\" class=\"dataframe\">\n",
       "  <thead>\n",
       "    <tr style=\"text-align: right;\">\n",
       "      <th></th>\n",
       "      <th>지역</th>\n",
       "      <th>품목</th>\n",
       "      <th>샘플코드</th>\n",
       "      <th>PH</th>\n",
       "      <th>EC</th>\n",
       "      <th>유기물</th>\n",
       "      <th>유효인산</th>\n",
       "      <th>유효규산</th>\n",
       "      <th>교환성칼륨</th>\n",
       "      <th>교환성칼슘</th>\n",
       "      <th>교환성마그네슘</th>\n",
       "      <th>CEC</th>\n",
       "      <th>토성</th>\n",
       "      <th>sand(%)</th>\n",
       "      <th>silt(%)</th>\n",
       "      <th>clay(%)</th>\n",
       "      <th>석회소요량</th>\n",
       "    </tr>\n",
       "  </thead>\n",
       "  <tbody>\n",
       "    <tr>\n",
       "      <th>0</th>\n",
       "      <td>김제</td>\n",
       "      <td>벼</td>\n",
       "      <td>GJ-R1-01</td>\n",
       "      <td>6.4</td>\n",
       "      <td>0.3</td>\n",
       "      <td>23.0</td>\n",
       "      <td>20.0</td>\n",
       "      <td>394.0</td>\n",
       "      <td>0.10965</td>\n",
       "      <td>7.18560</td>\n",
       "      <td>1.735686</td>\n",
       "      <td>NaN</td>\n",
       "      <td>NaN</td>\n",
       "      <td>NaN</td>\n",
       "      <td>NaN</td>\n",
       "      <td>NaN</td>\n",
       "      <td>NaN</td>\n",
       "    </tr>\n",
       "    <tr>\n",
       "      <th>1</th>\n",
       "      <td>김제</td>\n",
       "      <td>벼</td>\n",
       "      <td>GJ-R1-02</td>\n",
       "      <td>6.5</td>\n",
       "      <td>0.3</td>\n",
       "      <td>15.0</td>\n",
       "      <td>38.0</td>\n",
       "      <td>384.0</td>\n",
       "      <td>0.09945</td>\n",
       "      <td>7.14069</td>\n",
       "      <td>1.554714</td>\n",
       "      <td>NaN</td>\n",
       "      <td>NaN</td>\n",
       "      <td>NaN</td>\n",
       "      <td>NaN</td>\n",
       "      <td>NaN</td>\n",
       "      <td>NaN</td>\n",
       "    </tr>\n",
       "    <tr>\n",
       "      <th>2</th>\n",
       "      <td>김제</td>\n",
       "      <td>벼</td>\n",
       "      <td>GJ-R1-03</td>\n",
       "      <td>6.5</td>\n",
       "      <td>0.3</td>\n",
       "      <td>23.0</td>\n",
       "      <td>22.0</td>\n",
       "      <td>264.0</td>\n",
       "      <td>0.12240</td>\n",
       "      <td>7.19059</td>\n",
       "      <td>1.702782</td>\n",
       "      <td>NaN</td>\n",
       "      <td>NaN</td>\n",
       "      <td>NaN</td>\n",
       "      <td>NaN</td>\n",
       "      <td>NaN</td>\n",
       "      <td>NaN</td>\n",
       "    </tr>\n",
       "    <tr>\n",
       "      <th>3</th>\n",
       "      <td>김제</td>\n",
       "      <td>벼</td>\n",
       "      <td>GJ-R1-04</td>\n",
       "      <td>7.0</td>\n",
       "      <td>0.2</td>\n",
       "      <td>23.0</td>\n",
       "      <td>36.0</td>\n",
       "      <td>529.0</td>\n",
       "      <td>0.10455</td>\n",
       "      <td>7.22552</td>\n",
       "      <td>1.809720</td>\n",
       "      <td>NaN</td>\n",
       "      <td>NaN</td>\n",
       "      <td>NaN</td>\n",
       "      <td>NaN</td>\n",
       "      <td>NaN</td>\n",
       "      <td>NaN</td>\n",
       "    </tr>\n",
       "    <tr>\n",
       "      <th>4</th>\n",
       "      <td>김제</td>\n",
       "      <td>벼</td>\n",
       "      <td>GJ-R1-05</td>\n",
       "      <td>7.2</td>\n",
       "      <td>0.2</td>\n",
       "      <td>17.0</td>\n",
       "      <td>38.0</td>\n",
       "      <td>594.0</td>\n",
       "      <td>0.11475</td>\n",
       "      <td>7.48001</td>\n",
       "      <td>1.711008</td>\n",
       "      <td>NaN</td>\n",
       "      <td>NaN</td>\n",
       "      <td>NaN</td>\n",
       "      <td>NaN</td>\n",
       "      <td>NaN</td>\n",
       "      <td>NaN</td>\n",
       "    </tr>\n",
       "  </tbody>\n",
       "</table>\n",
       "</div>"
      ]
     },
     "execution_count": 2,
     "metadata": {},
     "output_type": "execute_result"
    }
   ],
   "execution_count": 2
  },
  {
   "metadata": {
    "ExecuteTime": {
     "end_time": "2025-07-20T14:14:22.296042Z",
     "start_time": "2025-07-20T14:14:22.284692Z"
    }
   },
   "cell_type": "code",
   "source": [
    "## 지역별 통계\n",
    "print('지역별 성분 통게 분석표')\n",
    "\n",
    "sel_col = ['PH', 'EC','유기물', '유효인산', '유효규산', '교환성칼륨', '교환성칼슘', '교환성마그네슘']\n",
    "stats_table = data_sheet.groupby(['지역', '품목'])[sel_col].mean()\n",
    "stats_table"
   ],
   "id": "67e78d399f1503b0",
   "outputs": [
    {
     "name": "stdout",
     "output_type": "stream",
     "text": [
      "지역별 성분 통게 분석표\n"
     ]
    },
    {
     "data": {
      "text/plain": [
       "              PH        EC        유기물       유효인산        유효규산     교환성칼륨  \\\n",
       "지역  품목                                                                   \n",
       "구례  벼        NaN       NaN  35.931250        NaN  142.779167       NaN   \n",
       "김제  벼   6.833333  0.308333  23.770833  28.375000  387.833333  0.152787   \n",
       "    콩   6.228421  0.520947  19.353474  99.127579  275.261053  0.316526   \n",
       "새만금 콩   6.247847  0.147361   2.458472   9.423194         NaN  0.401147   \n",
       "순창  벼        NaN       NaN  50.278000        NaN  906.370000       NaN   \n",
       "    콩        NaN       NaN  42.168333        NaN  492.175000       NaN   \n",
       "화성  벼   7.341176  2.831618  18.448529  63.264706  554.588235  0.865294   \n",
       "\n",
       "           교환성칼슘   교환성마그네슘  \n",
       "지역  품목                      \n",
       "구례  벼        NaN       NaN  \n",
       "김제  벼   7.598730  1.867302  \n",
       "    콩   5.700000  1.743474  \n",
       "새만금 콩   1.211054  2.226835  \n",
       "순창  벼        NaN       NaN  \n",
       "    콩        NaN       NaN  \n",
       "화성  벼   4.712059  3.686765  "
      ],
      "text/html": [
       "<div>\n",
       "<style scoped>\n",
       "    .dataframe tbody tr th:only-of-type {\n",
       "        vertical-align: middle;\n",
       "    }\n",
       "\n",
       "    .dataframe tbody tr th {\n",
       "        vertical-align: top;\n",
       "    }\n",
       "\n",
       "    .dataframe thead th {\n",
       "        text-align: right;\n",
       "    }\n",
       "</style>\n",
       "<table border=\"1\" class=\"dataframe\">\n",
       "  <thead>\n",
       "    <tr style=\"text-align: right;\">\n",
       "      <th></th>\n",
       "      <th></th>\n",
       "      <th>PH</th>\n",
       "      <th>EC</th>\n",
       "      <th>유기물</th>\n",
       "      <th>유효인산</th>\n",
       "      <th>유효규산</th>\n",
       "      <th>교환성칼륨</th>\n",
       "      <th>교환성칼슘</th>\n",
       "      <th>교환성마그네슘</th>\n",
       "    </tr>\n",
       "    <tr>\n",
       "      <th>지역</th>\n",
       "      <th>품목</th>\n",
       "      <th></th>\n",
       "      <th></th>\n",
       "      <th></th>\n",
       "      <th></th>\n",
       "      <th></th>\n",
       "      <th></th>\n",
       "      <th></th>\n",
       "      <th></th>\n",
       "    </tr>\n",
       "  </thead>\n",
       "  <tbody>\n",
       "    <tr>\n",
       "      <th>구례</th>\n",
       "      <th>벼</th>\n",
       "      <td>NaN</td>\n",
       "      <td>NaN</td>\n",
       "      <td>35.931250</td>\n",
       "      <td>NaN</td>\n",
       "      <td>142.779167</td>\n",
       "      <td>NaN</td>\n",
       "      <td>NaN</td>\n",
       "      <td>NaN</td>\n",
       "    </tr>\n",
       "    <tr>\n",
       "      <th rowspan=\"2\" valign=\"top\">김제</th>\n",
       "      <th>벼</th>\n",
       "      <td>6.833333</td>\n",
       "      <td>0.308333</td>\n",
       "      <td>23.770833</td>\n",
       "      <td>28.375000</td>\n",
       "      <td>387.833333</td>\n",
       "      <td>0.152787</td>\n",
       "      <td>7.598730</td>\n",
       "      <td>1.867302</td>\n",
       "    </tr>\n",
       "    <tr>\n",
       "      <th>콩</th>\n",
       "      <td>6.228421</td>\n",
       "      <td>0.520947</td>\n",
       "      <td>19.353474</td>\n",
       "      <td>99.127579</td>\n",
       "      <td>275.261053</td>\n",
       "      <td>0.316526</td>\n",
       "      <td>5.700000</td>\n",
       "      <td>1.743474</td>\n",
       "    </tr>\n",
       "    <tr>\n",
       "      <th>새만금</th>\n",
       "      <th>콩</th>\n",
       "      <td>6.247847</td>\n",
       "      <td>0.147361</td>\n",
       "      <td>2.458472</td>\n",
       "      <td>9.423194</td>\n",
       "      <td>NaN</td>\n",
       "      <td>0.401147</td>\n",
       "      <td>1.211054</td>\n",
       "      <td>2.226835</td>\n",
       "    </tr>\n",
       "    <tr>\n",
       "      <th rowspan=\"2\" valign=\"top\">순창</th>\n",
       "      <th>벼</th>\n",
       "      <td>NaN</td>\n",
       "      <td>NaN</td>\n",
       "      <td>50.278000</td>\n",
       "      <td>NaN</td>\n",
       "      <td>906.370000</td>\n",
       "      <td>NaN</td>\n",
       "      <td>NaN</td>\n",
       "      <td>NaN</td>\n",
       "    </tr>\n",
       "    <tr>\n",
       "      <th>콩</th>\n",
       "      <td>NaN</td>\n",
       "      <td>NaN</td>\n",
       "      <td>42.168333</td>\n",
       "      <td>NaN</td>\n",
       "      <td>492.175000</td>\n",
       "      <td>NaN</td>\n",
       "      <td>NaN</td>\n",
       "      <td>NaN</td>\n",
       "    </tr>\n",
       "    <tr>\n",
       "      <th>화성</th>\n",
       "      <th>벼</th>\n",
       "      <td>7.341176</td>\n",
       "      <td>2.831618</td>\n",
       "      <td>18.448529</td>\n",
       "      <td>63.264706</td>\n",
       "      <td>554.588235</td>\n",
       "      <td>0.865294</td>\n",
       "      <td>4.712059</td>\n",
       "      <td>3.686765</td>\n",
       "    </tr>\n",
       "  </tbody>\n",
       "</table>\n",
       "</div>"
      ]
     },
     "execution_count": 3,
     "metadata": {},
     "output_type": "execute_result"
    }
   ],
   "execution_count": 3
  },
  {
   "metadata": {
    "ExecuteTime": {
     "end_time": "2025-07-20T14:14:24.250889Z",
     "start_time": "2025-07-20T14:14:24.241675Z"
    }
   },
   "cell_type": "code",
   "source": [
    "stats_table = stats_table.reset_index()\n",
    "stats_table"
   ],
   "id": "9cb2ecfdd1790a6d",
   "outputs": [
    {
     "data": {
      "text/plain": [
       "    지역 품목        PH        EC        유기물       유효인산        유효규산     교환성칼륨  \\\n",
       "0   구례  벼       NaN       NaN  35.931250        NaN  142.779167       NaN   \n",
       "1   김제  벼  6.833333  0.308333  23.770833  28.375000  387.833333  0.152787   \n",
       "2   김제  콩  6.228421  0.520947  19.353474  99.127579  275.261053  0.316526   \n",
       "3  새만금  콩  6.247847  0.147361   2.458472   9.423194         NaN  0.401147   \n",
       "4   순창  벼       NaN       NaN  50.278000        NaN  906.370000       NaN   \n",
       "5   순창  콩       NaN       NaN  42.168333        NaN  492.175000       NaN   \n",
       "6   화성  벼  7.341176  2.831618  18.448529  63.264706  554.588235  0.865294   \n",
       "\n",
       "      교환성칼슘   교환성마그네슘  \n",
       "0       NaN       NaN  \n",
       "1  7.598730  1.867302  \n",
       "2  5.700000  1.743474  \n",
       "3  1.211054  2.226835  \n",
       "4       NaN       NaN  \n",
       "5       NaN       NaN  \n",
       "6  4.712059  3.686765  "
      ],
      "text/html": [
       "<div>\n",
       "<style scoped>\n",
       "    .dataframe tbody tr th:only-of-type {\n",
       "        vertical-align: middle;\n",
       "    }\n",
       "\n",
       "    .dataframe tbody tr th {\n",
       "        vertical-align: top;\n",
       "    }\n",
       "\n",
       "    .dataframe thead th {\n",
       "        text-align: right;\n",
       "    }\n",
       "</style>\n",
       "<table border=\"1\" class=\"dataframe\">\n",
       "  <thead>\n",
       "    <tr style=\"text-align: right;\">\n",
       "      <th></th>\n",
       "      <th>지역</th>\n",
       "      <th>품목</th>\n",
       "      <th>PH</th>\n",
       "      <th>EC</th>\n",
       "      <th>유기물</th>\n",
       "      <th>유효인산</th>\n",
       "      <th>유효규산</th>\n",
       "      <th>교환성칼륨</th>\n",
       "      <th>교환성칼슘</th>\n",
       "      <th>교환성마그네슘</th>\n",
       "    </tr>\n",
       "  </thead>\n",
       "  <tbody>\n",
       "    <tr>\n",
       "      <th>0</th>\n",
       "      <td>구례</td>\n",
       "      <td>벼</td>\n",
       "      <td>NaN</td>\n",
       "      <td>NaN</td>\n",
       "      <td>35.931250</td>\n",
       "      <td>NaN</td>\n",
       "      <td>142.779167</td>\n",
       "      <td>NaN</td>\n",
       "      <td>NaN</td>\n",
       "      <td>NaN</td>\n",
       "    </tr>\n",
       "    <tr>\n",
       "      <th>1</th>\n",
       "      <td>김제</td>\n",
       "      <td>벼</td>\n",
       "      <td>6.833333</td>\n",
       "      <td>0.308333</td>\n",
       "      <td>23.770833</td>\n",
       "      <td>28.375000</td>\n",
       "      <td>387.833333</td>\n",
       "      <td>0.152787</td>\n",
       "      <td>7.598730</td>\n",
       "      <td>1.867302</td>\n",
       "    </tr>\n",
       "    <tr>\n",
       "      <th>2</th>\n",
       "      <td>김제</td>\n",
       "      <td>콩</td>\n",
       "      <td>6.228421</td>\n",
       "      <td>0.520947</td>\n",
       "      <td>19.353474</td>\n",
       "      <td>99.127579</td>\n",
       "      <td>275.261053</td>\n",
       "      <td>0.316526</td>\n",
       "      <td>5.700000</td>\n",
       "      <td>1.743474</td>\n",
       "    </tr>\n",
       "    <tr>\n",
       "      <th>3</th>\n",
       "      <td>새만금</td>\n",
       "      <td>콩</td>\n",
       "      <td>6.247847</td>\n",
       "      <td>0.147361</td>\n",
       "      <td>2.458472</td>\n",
       "      <td>9.423194</td>\n",
       "      <td>NaN</td>\n",
       "      <td>0.401147</td>\n",
       "      <td>1.211054</td>\n",
       "      <td>2.226835</td>\n",
       "    </tr>\n",
       "    <tr>\n",
       "      <th>4</th>\n",
       "      <td>순창</td>\n",
       "      <td>벼</td>\n",
       "      <td>NaN</td>\n",
       "      <td>NaN</td>\n",
       "      <td>50.278000</td>\n",
       "      <td>NaN</td>\n",
       "      <td>906.370000</td>\n",
       "      <td>NaN</td>\n",
       "      <td>NaN</td>\n",
       "      <td>NaN</td>\n",
       "    </tr>\n",
       "    <tr>\n",
       "      <th>5</th>\n",
       "      <td>순창</td>\n",
       "      <td>콩</td>\n",
       "      <td>NaN</td>\n",
       "      <td>NaN</td>\n",
       "      <td>42.168333</td>\n",
       "      <td>NaN</td>\n",
       "      <td>492.175000</td>\n",
       "      <td>NaN</td>\n",
       "      <td>NaN</td>\n",
       "      <td>NaN</td>\n",
       "    </tr>\n",
       "    <tr>\n",
       "      <th>6</th>\n",
       "      <td>화성</td>\n",
       "      <td>벼</td>\n",
       "      <td>7.341176</td>\n",
       "      <td>2.831618</td>\n",
       "      <td>18.448529</td>\n",
       "      <td>63.264706</td>\n",
       "      <td>554.588235</td>\n",
       "      <td>0.865294</td>\n",
       "      <td>4.712059</td>\n",
       "      <td>3.686765</td>\n",
       "    </tr>\n",
       "  </tbody>\n",
       "</table>\n",
       "</div>"
      ]
     },
     "execution_count": 4,
     "metadata": {},
     "output_type": "execute_result"
    }
   ],
   "execution_count": 4
  },
  {
   "metadata": {
    "ExecuteTime": {
     "end_time": "2025-07-20T14:14:28.831689Z",
     "start_time": "2025-07-20T14:14:28.827207Z"
    }
   },
   "cell_type": "code",
   "source": [
    "stats_table_rice = stats_table[stats_table['품목'] == '벼']\n",
    "stats_table_bean = stats_table[stats_table['품목'] == '콩']"
   ],
   "id": "6c8cf036b00e2749",
   "outputs": [],
   "execution_count": 5
  },
  {
   "metadata": {
    "ExecuteTime": {
     "end_time": "2025-07-20T14:14:31.054322Z",
     "start_time": "2025-07-20T14:14:31.045934Z"
    }
   },
   "cell_type": "code",
   "source": "stats_table_rice",
   "id": "bbf89f2cce958d5a",
   "outputs": [
    {
     "data": {
      "text/plain": [
       "   지역 품목        PH        EC        유기물       유효인산        유효규산     교환성칼륨  \\\n",
       "0  구례  벼       NaN       NaN  35.931250        NaN  142.779167       NaN   \n",
       "1  김제  벼  6.833333  0.308333  23.770833  28.375000  387.833333  0.152787   \n",
       "4  순창  벼       NaN       NaN  50.278000        NaN  906.370000       NaN   \n",
       "6  화성  벼  7.341176  2.831618  18.448529  63.264706  554.588235  0.865294   \n",
       "\n",
       "      교환성칼슘   교환성마그네슘  \n",
       "0       NaN       NaN  \n",
       "1  7.598730  1.867302  \n",
       "4       NaN       NaN  \n",
       "6  4.712059  3.686765  "
      ],
      "text/html": [
       "<div>\n",
       "<style scoped>\n",
       "    .dataframe tbody tr th:only-of-type {\n",
       "        vertical-align: middle;\n",
       "    }\n",
       "\n",
       "    .dataframe tbody tr th {\n",
       "        vertical-align: top;\n",
       "    }\n",
       "\n",
       "    .dataframe thead th {\n",
       "        text-align: right;\n",
       "    }\n",
       "</style>\n",
       "<table border=\"1\" class=\"dataframe\">\n",
       "  <thead>\n",
       "    <tr style=\"text-align: right;\">\n",
       "      <th></th>\n",
       "      <th>지역</th>\n",
       "      <th>품목</th>\n",
       "      <th>PH</th>\n",
       "      <th>EC</th>\n",
       "      <th>유기물</th>\n",
       "      <th>유효인산</th>\n",
       "      <th>유효규산</th>\n",
       "      <th>교환성칼륨</th>\n",
       "      <th>교환성칼슘</th>\n",
       "      <th>교환성마그네슘</th>\n",
       "    </tr>\n",
       "  </thead>\n",
       "  <tbody>\n",
       "    <tr>\n",
       "      <th>0</th>\n",
       "      <td>구례</td>\n",
       "      <td>벼</td>\n",
       "      <td>NaN</td>\n",
       "      <td>NaN</td>\n",
       "      <td>35.931250</td>\n",
       "      <td>NaN</td>\n",
       "      <td>142.779167</td>\n",
       "      <td>NaN</td>\n",
       "      <td>NaN</td>\n",
       "      <td>NaN</td>\n",
       "    </tr>\n",
       "    <tr>\n",
       "      <th>1</th>\n",
       "      <td>김제</td>\n",
       "      <td>벼</td>\n",
       "      <td>6.833333</td>\n",
       "      <td>0.308333</td>\n",
       "      <td>23.770833</td>\n",
       "      <td>28.375000</td>\n",
       "      <td>387.833333</td>\n",
       "      <td>0.152787</td>\n",
       "      <td>7.598730</td>\n",
       "      <td>1.867302</td>\n",
       "    </tr>\n",
       "    <tr>\n",
       "      <th>4</th>\n",
       "      <td>순창</td>\n",
       "      <td>벼</td>\n",
       "      <td>NaN</td>\n",
       "      <td>NaN</td>\n",
       "      <td>50.278000</td>\n",
       "      <td>NaN</td>\n",
       "      <td>906.370000</td>\n",
       "      <td>NaN</td>\n",
       "      <td>NaN</td>\n",
       "      <td>NaN</td>\n",
       "    </tr>\n",
       "    <tr>\n",
       "      <th>6</th>\n",
       "      <td>화성</td>\n",
       "      <td>벼</td>\n",
       "      <td>7.341176</td>\n",
       "      <td>2.831618</td>\n",
       "      <td>18.448529</td>\n",
       "      <td>63.264706</td>\n",
       "      <td>554.588235</td>\n",
       "      <td>0.865294</td>\n",
       "      <td>4.712059</td>\n",
       "      <td>3.686765</td>\n",
       "    </tr>\n",
       "  </tbody>\n",
       "</table>\n",
       "</div>"
      ]
     },
     "execution_count": 6,
     "metadata": {},
     "output_type": "execute_result"
    }
   ],
   "execution_count": 6
  },
  {
   "metadata": {
    "ExecuteTime": {
     "end_time": "2025-07-20T14:14:33.355563Z",
     "start_time": "2025-07-20T14:14:33.347561Z"
    }
   },
   "cell_type": "code",
   "source": "stats_table_bean",
   "id": "350113eef62b4d1e",
   "outputs": [
    {
     "data": {
      "text/plain": [
       "    지역 품목        PH        EC        유기물       유효인산        유효규산     교환성칼륨  \\\n",
       "2   김제  콩  6.228421  0.520947  19.353474  99.127579  275.261053  0.316526   \n",
       "3  새만금  콩  6.247847  0.147361   2.458472   9.423194         NaN  0.401147   \n",
       "5   순창  콩       NaN       NaN  42.168333        NaN  492.175000       NaN   \n",
       "\n",
       "      교환성칼슘   교환성마그네슘  \n",
       "2  5.700000  1.743474  \n",
       "3  1.211054  2.226835  \n",
       "5       NaN       NaN  "
      ],
      "text/html": [
       "<div>\n",
       "<style scoped>\n",
       "    .dataframe tbody tr th:only-of-type {\n",
       "        vertical-align: middle;\n",
       "    }\n",
       "\n",
       "    .dataframe tbody tr th {\n",
       "        vertical-align: top;\n",
       "    }\n",
       "\n",
       "    .dataframe thead th {\n",
       "        text-align: right;\n",
       "    }\n",
       "</style>\n",
       "<table border=\"1\" class=\"dataframe\">\n",
       "  <thead>\n",
       "    <tr style=\"text-align: right;\">\n",
       "      <th></th>\n",
       "      <th>지역</th>\n",
       "      <th>품목</th>\n",
       "      <th>PH</th>\n",
       "      <th>EC</th>\n",
       "      <th>유기물</th>\n",
       "      <th>유효인산</th>\n",
       "      <th>유효규산</th>\n",
       "      <th>교환성칼륨</th>\n",
       "      <th>교환성칼슘</th>\n",
       "      <th>교환성마그네슘</th>\n",
       "    </tr>\n",
       "  </thead>\n",
       "  <tbody>\n",
       "    <tr>\n",
       "      <th>2</th>\n",
       "      <td>김제</td>\n",
       "      <td>콩</td>\n",
       "      <td>6.228421</td>\n",
       "      <td>0.520947</td>\n",
       "      <td>19.353474</td>\n",
       "      <td>99.127579</td>\n",
       "      <td>275.261053</td>\n",
       "      <td>0.316526</td>\n",
       "      <td>5.700000</td>\n",
       "      <td>1.743474</td>\n",
       "    </tr>\n",
       "    <tr>\n",
       "      <th>3</th>\n",
       "      <td>새만금</td>\n",
       "      <td>콩</td>\n",
       "      <td>6.247847</td>\n",
       "      <td>0.147361</td>\n",
       "      <td>2.458472</td>\n",
       "      <td>9.423194</td>\n",
       "      <td>NaN</td>\n",
       "      <td>0.401147</td>\n",
       "      <td>1.211054</td>\n",
       "      <td>2.226835</td>\n",
       "    </tr>\n",
       "    <tr>\n",
       "      <th>5</th>\n",
       "      <td>순창</td>\n",
       "      <td>콩</td>\n",
       "      <td>NaN</td>\n",
       "      <td>NaN</td>\n",
       "      <td>42.168333</td>\n",
       "      <td>NaN</td>\n",
       "      <td>492.175000</td>\n",
       "      <td>NaN</td>\n",
       "      <td>NaN</td>\n",
       "      <td>NaN</td>\n",
       "    </tr>\n",
       "  </tbody>\n",
       "</table>\n",
       "</div>"
      ]
     },
     "execution_count": 7,
     "metadata": {},
     "output_type": "execute_result"
    }
   ],
   "execution_count": 7
  },
  {
   "metadata": {
    "ExecuteTime": {
     "end_time": "2025-07-20T14:12:44.809186Z",
     "start_time": "2025-07-20T14:12:44.771673Z"
    }
   },
   "cell_type": "code",
   "source": [
    "#ph\n",
    "fig_ph = px.bar(stats_table_bean, x='지역', y='PH', text_auto='.3s', title='지역별(콩) pH 평균치')\n",
    "fig_ph.add_shape(\n",
    "    type='line',\n",
    "    x0=-0.5,\n",
    "    x1=1.5,\n",
    "    y0=6.5,\n",
    "    y1=6.5,\n",
    "    line=dict(color=\"white\", width=2, dash='dash'),\n",
    "    name='적정 하한'\n",
    ")\n",
    "\n",
    "fig_ph.add_shape(\n",
    "    type='line',\n",
    "    x0=-0.5,\n",
    "    x1=1.5,\n",
    "    y0=7.0,\n",
    "    y1=7.0,\n",
    "    line=dict(color=\"white\", width=2, dash='dash'),\n",
    "    name='적정 상한'\n",
    ")\n",
    "\n",
    "fig_ph.update_traces(textposition='inside')\n",
    "\n",
    "fig_ph.show()"
   ],
   "id": "b96ff86377ceff73",
   "outputs": [
    {
     "data": {
      "application/vnd.plotly.v1+json": {
       "data": [
        {
         "hovertemplate": "지역=%{x}<br>PH=%{y}<extra></extra>",
         "legendgroup": "",
         "marker": {
          "color": "#636efa",
          "pattern": {
           "shape": ""
          }
         },
         "name": "",
         "orientation": "v",
         "showlegend": false,
         "textposition": "inside",
         "texttemplate": "%{y:.3s}",
         "x": [
          "김제",
          "새만금",
          "순창"
         ],
         "xaxis": "x",
         "y": {
          "dtype": "f8",
          "bdata": "BRVbNefpGEBEZYepy/0YQAAAAAAAAPh/"
         },
         "yaxis": "y",
         "type": "bar"
        }
       ],
       "layout": {
        "template": {
         "data": {
          "histogram2dcontour": [
           {
            "type": "histogram2dcontour",
            "colorbar": {
             "outlinewidth": 0,
             "ticks": ""
            },
            "colorscale": [
             [
              0.0,
              "#0d0887"
             ],
             [
              0.1111111111111111,
              "#46039f"
             ],
             [
              0.2222222222222222,
              "#7201a8"
             ],
             [
              0.3333333333333333,
              "#9c179e"
             ],
             [
              0.4444444444444444,
              "#bd3786"
             ],
             [
              0.5555555555555556,
              "#d8576b"
             ],
             [
              0.6666666666666666,
              "#ed7953"
             ],
             [
              0.7777777777777778,
              "#fb9f3a"
             ],
             [
              0.8888888888888888,
              "#fdca26"
             ],
             [
              1.0,
              "#f0f921"
             ]
            ]
           }
          ],
          "choropleth": [
           {
            "type": "choropleth",
            "colorbar": {
             "outlinewidth": 0,
             "ticks": ""
            }
           }
          ],
          "histogram2d": [
           {
            "type": "histogram2d",
            "colorbar": {
             "outlinewidth": 0,
             "ticks": ""
            },
            "colorscale": [
             [
              0.0,
              "#0d0887"
             ],
             [
              0.1111111111111111,
              "#46039f"
             ],
             [
              0.2222222222222222,
              "#7201a8"
             ],
             [
              0.3333333333333333,
              "#9c179e"
             ],
             [
              0.4444444444444444,
              "#bd3786"
             ],
             [
              0.5555555555555556,
              "#d8576b"
             ],
             [
              0.6666666666666666,
              "#ed7953"
             ],
             [
              0.7777777777777778,
              "#fb9f3a"
             ],
             [
              0.8888888888888888,
              "#fdca26"
             ],
             [
              1.0,
              "#f0f921"
             ]
            ]
           }
          ],
          "heatmap": [
           {
            "type": "heatmap",
            "colorbar": {
             "outlinewidth": 0,
             "ticks": ""
            },
            "colorscale": [
             [
              0.0,
              "#0d0887"
             ],
             [
              0.1111111111111111,
              "#46039f"
             ],
             [
              0.2222222222222222,
              "#7201a8"
             ],
             [
              0.3333333333333333,
              "#9c179e"
             ],
             [
              0.4444444444444444,
              "#bd3786"
             ],
             [
              0.5555555555555556,
              "#d8576b"
             ],
             [
              0.6666666666666666,
              "#ed7953"
             ],
             [
              0.7777777777777778,
              "#fb9f3a"
             ],
             [
              0.8888888888888888,
              "#fdca26"
             ],
             [
              1.0,
              "#f0f921"
             ]
            ]
           }
          ],
          "contourcarpet": [
           {
            "type": "contourcarpet",
            "colorbar": {
             "outlinewidth": 0,
             "ticks": ""
            }
           }
          ],
          "contour": [
           {
            "type": "contour",
            "colorbar": {
             "outlinewidth": 0,
             "ticks": ""
            },
            "colorscale": [
             [
              0.0,
              "#0d0887"
             ],
             [
              0.1111111111111111,
              "#46039f"
             ],
             [
              0.2222222222222222,
              "#7201a8"
             ],
             [
              0.3333333333333333,
              "#9c179e"
             ],
             [
              0.4444444444444444,
              "#bd3786"
             ],
             [
              0.5555555555555556,
              "#d8576b"
             ],
             [
              0.6666666666666666,
              "#ed7953"
             ],
             [
              0.7777777777777778,
              "#fb9f3a"
             ],
             [
              0.8888888888888888,
              "#fdca26"
             ],
             [
              1.0,
              "#f0f921"
             ]
            ]
           }
          ],
          "surface": [
           {
            "type": "surface",
            "colorbar": {
             "outlinewidth": 0,
             "ticks": ""
            },
            "colorscale": [
             [
              0.0,
              "#0d0887"
             ],
             [
              0.1111111111111111,
              "#46039f"
             ],
             [
              0.2222222222222222,
              "#7201a8"
             ],
             [
              0.3333333333333333,
              "#9c179e"
             ],
             [
              0.4444444444444444,
              "#bd3786"
             ],
             [
              0.5555555555555556,
              "#d8576b"
             ],
             [
              0.6666666666666666,
              "#ed7953"
             ],
             [
              0.7777777777777778,
              "#fb9f3a"
             ],
             [
              0.8888888888888888,
              "#fdca26"
             ],
             [
              1.0,
              "#f0f921"
             ]
            ]
           }
          ],
          "mesh3d": [
           {
            "type": "mesh3d",
            "colorbar": {
             "outlinewidth": 0,
             "ticks": ""
            }
           }
          ],
          "scatter": [
           {
            "marker": {
             "line": {
              "color": "#283442"
             }
            },
            "type": "scatter"
           }
          ],
          "parcoords": [
           {
            "type": "parcoords",
            "line": {
             "colorbar": {
              "outlinewidth": 0,
              "ticks": ""
             }
            }
           }
          ],
          "scatterpolargl": [
           {
            "type": "scatterpolargl",
            "marker": {
             "colorbar": {
              "outlinewidth": 0,
              "ticks": ""
             }
            }
           }
          ],
          "bar": [
           {
            "error_x": {
             "color": "#f2f5fa"
            },
            "error_y": {
             "color": "#f2f5fa"
            },
            "marker": {
             "line": {
              "color": "rgb(17,17,17)",
              "width": 0.5
             },
             "pattern": {
              "fillmode": "overlay",
              "size": 10,
              "solidity": 0.2
             }
            },
            "type": "bar"
           }
          ],
          "scattergeo": [
           {
            "type": "scattergeo",
            "marker": {
             "colorbar": {
              "outlinewidth": 0,
              "ticks": ""
             }
            }
           }
          ],
          "scatterpolar": [
           {
            "type": "scatterpolar",
            "marker": {
             "colorbar": {
              "outlinewidth": 0,
              "ticks": ""
             }
            }
           }
          ],
          "histogram": [
           {
            "marker": {
             "pattern": {
              "fillmode": "overlay",
              "size": 10,
              "solidity": 0.2
             }
            },
            "type": "histogram"
           }
          ],
          "scattergl": [
           {
            "marker": {
             "line": {
              "color": "#283442"
             }
            },
            "type": "scattergl"
           }
          ],
          "scatter3d": [
           {
            "type": "scatter3d",
            "line": {
             "colorbar": {
              "outlinewidth": 0,
              "ticks": ""
             }
            },
            "marker": {
             "colorbar": {
              "outlinewidth": 0,
              "ticks": ""
             }
            }
           }
          ],
          "scattermap": [
           {
            "type": "scattermap",
            "marker": {
             "colorbar": {
              "outlinewidth": 0,
              "ticks": ""
             }
            }
           }
          ],
          "scattermapbox": [
           {
            "type": "scattermapbox",
            "marker": {
             "colorbar": {
              "outlinewidth": 0,
              "ticks": ""
             }
            }
           }
          ],
          "scatterternary": [
           {
            "type": "scatterternary",
            "marker": {
             "colorbar": {
              "outlinewidth": 0,
              "ticks": ""
             }
            }
           }
          ],
          "scattercarpet": [
           {
            "type": "scattercarpet",
            "marker": {
             "colorbar": {
              "outlinewidth": 0,
              "ticks": ""
             }
            }
           }
          ],
          "carpet": [
           {
            "aaxis": {
             "endlinecolor": "#A2B1C6",
             "gridcolor": "#506784",
             "linecolor": "#506784",
             "minorgridcolor": "#506784",
             "startlinecolor": "#A2B1C6"
            },
            "baxis": {
             "endlinecolor": "#A2B1C6",
             "gridcolor": "#506784",
             "linecolor": "#506784",
             "minorgridcolor": "#506784",
             "startlinecolor": "#A2B1C6"
            },
            "type": "carpet"
           }
          ],
          "table": [
           {
            "cells": {
             "fill": {
              "color": "#506784"
             },
             "line": {
              "color": "rgb(17,17,17)"
             }
            },
            "header": {
             "fill": {
              "color": "#2a3f5f"
             },
             "line": {
              "color": "rgb(17,17,17)"
             }
            },
            "type": "table"
           }
          ],
          "barpolar": [
           {
            "marker": {
             "line": {
              "color": "rgb(17,17,17)",
              "width": 0.5
             },
             "pattern": {
              "fillmode": "overlay",
              "size": 10,
              "solidity": 0.2
             }
            },
            "type": "barpolar"
           }
          ],
          "pie": [
           {
            "automargin": true,
            "type": "pie"
           }
          ]
         },
         "layout": {
          "autotypenumbers": "strict",
          "colorway": [
           "#636efa",
           "#EF553B",
           "#00cc96",
           "#ab63fa",
           "#FFA15A",
           "#19d3f3",
           "#FF6692",
           "#B6E880",
           "#FF97FF",
           "#FECB52"
          ],
          "font": {
           "color": "#f2f5fa"
          },
          "hovermode": "closest",
          "hoverlabel": {
           "align": "left"
          },
          "paper_bgcolor": "rgb(17,17,17)",
          "plot_bgcolor": "rgb(17,17,17)",
          "polar": {
           "bgcolor": "rgb(17,17,17)",
           "angularaxis": {
            "gridcolor": "#506784",
            "linecolor": "#506784",
            "ticks": ""
           },
           "radialaxis": {
            "gridcolor": "#506784",
            "linecolor": "#506784",
            "ticks": ""
           }
          },
          "ternary": {
           "bgcolor": "rgb(17,17,17)",
           "aaxis": {
            "gridcolor": "#506784",
            "linecolor": "#506784",
            "ticks": ""
           },
           "baxis": {
            "gridcolor": "#506784",
            "linecolor": "#506784",
            "ticks": ""
           },
           "caxis": {
            "gridcolor": "#506784",
            "linecolor": "#506784",
            "ticks": ""
           }
          },
          "coloraxis": {
           "colorbar": {
            "outlinewidth": 0,
            "ticks": ""
           }
          },
          "colorscale": {
           "sequential": [
            [
             0.0,
             "#0d0887"
            ],
            [
             0.1111111111111111,
             "#46039f"
            ],
            [
             0.2222222222222222,
             "#7201a8"
            ],
            [
             0.3333333333333333,
             "#9c179e"
            ],
            [
             0.4444444444444444,
             "#bd3786"
            ],
            [
             0.5555555555555556,
             "#d8576b"
            ],
            [
             0.6666666666666666,
             "#ed7953"
            ],
            [
             0.7777777777777778,
             "#fb9f3a"
            ],
            [
             0.8888888888888888,
             "#fdca26"
            ],
            [
             1.0,
             "#f0f921"
            ]
           ],
           "sequentialminus": [
            [
             0.0,
             "#0d0887"
            ],
            [
             0.1111111111111111,
             "#46039f"
            ],
            [
             0.2222222222222222,
             "#7201a8"
            ],
            [
             0.3333333333333333,
             "#9c179e"
            ],
            [
             0.4444444444444444,
             "#bd3786"
            ],
            [
             0.5555555555555556,
             "#d8576b"
            ],
            [
             0.6666666666666666,
             "#ed7953"
            ],
            [
             0.7777777777777778,
             "#fb9f3a"
            ],
            [
             0.8888888888888888,
             "#fdca26"
            ],
            [
             1.0,
             "#f0f921"
            ]
           ],
           "diverging": [
            [
             0,
             "#8e0152"
            ],
            [
             0.1,
             "#c51b7d"
            ],
            [
             0.2,
             "#de77ae"
            ],
            [
             0.3,
             "#f1b6da"
            ],
            [
             0.4,
             "#fde0ef"
            ],
            [
             0.5,
             "#f7f7f7"
            ],
            [
             0.6,
             "#e6f5d0"
            ],
            [
             0.7,
             "#b8e186"
            ],
            [
             0.8,
             "#7fbc41"
            ],
            [
             0.9,
             "#4d9221"
            ],
            [
             1,
             "#276419"
            ]
           ]
          },
          "xaxis": {
           "gridcolor": "#283442",
           "linecolor": "#506784",
           "ticks": "",
           "title": {
            "standoff": 15
           },
           "zerolinecolor": "#283442",
           "automargin": true,
           "zerolinewidth": 2
          },
          "yaxis": {
           "gridcolor": "#283442",
           "linecolor": "#506784",
           "ticks": "",
           "title": {
            "standoff": 15
           },
           "zerolinecolor": "#283442",
           "automargin": true,
           "zerolinewidth": 2
          },
          "scene": {
           "xaxis": {
            "backgroundcolor": "rgb(17,17,17)",
            "gridcolor": "#506784",
            "linecolor": "#506784",
            "showbackground": true,
            "ticks": "",
            "zerolinecolor": "#C8D4E3",
            "gridwidth": 2
           },
           "yaxis": {
            "backgroundcolor": "rgb(17,17,17)",
            "gridcolor": "#506784",
            "linecolor": "#506784",
            "showbackground": true,
            "ticks": "",
            "zerolinecolor": "#C8D4E3",
            "gridwidth": 2
           },
           "zaxis": {
            "backgroundcolor": "rgb(17,17,17)",
            "gridcolor": "#506784",
            "linecolor": "#506784",
            "showbackground": true,
            "ticks": "",
            "zerolinecolor": "#C8D4E3",
            "gridwidth": 2
           }
          },
          "shapedefaults": {
           "line": {
            "color": "#f2f5fa"
           }
          },
          "annotationdefaults": {
           "arrowcolor": "#f2f5fa",
           "arrowhead": 0,
           "arrowwidth": 1
          },
          "geo": {
           "bgcolor": "rgb(17,17,17)",
           "landcolor": "rgb(17,17,17)",
           "subunitcolor": "#506784",
           "showland": true,
           "showlakes": true,
           "lakecolor": "rgb(17,17,17)"
          },
          "title": {
           "x": 0.05
          },
          "updatemenudefaults": {
           "bgcolor": "#506784",
           "borderwidth": 0
          },
          "sliderdefaults": {
           "bgcolor": "#C8D4E3",
           "borderwidth": 1,
           "bordercolor": "rgb(17,17,17)",
           "tickwidth": 0
          },
          "mapbox": {
           "style": "dark"
          }
         }
        },
        "xaxis": {
         "anchor": "y",
         "domain": [
          0.0,
          1.0
         ],
         "title": {
          "text": "지역"
         }
        },
        "yaxis": {
         "anchor": "x",
         "domain": [
          0.0,
          1.0
         ],
         "title": {
          "text": "PH"
         }
        },
        "legend": {
         "tracegroupgap": 0
        },
        "title": {
         "text": "지역별(콩) pH 평균치"
        },
        "barmode": "relative",
        "shapes": [
         {
          "line": {
           "color": "white",
           "dash": "dash",
           "width": 2
          },
          "name": "적정 하한",
          "type": "line",
          "x0": -0.5,
          "x1": 1.5,
          "y0": 6.5,
          "y1": 6.5
         },
         {
          "line": {
           "color": "white",
           "dash": "dash",
           "width": 2
          },
          "name": "적정 상한",
          "type": "line",
          "x0": -0.5,
          "x1": 1.5,
          "y0": 7.0,
          "y1": 7.0
         }
        ]
       },
       "config": {
        "plotlyServerURL": "https://plotly.com"
       }
      }
     },
     "metadata": {},
     "output_type": "display_data"
    }
   ],
   "execution_count": 20
  },
  {
   "metadata": {
    "ExecuteTime": {
     "end_time": "2025-07-19T14:22:08.134397Z",
     "start_time": "2025-07-19T14:22:08.102295Z"
    }
   },
   "cell_type": "code",
   "source": "fig_ph.write_image('bean_ph.png')",
   "id": "1571715f1aeae016",
   "outputs": [],
   "execution_count": 43
  },
  {
   "metadata": {
    "ExecuteTime": {
     "end_time": "2025-07-20T02:33:36.603976Z",
     "start_time": "2025-07-20T02:33:36.574989Z"
    }
   },
   "cell_type": "code",
   "source": [
    "#EC\n",
    "fig_ec = px.bar(stats_table_bean, x='지역', y='EC', text_auto='.2s', title='지역별(콩) EC 평균치')\n",
    "fig_ec.add_shape(\n",
    "    type='line',\n",
    "    x0=-0.5,\n",
    "    x1=3.5,\n",
    "    y0=0,\n",
    "    y1=0,\n",
    "    line=dict(color=\"white\", width=2, dash='dash'),\n",
    "    name='적정 하한'\n",
    ")\n",
    "\n",
    "fig_ec.add_shape(\n",
    "    type='line',\n",
    "    x0=-0.5,\n",
    "    x1=3.5,\n",
    "    y0=1.2,\n",
    "    y1=1.2,\n",
    "    line=dict(color=\"white\", width=2, dash='dash'),\n",
    "    name='적정 상한'\n",
    ")\n",
    "\n",
    "fig_ec.update_traces(textposition='inside')\n",
    "\n",
    "fig_ec.show()"
   ],
   "id": "719aa1ce8b359867",
   "outputs": [
    {
     "data": {
      "application/vnd.plotly.v1+json": {
       "data": [
        {
         "hovertemplate": "지역=%{x}<br>EC=%{y}<extra></extra>",
         "legendgroup": "",
         "marker": {
          "color": "#636efa",
          "pattern": {
           "shape": ""
          }
         },
         "name": "",
         "orientation": "v",
         "showlegend": false,
         "textposition": "inside",
         "texttemplate": "%{y:.2s}",
         "x": [
          "김제",
          "새만금",
          "순창"
         ],
         "xaxis": "x",
         "y": {
          "dtype": "f8",
          "bdata": "KsjJ0Jmr4D8yVHaYutzCPwAAAAAAAPh/"
         },
         "yaxis": "y",
         "type": "bar"
        }
       ],
       "layout": {
        "template": {
         "data": {
          "histogram2dcontour": [
           {
            "type": "histogram2dcontour",
            "colorbar": {
             "outlinewidth": 0,
             "ticks": ""
            },
            "colorscale": [
             [
              0.0,
              "#0d0887"
             ],
             [
              0.1111111111111111,
              "#46039f"
             ],
             [
              0.2222222222222222,
              "#7201a8"
             ],
             [
              0.3333333333333333,
              "#9c179e"
             ],
             [
              0.4444444444444444,
              "#bd3786"
             ],
             [
              0.5555555555555556,
              "#d8576b"
             ],
             [
              0.6666666666666666,
              "#ed7953"
             ],
             [
              0.7777777777777778,
              "#fb9f3a"
             ],
             [
              0.8888888888888888,
              "#fdca26"
             ],
             [
              1.0,
              "#f0f921"
             ]
            ]
           }
          ],
          "choropleth": [
           {
            "type": "choropleth",
            "colorbar": {
             "outlinewidth": 0,
             "ticks": ""
            }
           }
          ],
          "histogram2d": [
           {
            "type": "histogram2d",
            "colorbar": {
             "outlinewidth": 0,
             "ticks": ""
            },
            "colorscale": [
             [
              0.0,
              "#0d0887"
             ],
             [
              0.1111111111111111,
              "#46039f"
             ],
             [
              0.2222222222222222,
              "#7201a8"
             ],
             [
              0.3333333333333333,
              "#9c179e"
             ],
             [
              0.4444444444444444,
              "#bd3786"
             ],
             [
              0.5555555555555556,
              "#d8576b"
             ],
             [
              0.6666666666666666,
              "#ed7953"
             ],
             [
              0.7777777777777778,
              "#fb9f3a"
             ],
             [
              0.8888888888888888,
              "#fdca26"
             ],
             [
              1.0,
              "#f0f921"
             ]
            ]
           }
          ],
          "heatmap": [
           {
            "type": "heatmap",
            "colorbar": {
             "outlinewidth": 0,
             "ticks": ""
            },
            "colorscale": [
             [
              0.0,
              "#0d0887"
             ],
             [
              0.1111111111111111,
              "#46039f"
             ],
             [
              0.2222222222222222,
              "#7201a8"
             ],
             [
              0.3333333333333333,
              "#9c179e"
             ],
             [
              0.4444444444444444,
              "#bd3786"
             ],
             [
              0.5555555555555556,
              "#d8576b"
             ],
             [
              0.6666666666666666,
              "#ed7953"
             ],
             [
              0.7777777777777778,
              "#fb9f3a"
             ],
             [
              0.8888888888888888,
              "#fdca26"
             ],
             [
              1.0,
              "#f0f921"
             ]
            ]
           }
          ],
          "contourcarpet": [
           {
            "type": "contourcarpet",
            "colorbar": {
             "outlinewidth": 0,
             "ticks": ""
            }
           }
          ],
          "contour": [
           {
            "type": "contour",
            "colorbar": {
             "outlinewidth": 0,
             "ticks": ""
            },
            "colorscale": [
             [
              0.0,
              "#0d0887"
             ],
             [
              0.1111111111111111,
              "#46039f"
             ],
             [
              0.2222222222222222,
              "#7201a8"
             ],
             [
              0.3333333333333333,
              "#9c179e"
             ],
             [
              0.4444444444444444,
              "#bd3786"
             ],
             [
              0.5555555555555556,
              "#d8576b"
             ],
             [
              0.6666666666666666,
              "#ed7953"
             ],
             [
              0.7777777777777778,
              "#fb9f3a"
             ],
             [
              0.8888888888888888,
              "#fdca26"
             ],
             [
              1.0,
              "#f0f921"
             ]
            ]
           }
          ],
          "surface": [
           {
            "type": "surface",
            "colorbar": {
             "outlinewidth": 0,
             "ticks": ""
            },
            "colorscale": [
             [
              0.0,
              "#0d0887"
             ],
             [
              0.1111111111111111,
              "#46039f"
             ],
             [
              0.2222222222222222,
              "#7201a8"
             ],
             [
              0.3333333333333333,
              "#9c179e"
             ],
             [
              0.4444444444444444,
              "#bd3786"
             ],
             [
              0.5555555555555556,
              "#d8576b"
             ],
             [
              0.6666666666666666,
              "#ed7953"
             ],
             [
              0.7777777777777778,
              "#fb9f3a"
             ],
             [
              0.8888888888888888,
              "#fdca26"
             ],
             [
              1.0,
              "#f0f921"
             ]
            ]
           }
          ],
          "mesh3d": [
           {
            "type": "mesh3d",
            "colorbar": {
             "outlinewidth": 0,
             "ticks": ""
            }
           }
          ],
          "scatter": [
           {
            "marker": {
             "line": {
              "color": "#283442"
             }
            },
            "type": "scatter"
           }
          ],
          "parcoords": [
           {
            "type": "parcoords",
            "line": {
             "colorbar": {
              "outlinewidth": 0,
              "ticks": ""
             }
            }
           }
          ],
          "scatterpolargl": [
           {
            "type": "scatterpolargl",
            "marker": {
             "colorbar": {
              "outlinewidth": 0,
              "ticks": ""
             }
            }
           }
          ],
          "bar": [
           {
            "error_x": {
             "color": "#f2f5fa"
            },
            "error_y": {
             "color": "#f2f5fa"
            },
            "marker": {
             "line": {
              "color": "rgb(17,17,17)",
              "width": 0.5
             },
             "pattern": {
              "fillmode": "overlay",
              "size": 10,
              "solidity": 0.2
             }
            },
            "type": "bar"
           }
          ],
          "scattergeo": [
           {
            "type": "scattergeo",
            "marker": {
             "colorbar": {
              "outlinewidth": 0,
              "ticks": ""
             }
            }
           }
          ],
          "scatterpolar": [
           {
            "type": "scatterpolar",
            "marker": {
             "colorbar": {
              "outlinewidth": 0,
              "ticks": ""
             }
            }
           }
          ],
          "histogram": [
           {
            "marker": {
             "pattern": {
              "fillmode": "overlay",
              "size": 10,
              "solidity": 0.2
             }
            },
            "type": "histogram"
           }
          ],
          "scattergl": [
           {
            "marker": {
             "line": {
              "color": "#283442"
             }
            },
            "type": "scattergl"
           }
          ],
          "scatter3d": [
           {
            "type": "scatter3d",
            "line": {
             "colorbar": {
              "outlinewidth": 0,
              "ticks": ""
             }
            },
            "marker": {
             "colorbar": {
              "outlinewidth": 0,
              "ticks": ""
             }
            }
           }
          ],
          "scattermap": [
           {
            "type": "scattermap",
            "marker": {
             "colorbar": {
              "outlinewidth": 0,
              "ticks": ""
             }
            }
           }
          ],
          "scattermapbox": [
           {
            "type": "scattermapbox",
            "marker": {
             "colorbar": {
              "outlinewidth": 0,
              "ticks": ""
             }
            }
           }
          ],
          "scatterternary": [
           {
            "type": "scatterternary",
            "marker": {
             "colorbar": {
              "outlinewidth": 0,
              "ticks": ""
             }
            }
           }
          ],
          "scattercarpet": [
           {
            "type": "scattercarpet",
            "marker": {
             "colorbar": {
              "outlinewidth": 0,
              "ticks": ""
             }
            }
           }
          ],
          "carpet": [
           {
            "aaxis": {
             "endlinecolor": "#A2B1C6",
             "gridcolor": "#506784",
             "linecolor": "#506784",
             "minorgridcolor": "#506784",
             "startlinecolor": "#A2B1C6"
            },
            "baxis": {
             "endlinecolor": "#A2B1C6",
             "gridcolor": "#506784",
             "linecolor": "#506784",
             "minorgridcolor": "#506784",
             "startlinecolor": "#A2B1C6"
            },
            "type": "carpet"
           }
          ],
          "table": [
           {
            "cells": {
             "fill": {
              "color": "#506784"
             },
             "line": {
              "color": "rgb(17,17,17)"
             }
            },
            "header": {
             "fill": {
              "color": "#2a3f5f"
             },
             "line": {
              "color": "rgb(17,17,17)"
             }
            },
            "type": "table"
           }
          ],
          "barpolar": [
           {
            "marker": {
             "line": {
              "color": "rgb(17,17,17)",
              "width": 0.5
             },
             "pattern": {
              "fillmode": "overlay",
              "size": 10,
              "solidity": 0.2
             }
            },
            "type": "barpolar"
           }
          ],
          "pie": [
           {
            "automargin": true,
            "type": "pie"
           }
          ]
         },
         "layout": {
          "autotypenumbers": "strict",
          "colorway": [
           "#636efa",
           "#EF553B",
           "#00cc96",
           "#ab63fa",
           "#FFA15A",
           "#19d3f3",
           "#FF6692",
           "#B6E880",
           "#FF97FF",
           "#FECB52"
          ],
          "font": {
           "color": "#f2f5fa"
          },
          "hovermode": "closest",
          "hoverlabel": {
           "align": "left"
          },
          "paper_bgcolor": "rgb(17,17,17)",
          "plot_bgcolor": "rgb(17,17,17)",
          "polar": {
           "bgcolor": "rgb(17,17,17)",
           "angularaxis": {
            "gridcolor": "#506784",
            "linecolor": "#506784",
            "ticks": ""
           },
           "radialaxis": {
            "gridcolor": "#506784",
            "linecolor": "#506784",
            "ticks": ""
           }
          },
          "ternary": {
           "bgcolor": "rgb(17,17,17)",
           "aaxis": {
            "gridcolor": "#506784",
            "linecolor": "#506784",
            "ticks": ""
           },
           "baxis": {
            "gridcolor": "#506784",
            "linecolor": "#506784",
            "ticks": ""
           },
           "caxis": {
            "gridcolor": "#506784",
            "linecolor": "#506784",
            "ticks": ""
           }
          },
          "coloraxis": {
           "colorbar": {
            "outlinewidth": 0,
            "ticks": ""
           }
          },
          "colorscale": {
           "sequential": [
            [
             0.0,
             "#0d0887"
            ],
            [
             0.1111111111111111,
             "#46039f"
            ],
            [
             0.2222222222222222,
             "#7201a8"
            ],
            [
             0.3333333333333333,
             "#9c179e"
            ],
            [
             0.4444444444444444,
             "#bd3786"
            ],
            [
             0.5555555555555556,
             "#d8576b"
            ],
            [
             0.6666666666666666,
             "#ed7953"
            ],
            [
             0.7777777777777778,
             "#fb9f3a"
            ],
            [
             0.8888888888888888,
             "#fdca26"
            ],
            [
             1.0,
             "#f0f921"
            ]
           ],
           "sequentialminus": [
            [
             0.0,
             "#0d0887"
            ],
            [
             0.1111111111111111,
             "#46039f"
            ],
            [
             0.2222222222222222,
             "#7201a8"
            ],
            [
             0.3333333333333333,
             "#9c179e"
            ],
            [
             0.4444444444444444,
             "#bd3786"
            ],
            [
             0.5555555555555556,
             "#d8576b"
            ],
            [
             0.6666666666666666,
             "#ed7953"
            ],
            [
             0.7777777777777778,
             "#fb9f3a"
            ],
            [
             0.8888888888888888,
             "#fdca26"
            ],
            [
             1.0,
             "#f0f921"
            ]
           ],
           "diverging": [
            [
             0,
             "#8e0152"
            ],
            [
             0.1,
             "#c51b7d"
            ],
            [
             0.2,
             "#de77ae"
            ],
            [
             0.3,
             "#f1b6da"
            ],
            [
             0.4,
             "#fde0ef"
            ],
            [
             0.5,
             "#f7f7f7"
            ],
            [
             0.6,
             "#e6f5d0"
            ],
            [
             0.7,
             "#b8e186"
            ],
            [
             0.8,
             "#7fbc41"
            ],
            [
             0.9,
             "#4d9221"
            ],
            [
             1,
             "#276419"
            ]
           ]
          },
          "xaxis": {
           "gridcolor": "#283442",
           "linecolor": "#506784",
           "ticks": "",
           "title": {
            "standoff": 15
           },
           "zerolinecolor": "#283442",
           "automargin": true,
           "zerolinewidth": 2
          },
          "yaxis": {
           "gridcolor": "#283442",
           "linecolor": "#506784",
           "ticks": "",
           "title": {
            "standoff": 15
           },
           "zerolinecolor": "#283442",
           "automargin": true,
           "zerolinewidth": 2
          },
          "scene": {
           "xaxis": {
            "backgroundcolor": "rgb(17,17,17)",
            "gridcolor": "#506784",
            "linecolor": "#506784",
            "showbackground": true,
            "ticks": "",
            "zerolinecolor": "#C8D4E3",
            "gridwidth": 2
           },
           "yaxis": {
            "backgroundcolor": "rgb(17,17,17)",
            "gridcolor": "#506784",
            "linecolor": "#506784",
            "showbackground": true,
            "ticks": "",
            "zerolinecolor": "#C8D4E3",
            "gridwidth": 2
           },
           "zaxis": {
            "backgroundcolor": "rgb(17,17,17)",
            "gridcolor": "#506784",
            "linecolor": "#506784",
            "showbackground": true,
            "ticks": "",
            "zerolinecolor": "#C8D4E3",
            "gridwidth": 2
           }
          },
          "shapedefaults": {
           "line": {
            "color": "#f2f5fa"
           }
          },
          "annotationdefaults": {
           "arrowcolor": "#f2f5fa",
           "arrowhead": 0,
           "arrowwidth": 1
          },
          "geo": {
           "bgcolor": "rgb(17,17,17)",
           "landcolor": "rgb(17,17,17)",
           "subunitcolor": "#506784",
           "showland": true,
           "showlakes": true,
           "lakecolor": "rgb(17,17,17)"
          },
          "title": {
           "x": 0.05
          },
          "updatemenudefaults": {
           "bgcolor": "#506784",
           "borderwidth": 0
          },
          "sliderdefaults": {
           "bgcolor": "#C8D4E3",
           "borderwidth": 1,
           "bordercolor": "rgb(17,17,17)",
           "tickwidth": 0
          },
          "mapbox": {
           "style": "dark"
          }
         }
        },
        "xaxis": {
         "anchor": "y",
         "domain": [
          0.0,
          1.0
         ],
         "title": {
          "text": "지역"
         }
        },
        "yaxis": {
         "anchor": "x",
         "domain": [
          0.0,
          1.0
         ],
         "title": {
          "text": "EC"
         }
        },
        "legend": {
         "tracegroupgap": 0
        },
        "title": {
         "text": "지역별(콩) EC 평균치"
        },
        "barmode": "relative",
        "shapes": [
         {
          "line": {
           "color": "white",
           "dash": "dash",
           "width": 2
          },
          "name": "적정 하한",
          "type": "line",
          "x0": -0.5,
          "x1": 3.5,
          "y0": 0,
          "y1": 0
         },
         {
          "line": {
           "color": "white",
           "dash": "dash",
           "width": 2
          },
          "name": "적정 상한",
          "type": "line",
          "x0": -0.5,
          "x1": 3.5,
          "y0": 1.2,
          "y1": 1.2
         }
        ]
       },
       "config": {
        "plotlyServerURL": "https://plot.ly"
       }
      }
     },
     "metadata": {},
     "output_type": "display_data"
    }
   ],
   "execution_count": 11
  },
  {
   "metadata": {
    "ExecuteTime": {
     "end_time": "2025-07-20T02:33:52.997946Z",
     "start_time": "2025-07-20T02:33:50.253434Z"
    }
   },
   "cell_type": "code",
   "source": "fig_ec.write_image('bean_ec.png')",
   "id": "36d3cd2e5ff023d9",
   "outputs": [],
   "execution_count": 12
  },
  {
   "metadata": {
    "ExecuteTime": {
     "end_time": "2025-07-20T14:15:14.371584Z",
     "start_time": "2025-07-20T14:15:14.334082Z"
    }
   },
   "cell_type": "code",
   "source": [
    "#유기물\n",
    "fig_om = px.bar(stats_table_bean, x='지역', y='유기물', text_auto='.2s', title='지역별(콩) 유기물 평균치')\n",
    "fig_om.add_shape(\n",
    "    type='line',\n",
    "    x0=-0.5,\n",
    "    x1=3.5,\n",
    "    y0=20,\n",
    "    y1=20,\n",
    "    line=dict(color=\"white\", width=2, dash='dash'),\n",
    "    name='적정 하한'\n",
    ")\n",
    "\n",
    "fig_om.add_shape(\n",
    "    type='line',\n",
    "    x0=-0.5,\n",
    "    x1=3.5,\n",
    "    y0=30,\n",
    "    y1=30,\n",
    "    line=dict(color=\"white\", width=2, dash='dash'),\n",
    "    name='적정 상한'\n",
    ")\n",
    "\n",
    "fig_om.update_traces(textposition='inside')\n",
    "\n",
    "fig_om.show()"
   ],
   "id": "c2f4e570abd03a5a",
   "outputs": [
    {
     "data": {
      "application/vnd.plotly.v1+json": {
       "data": [
        {
         "hovertemplate": "지역=%{x}<br>유기물=%{y}<extra></extra>",
         "legendgroup": "",
         "marker": {
          "color": "#636efa",
          "pattern": {
           "shape": ""
          }
         },
         "name": "",
         "orientation": "v",
         "showlegend": false,
         "textposition": "inside",
         "texttemplate": "%{y:.2s}",
         "x": [
          "김제",
          "새만금",
          "순창"
         ],
         "xaxis": "x",
         "y": {
          "dtype": "f8",
          "bdata": "S65ZQH1aM0AVjQR886oDQCW/WPKLFUVA"
         },
         "yaxis": "y",
         "type": "bar"
        }
       ],
       "layout": {
        "template": {
         "data": {
          "histogram2dcontour": [
           {
            "type": "histogram2dcontour",
            "colorbar": {
             "outlinewidth": 0,
             "ticks": ""
            },
            "colorscale": [
             [
              0.0,
              "#0d0887"
             ],
             [
              0.1111111111111111,
              "#46039f"
             ],
             [
              0.2222222222222222,
              "#7201a8"
             ],
             [
              0.3333333333333333,
              "#9c179e"
             ],
             [
              0.4444444444444444,
              "#bd3786"
             ],
             [
              0.5555555555555556,
              "#d8576b"
             ],
             [
              0.6666666666666666,
              "#ed7953"
             ],
             [
              0.7777777777777778,
              "#fb9f3a"
             ],
             [
              0.8888888888888888,
              "#fdca26"
             ],
             [
              1.0,
              "#f0f921"
             ]
            ]
           }
          ],
          "choropleth": [
           {
            "type": "choropleth",
            "colorbar": {
             "outlinewidth": 0,
             "ticks": ""
            }
           }
          ],
          "histogram2d": [
           {
            "type": "histogram2d",
            "colorbar": {
             "outlinewidth": 0,
             "ticks": ""
            },
            "colorscale": [
             [
              0.0,
              "#0d0887"
             ],
             [
              0.1111111111111111,
              "#46039f"
             ],
             [
              0.2222222222222222,
              "#7201a8"
             ],
             [
              0.3333333333333333,
              "#9c179e"
             ],
             [
              0.4444444444444444,
              "#bd3786"
             ],
             [
              0.5555555555555556,
              "#d8576b"
             ],
             [
              0.6666666666666666,
              "#ed7953"
             ],
             [
              0.7777777777777778,
              "#fb9f3a"
             ],
             [
              0.8888888888888888,
              "#fdca26"
             ],
             [
              1.0,
              "#f0f921"
             ]
            ]
           }
          ],
          "heatmap": [
           {
            "type": "heatmap",
            "colorbar": {
             "outlinewidth": 0,
             "ticks": ""
            },
            "colorscale": [
             [
              0.0,
              "#0d0887"
             ],
             [
              0.1111111111111111,
              "#46039f"
             ],
             [
              0.2222222222222222,
              "#7201a8"
             ],
             [
              0.3333333333333333,
              "#9c179e"
             ],
             [
              0.4444444444444444,
              "#bd3786"
             ],
             [
              0.5555555555555556,
              "#d8576b"
             ],
             [
              0.6666666666666666,
              "#ed7953"
             ],
             [
              0.7777777777777778,
              "#fb9f3a"
             ],
             [
              0.8888888888888888,
              "#fdca26"
             ],
             [
              1.0,
              "#f0f921"
             ]
            ]
           }
          ],
          "contourcarpet": [
           {
            "type": "contourcarpet",
            "colorbar": {
             "outlinewidth": 0,
             "ticks": ""
            }
           }
          ],
          "contour": [
           {
            "type": "contour",
            "colorbar": {
             "outlinewidth": 0,
             "ticks": ""
            },
            "colorscale": [
             [
              0.0,
              "#0d0887"
             ],
             [
              0.1111111111111111,
              "#46039f"
             ],
             [
              0.2222222222222222,
              "#7201a8"
             ],
             [
              0.3333333333333333,
              "#9c179e"
             ],
             [
              0.4444444444444444,
              "#bd3786"
             ],
             [
              0.5555555555555556,
              "#d8576b"
             ],
             [
              0.6666666666666666,
              "#ed7953"
             ],
             [
              0.7777777777777778,
              "#fb9f3a"
             ],
             [
              0.8888888888888888,
              "#fdca26"
             ],
             [
              1.0,
              "#f0f921"
             ]
            ]
           }
          ],
          "surface": [
           {
            "type": "surface",
            "colorbar": {
             "outlinewidth": 0,
             "ticks": ""
            },
            "colorscale": [
             [
              0.0,
              "#0d0887"
             ],
             [
              0.1111111111111111,
              "#46039f"
             ],
             [
              0.2222222222222222,
              "#7201a8"
             ],
             [
              0.3333333333333333,
              "#9c179e"
             ],
             [
              0.4444444444444444,
              "#bd3786"
             ],
             [
              0.5555555555555556,
              "#d8576b"
             ],
             [
              0.6666666666666666,
              "#ed7953"
             ],
             [
              0.7777777777777778,
              "#fb9f3a"
             ],
             [
              0.8888888888888888,
              "#fdca26"
             ],
             [
              1.0,
              "#f0f921"
             ]
            ]
           }
          ],
          "mesh3d": [
           {
            "type": "mesh3d",
            "colorbar": {
             "outlinewidth": 0,
             "ticks": ""
            }
           }
          ],
          "scatter": [
           {
            "marker": {
             "line": {
              "color": "#283442"
             }
            },
            "type": "scatter"
           }
          ],
          "parcoords": [
           {
            "type": "parcoords",
            "line": {
             "colorbar": {
              "outlinewidth": 0,
              "ticks": ""
             }
            }
           }
          ],
          "scatterpolargl": [
           {
            "type": "scatterpolargl",
            "marker": {
             "colorbar": {
              "outlinewidth": 0,
              "ticks": ""
             }
            }
           }
          ],
          "bar": [
           {
            "error_x": {
             "color": "#f2f5fa"
            },
            "error_y": {
             "color": "#f2f5fa"
            },
            "marker": {
             "line": {
              "color": "rgb(17,17,17)",
              "width": 0.5
             },
             "pattern": {
              "fillmode": "overlay",
              "size": 10,
              "solidity": 0.2
             }
            },
            "type": "bar"
           }
          ],
          "scattergeo": [
           {
            "type": "scattergeo",
            "marker": {
             "colorbar": {
              "outlinewidth": 0,
              "ticks": ""
             }
            }
           }
          ],
          "scatterpolar": [
           {
            "type": "scatterpolar",
            "marker": {
             "colorbar": {
              "outlinewidth": 0,
              "ticks": ""
             }
            }
           }
          ],
          "histogram": [
           {
            "marker": {
             "pattern": {
              "fillmode": "overlay",
              "size": 10,
              "solidity": 0.2
             }
            },
            "type": "histogram"
           }
          ],
          "scattergl": [
           {
            "marker": {
             "line": {
              "color": "#283442"
             }
            },
            "type": "scattergl"
           }
          ],
          "scatter3d": [
           {
            "type": "scatter3d",
            "line": {
             "colorbar": {
              "outlinewidth": 0,
              "ticks": ""
             }
            },
            "marker": {
             "colorbar": {
              "outlinewidth": 0,
              "ticks": ""
             }
            }
           }
          ],
          "scattermap": [
           {
            "type": "scattermap",
            "marker": {
             "colorbar": {
              "outlinewidth": 0,
              "ticks": ""
             }
            }
           }
          ],
          "scattermapbox": [
           {
            "type": "scattermapbox",
            "marker": {
             "colorbar": {
              "outlinewidth": 0,
              "ticks": ""
             }
            }
           }
          ],
          "scatterternary": [
           {
            "type": "scatterternary",
            "marker": {
             "colorbar": {
              "outlinewidth": 0,
              "ticks": ""
             }
            }
           }
          ],
          "scattercarpet": [
           {
            "type": "scattercarpet",
            "marker": {
             "colorbar": {
              "outlinewidth": 0,
              "ticks": ""
             }
            }
           }
          ],
          "carpet": [
           {
            "aaxis": {
             "endlinecolor": "#A2B1C6",
             "gridcolor": "#506784",
             "linecolor": "#506784",
             "minorgridcolor": "#506784",
             "startlinecolor": "#A2B1C6"
            },
            "baxis": {
             "endlinecolor": "#A2B1C6",
             "gridcolor": "#506784",
             "linecolor": "#506784",
             "minorgridcolor": "#506784",
             "startlinecolor": "#A2B1C6"
            },
            "type": "carpet"
           }
          ],
          "table": [
           {
            "cells": {
             "fill": {
              "color": "#506784"
             },
             "line": {
              "color": "rgb(17,17,17)"
             }
            },
            "header": {
             "fill": {
              "color": "#2a3f5f"
             },
             "line": {
              "color": "rgb(17,17,17)"
             }
            },
            "type": "table"
           }
          ],
          "barpolar": [
           {
            "marker": {
             "line": {
              "color": "rgb(17,17,17)",
              "width": 0.5
             },
             "pattern": {
              "fillmode": "overlay",
              "size": 10,
              "solidity": 0.2
             }
            },
            "type": "barpolar"
           }
          ],
          "pie": [
           {
            "automargin": true,
            "type": "pie"
           }
          ]
         },
         "layout": {
          "autotypenumbers": "strict",
          "colorway": [
           "#636efa",
           "#EF553B",
           "#00cc96",
           "#ab63fa",
           "#FFA15A",
           "#19d3f3",
           "#FF6692",
           "#B6E880",
           "#FF97FF",
           "#FECB52"
          ],
          "font": {
           "color": "#f2f5fa"
          },
          "hovermode": "closest",
          "hoverlabel": {
           "align": "left"
          },
          "paper_bgcolor": "rgb(17,17,17)",
          "plot_bgcolor": "rgb(17,17,17)",
          "polar": {
           "bgcolor": "rgb(17,17,17)",
           "angularaxis": {
            "gridcolor": "#506784",
            "linecolor": "#506784",
            "ticks": ""
           },
           "radialaxis": {
            "gridcolor": "#506784",
            "linecolor": "#506784",
            "ticks": ""
           }
          },
          "ternary": {
           "bgcolor": "rgb(17,17,17)",
           "aaxis": {
            "gridcolor": "#506784",
            "linecolor": "#506784",
            "ticks": ""
           },
           "baxis": {
            "gridcolor": "#506784",
            "linecolor": "#506784",
            "ticks": ""
           },
           "caxis": {
            "gridcolor": "#506784",
            "linecolor": "#506784",
            "ticks": ""
           }
          },
          "coloraxis": {
           "colorbar": {
            "outlinewidth": 0,
            "ticks": ""
           }
          },
          "colorscale": {
           "sequential": [
            [
             0.0,
             "#0d0887"
            ],
            [
             0.1111111111111111,
             "#46039f"
            ],
            [
             0.2222222222222222,
             "#7201a8"
            ],
            [
             0.3333333333333333,
             "#9c179e"
            ],
            [
             0.4444444444444444,
             "#bd3786"
            ],
            [
             0.5555555555555556,
             "#d8576b"
            ],
            [
             0.6666666666666666,
             "#ed7953"
            ],
            [
             0.7777777777777778,
             "#fb9f3a"
            ],
            [
             0.8888888888888888,
             "#fdca26"
            ],
            [
             1.0,
             "#f0f921"
            ]
           ],
           "sequentialminus": [
            [
             0.0,
             "#0d0887"
            ],
            [
             0.1111111111111111,
             "#46039f"
            ],
            [
             0.2222222222222222,
             "#7201a8"
            ],
            [
             0.3333333333333333,
             "#9c179e"
            ],
            [
             0.4444444444444444,
             "#bd3786"
            ],
            [
             0.5555555555555556,
             "#d8576b"
            ],
            [
             0.6666666666666666,
             "#ed7953"
            ],
            [
             0.7777777777777778,
             "#fb9f3a"
            ],
            [
             0.8888888888888888,
             "#fdca26"
            ],
            [
             1.0,
             "#f0f921"
            ]
           ],
           "diverging": [
            [
             0,
             "#8e0152"
            ],
            [
             0.1,
             "#c51b7d"
            ],
            [
             0.2,
             "#de77ae"
            ],
            [
             0.3,
             "#f1b6da"
            ],
            [
             0.4,
             "#fde0ef"
            ],
            [
             0.5,
             "#f7f7f7"
            ],
            [
             0.6,
             "#e6f5d0"
            ],
            [
             0.7,
             "#b8e186"
            ],
            [
             0.8,
             "#7fbc41"
            ],
            [
             0.9,
             "#4d9221"
            ],
            [
             1,
             "#276419"
            ]
           ]
          },
          "xaxis": {
           "gridcolor": "#283442",
           "linecolor": "#506784",
           "ticks": "",
           "title": {
            "standoff": 15
           },
           "zerolinecolor": "#283442",
           "automargin": true,
           "zerolinewidth": 2
          },
          "yaxis": {
           "gridcolor": "#283442",
           "linecolor": "#506784",
           "ticks": "",
           "title": {
            "standoff": 15
           },
           "zerolinecolor": "#283442",
           "automargin": true,
           "zerolinewidth": 2
          },
          "scene": {
           "xaxis": {
            "backgroundcolor": "rgb(17,17,17)",
            "gridcolor": "#506784",
            "linecolor": "#506784",
            "showbackground": true,
            "ticks": "",
            "zerolinecolor": "#C8D4E3",
            "gridwidth": 2
           },
           "yaxis": {
            "backgroundcolor": "rgb(17,17,17)",
            "gridcolor": "#506784",
            "linecolor": "#506784",
            "showbackground": true,
            "ticks": "",
            "zerolinecolor": "#C8D4E3",
            "gridwidth": 2
           },
           "zaxis": {
            "backgroundcolor": "rgb(17,17,17)",
            "gridcolor": "#506784",
            "linecolor": "#506784",
            "showbackground": true,
            "ticks": "",
            "zerolinecolor": "#C8D4E3",
            "gridwidth": 2
           }
          },
          "shapedefaults": {
           "line": {
            "color": "#f2f5fa"
           }
          },
          "annotationdefaults": {
           "arrowcolor": "#f2f5fa",
           "arrowhead": 0,
           "arrowwidth": 1
          },
          "geo": {
           "bgcolor": "rgb(17,17,17)",
           "landcolor": "rgb(17,17,17)",
           "subunitcolor": "#506784",
           "showland": true,
           "showlakes": true,
           "lakecolor": "rgb(17,17,17)"
          },
          "title": {
           "x": 0.05
          },
          "updatemenudefaults": {
           "bgcolor": "#506784",
           "borderwidth": 0
          },
          "sliderdefaults": {
           "bgcolor": "#C8D4E3",
           "borderwidth": 1,
           "bordercolor": "rgb(17,17,17)",
           "tickwidth": 0
          },
          "mapbox": {
           "style": "dark"
          }
         }
        },
        "xaxis": {
         "anchor": "y",
         "domain": [
          0.0,
          1.0
         ],
         "title": {
          "text": "지역"
         }
        },
        "yaxis": {
         "anchor": "x",
         "domain": [
          0.0,
          1.0
         ],
         "title": {
          "text": "유기물"
         }
        },
        "legend": {
         "tracegroupgap": 0
        },
        "title": {
         "text": "지역별(콩) 유기물 평균치"
        },
        "barmode": "relative",
        "shapes": [
         {
          "line": {
           "color": "white",
           "dash": "dash",
           "width": 2
          },
          "name": "적정 하한",
          "type": "line",
          "x0": -0.5,
          "x1": 3.5,
          "y0": 20,
          "y1": 20
         },
         {
          "line": {
           "color": "white",
           "dash": "dash",
           "width": 2
          },
          "name": "적정 상한",
          "type": "line",
          "x0": -0.5,
          "x1": 3.5,
          "y0": 30,
          "y1": 30
         }
        ]
       },
       "config": {
        "plotlyServerURL": "https://plotly.com"
       }
      }
     },
     "metadata": {},
     "output_type": "display_data"
    }
   ],
   "execution_count": 10
  },
  {
   "metadata": {
    "ExecuteTime": {
     "end_time": "2025-07-20T14:15:24.934801Z",
     "start_time": "2025-07-20T14:15:23.257704Z"
    }
   },
   "cell_type": "code",
   "source": "fig_om.write_image('bean_om.png')",
   "id": "5aa273b8a3743780",
   "outputs": [],
   "execution_count": 11
  },
  {
   "metadata": {
    "ExecuteTime": {
     "end_time": "2025-07-20T16:22:39.410027Z",
     "start_time": "2025-07-20T16:22:39.367405Z"
    }
   },
   "cell_type": "code",
   "source": [
    "#유효인산\n",
    "fig_p = px.bar(stats_table_bean, x='지역', y='유효인산', text_auto='.3s', title='지역별(콩) 유효인산 평균치')\n",
    "fig_p.add_shape(\n",
    "    type='line',\n",
    "    x0=-0.5,\n",
    "    x1=3.5,\n",
    "    y0=150,\n",
    "    y1=150,\n",
    "    line=dict(color=\"white\", width=2, dash='dash'),\n",
    "    name='적정 하한'\n",
    ")\n",
    "\n",
    "fig_p.add_shape(\n",
    "    type='line',\n",
    "    x0=-0.5,\n",
    "    x1=3.5,\n",
    "    y0=250,\n",
    "    y1=250,\n",
    "    line=dict(color=\"white\", width=2, dash='dash'),\n",
    "    name='적정 상한'\n",
    ")\n",
    "\n",
    "fig_p.update_traces(textposition='inside')\n",
    "\n",
    "fig_p.show()"
   ],
   "id": "4cb0876a064e4797",
   "outputs": [
    {
     "data": {
      "application/vnd.plotly.v1+json": {
       "data": [
        {
         "hovertemplate": "지역=%{x}<br>유효인산=%{y}<extra></extra>",
         "legendgroup": "",
         "marker": {
          "color": "#636efa",
          "pattern": {
           "shape": ""
          }
         },
         "name": "",
         "orientation": "v",
         "showlegend": false,
         "textposition": "inside",
         "texttemplate": "%{y:.3s}",
         "x": [
          "김제",
          "새만금",
          "순창"
         ],
         "xaxis": "x",
         "y": {
          "dtype": "f8",
          "bdata": "wabjQCrIWEC+eTXxrNgiQAAAAAAAAPh/"
         },
         "yaxis": "y",
         "type": "bar"
        }
       ],
       "layout": {
        "template": {
         "data": {
          "histogram2dcontour": [
           {
            "type": "histogram2dcontour",
            "colorbar": {
             "outlinewidth": 0,
             "ticks": ""
            },
            "colorscale": [
             [
              0.0,
              "#0d0887"
             ],
             [
              0.1111111111111111,
              "#46039f"
             ],
             [
              0.2222222222222222,
              "#7201a8"
             ],
             [
              0.3333333333333333,
              "#9c179e"
             ],
             [
              0.4444444444444444,
              "#bd3786"
             ],
             [
              0.5555555555555556,
              "#d8576b"
             ],
             [
              0.6666666666666666,
              "#ed7953"
             ],
             [
              0.7777777777777778,
              "#fb9f3a"
             ],
             [
              0.8888888888888888,
              "#fdca26"
             ],
             [
              1.0,
              "#f0f921"
             ]
            ]
           }
          ],
          "choropleth": [
           {
            "type": "choropleth",
            "colorbar": {
             "outlinewidth": 0,
             "ticks": ""
            }
           }
          ],
          "histogram2d": [
           {
            "type": "histogram2d",
            "colorbar": {
             "outlinewidth": 0,
             "ticks": ""
            },
            "colorscale": [
             [
              0.0,
              "#0d0887"
             ],
             [
              0.1111111111111111,
              "#46039f"
             ],
             [
              0.2222222222222222,
              "#7201a8"
             ],
             [
              0.3333333333333333,
              "#9c179e"
             ],
             [
              0.4444444444444444,
              "#bd3786"
             ],
             [
              0.5555555555555556,
              "#d8576b"
             ],
             [
              0.6666666666666666,
              "#ed7953"
             ],
             [
              0.7777777777777778,
              "#fb9f3a"
             ],
             [
              0.8888888888888888,
              "#fdca26"
             ],
             [
              1.0,
              "#f0f921"
             ]
            ]
           }
          ],
          "heatmap": [
           {
            "type": "heatmap",
            "colorbar": {
             "outlinewidth": 0,
             "ticks": ""
            },
            "colorscale": [
             [
              0.0,
              "#0d0887"
             ],
             [
              0.1111111111111111,
              "#46039f"
             ],
             [
              0.2222222222222222,
              "#7201a8"
             ],
             [
              0.3333333333333333,
              "#9c179e"
             ],
             [
              0.4444444444444444,
              "#bd3786"
             ],
             [
              0.5555555555555556,
              "#d8576b"
             ],
             [
              0.6666666666666666,
              "#ed7953"
             ],
             [
              0.7777777777777778,
              "#fb9f3a"
             ],
             [
              0.8888888888888888,
              "#fdca26"
             ],
             [
              1.0,
              "#f0f921"
             ]
            ]
           }
          ],
          "contourcarpet": [
           {
            "type": "contourcarpet",
            "colorbar": {
             "outlinewidth": 0,
             "ticks": ""
            }
           }
          ],
          "contour": [
           {
            "type": "contour",
            "colorbar": {
             "outlinewidth": 0,
             "ticks": ""
            },
            "colorscale": [
             [
              0.0,
              "#0d0887"
             ],
             [
              0.1111111111111111,
              "#46039f"
             ],
             [
              0.2222222222222222,
              "#7201a8"
             ],
             [
              0.3333333333333333,
              "#9c179e"
             ],
             [
              0.4444444444444444,
              "#bd3786"
             ],
             [
              0.5555555555555556,
              "#d8576b"
             ],
             [
              0.6666666666666666,
              "#ed7953"
             ],
             [
              0.7777777777777778,
              "#fb9f3a"
             ],
             [
              0.8888888888888888,
              "#fdca26"
             ],
             [
              1.0,
              "#f0f921"
             ]
            ]
           }
          ],
          "surface": [
           {
            "type": "surface",
            "colorbar": {
             "outlinewidth": 0,
             "ticks": ""
            },
            "colorscale": [
             [
              0.0,
              "#0d0887"
             ],
             [
              0.1111111111111111,
              "#46039f"
             ],
             [
              0.2222222222222222,
              "#7201a8"
             ],
             [
              0.3333333333333333,
              "#9c179e"
             ],
             [
              0.4444444444444444,
              "#bd3786"
             ],
             [
              0.5555555555555556,
              "#d8576b"
             ],
             [
              0.6666666666666666,
              "#ed7953"
             ],
             [
              0.7777777777777778,
              "#fb9f3a"
             ],
             [
              0.8888888888888888,
              "#fdca26"
             ],
             [
              1.0,
              "#f0f921"
             ]
            ]
           }
          ],
          "mesh3d": [
           {
            "type": "mesh3d",
            "colorbar": {
             "outlinewidth": 0,
             "ticks": ""
            }
           }
          ],
          "scatter": [
           {
            "marker": {
             "line": {
              "color": "#283442"
             }
            },
            "type": "scatter"
           }
          ],
          "parcoords": [
           {
            "type": "parcoords",
            "line": {
             "colorbar": {
              "outlinewidth": 0,
              "ticks": ""
             }
            }
           }
          ],
          "scatterpolargl": [
           {
            "type": "scatterpolargl",
            "marker": {
             "colorbar": {
              "outlinewidth": 0,
              "ticks": ""
             }
            }
           }
          ],
          "bar": [
           {
            "error_x": {
             "color": "#f2f5fa"
            },
            "error_y": {
             "color": "#f2f5fa"
            },
            "marker": {
             "line": {
              "color": "rgb(17,17,17)",
              "width": 0.5
             },
             "pattern": {
              "fillmode": "overlay",
              "size": 10,
              "solidity": 0.2
             }
            },
            "type": "bar"
           }
          ],
          "scattergeo": [
           {
            "type": "scattergeo",
            "marker": {
             "colorbar": {
              "outlinewidth": 0,
              "ticks": ""
             }
            }
           }
          ],
          "scatterpolar": [
           {
            "type": "scatterpolar",
            "marker": {
             "colorbar": {
              "outlinewidth": 0,
              "ticks": ""
             }
            }
           }
          ],
          "histogram": [
           {
            "marker": {
             "pattern": {
              "fillmode": "overlay",
              "size": 10,
              "solidity": 0.2
             }
            },
            "type": "histogram"
           }
          ],
          "scattergl": [
           {
            "marker": {
             "line": {
              "color": "#283442"
             }
            },
            "type": "scattergl"
           }
          ],
          "scatter3d": [
           {
            "type": "scatter3d",
            "line": {
             "colorbar": {
              "outlinewidth": 0,
              "ticks": ""
             }
            },
            "marker": {
             "colorbar": {
              "outlinewidth": 0,
              "ticks": ""
             }
            }
           }
          ],
          "scattermap": [
           {
            "type": "scattermap",
            "marker": {
             "colorbar": {
              "outlinewidth": 0,
              "ticks": ""
             }
            }
           }
          ],
          "scattermapbox": [
           {
            "type": "scattermapbox",
            "marker": {
             "colorbar": {
              "outlinewidth": 0,
              "ticks": ""
             }
            }
           }
          ],
          "scatterternary": [
           {
            "type": "scatterternary",
            "marker": {
             "colorbar": {
              "outlinewidth": 0,
              "ticks": ""
             }
            }
           }
          ],
          "scattercarpet": [
           {
            "type": "scattercarpet",
            "marker": {
             "colorbar": {
              "outlinewidth": 0,
              "ticks": ""
             }
            }
           }
          ],
          "carpet": [
           {
            "aaxis": {
             "endlinecolor": "#A2B1C6",
             "gridcolor": "#506784",
             "linecolor": "#506784",
             "minorgridcolor": "#506784",
             "startlinecolor": "#A2B1C6"
            },
            "baxis": {
             "endlinecolor": "#A2B1C6",
             "gridcolor": "#506784",
             "linecolor": "#506784",
             "minorgridcolor": "#506784",
             "startlinecolor": "#A2B1C6"
            },
            "type": "carpet"
           }
          ],
          "table": [
           {
            "cells": {
             "fill": {
              "color": "#506784"
             },
             "line": {
              "color": "rgb(17,17,17)"
             }
            },
            "header": {
             "fill": {
              "color": "#2a3f5f"
             },
             "line": {
              "color": "rgb(17,17,17)"
             }
            },
            "type": "table"
           }
          ],
          "barpolar": [
           {
            "marker": {
             "line": {
              "color": "rgb(17,17,17)",
              "width": 0.5
             },
             "pattern": {
              "fillmode": "overlay",
              "size": 10,
              "solidity": 0.2
             }
            },
            "type": "barpolar"
           }
          ],
          "pie": [
           {
            "automargin": true,
            "type": "pie"
           }
          ]
         },
         "layout": {
          "autotypenumbers": "strict",
          "colorway": [
           "#636efa",
           "#EF553B",
           "#00cc96",
           "#ab63fa",
           "#FFA15A",
           "#19d3f3",
           "#FF6692",
           "#B6E880",
           "#FF97FF",
           "#FECB52"
          ],
          "font": {
           "color": "#f2f5fa"
          },
          "hovermode": "closest",
          "hoverlabel": {
           "align": "left"
          },
          "paper_bgcolor": "rgb(17,17,17)",
          "plot_bgcolor": "rgb(17,17,17)",
          "polar": {
           "bgcolor": "rgb(17,17,17)",
           "angularaxis": {
            "gridcolor": "#506784",
            "linecolor": "#506784",
            "ticks": ""
           },
           "radialaxis": {
            "gridcolor": "#506784",
            "linecolor": "#506784",
            "ticks": ""
           }
          },
          "ternary": {
           "bgcolor": "rgb(17,17,17)",
           "aaxis": {
            "gridcolor": "#506784",
            "linecolor": "#506784",
            "ticks": ""
           },
           "baxis": {
            "gridcolor": "#506784",
            "linecolor": "#506784",
            "ticks": ""
           },
           "caxis": {
            "gridcolor": "#506784",
            "linecolor": "#506784",
            "ticks": ""
           }
          },
          "coloraxis": {
           "colorbar": {
            "outlinewidth": 0,
            "ticks": ""
           }
          },
          "colorscale": {
           "sequential": [
            [
             0.0,
             "#0d0887"
            ],
            [
             0.1111111111111111,
             "#46039f"
            ],
            [
             0.2222222222222222,
             "#7201a8"
            ],
            [
             0.3333333333333333,
             "#9c179e"
            ],
            [
             0.4444444444444444,
             "#bd3786"
            ],
            [
             0.5555555555555556,
             "#d8576b"
            ],
            [
             0.6666666666666666,
             "#ed7953"
            ],
            [
             0.7777777777777778,
             "#fb9f3a"
            ],
            [
             0.8888888888888888,
             "#fdca26"
            ],
            [
             1.0,
             "#f0f921"
            ]
           ],
           "sequentialminus": [
            [
             0.0,
             "#0d0887"
            ],
            [
             0.1111111111111111,
             "#46039f"
            ],
            [
             0.2222222222222222,
             "#7201a8"
            ],
            [
             0.3333333333333333,
             "#9c179e"
            ],
            [
             0.4444444444444444,
             "#bd3786"
            ],
            [
             0.5555555555555556,
             "#d8576b"
            ],
            [
             0.6666666666666666,
             "#ed7953"
            ],
            [
             0.7777777777777778,
             "#fb9f3a"
            ],
            [
             0.8888888888888888,
             "#fdca26"
            ],
            [
             1.0,
             "#f0f921"
            ]
           ],
           "diverging": [
            [
             0,
             "#8e0152"
            ],
            [
             0.1,
             "#c51b7d"
            ],
            [
             0.2,
             "#de77ae"
            ],
            [
             0.3,
             "#f1b6da"
            ],
            [
             0.4,
             "#fde0ef"
            ],
            [
             0.5,
             "#f7f7f7"
            ],
            [
             0.6,
             "#e6f5d0"
            ],
            [
             0.7,
             "#b8e186"
            ],
            [
             0.8,
             "#7fbc41"
            ],
            [
             0.9,
             "#4d9221"
            ],
            [
             1,
             "#276419"
            ]
           ]
          },
          "xaxis": {
           "gridcolor": "#283442",
           "linecolor": "#506784",
           "ticks": "",
           "title": {
            "standoff": 15
           },
           "zerolinecolor": "#283442",
           "automargin": true,
           "zerolinewidth": 2
          },
          "yaxis": {
           "gridcolor": "#283442",
           "linecolor": "#506784",
           "ticks": "",
           "title": {
            "standoff": 15
           },
           "zerolinecolor": "#283442",
           "automargin": true,
           "zerolinewidth": 2
          },
          "scene": {
           "xaxis": {
            "backgroundcolor": "rgb(17,17,17)",
            "gridcolor": "#506784",
            "linecolor": "#506784",
            "showbackground": true,
            "ticks": "",
            "zerolinecolor": "#C8D4E3",
            "gridwidth": 2
           },
           "yaxis": {
            "backgroundcolor": "rgb(17,17,17)",
            "gridcolor": "#506784",
            "linecolor": "#506784",
            "showbackground": true,
            "ticks": "",
            "zerolinecolor": "#C8D4E3",
            "gridwidth": 2
           },
           "zaxis": {
            "backgroundcolor": "rgb(17,17,17)",
            "gridcolor": "#506784",
            "linecolor": "#506784",
            "showbackground": true,
            "ticks": "",
            "zerolinecolor": "#C8D4E3",
            "gridwidth": 2
           }
          },
          "shapedefaults": {
           "line": {
            "color": "#f2f5fa"
           }
          },
          "annotationdefaults": {
           "arrowcolor": "#f2f5fa",
           "arrowhead": 0,
           "arrowwidth": 1
          },
          "geo": {
           "bgcolor": "rgb(17,17,17)",
           "landcolor": "rgb(17,17,17)",
           "subunitcolor": "#506784",
           "showland": true,
           "showlakes": true,
           "lakecolor": "rgb(17,17,17)"
          },
          "title": {
           "x": 0.05
          },
          "updatemenudefaults": {
           "bgcolor": "#506784",
           "borderwidth": 0
          },
          "sliderdefaults": {
           "bgcolor": "#C8D4E3",
           "borderwidth": 1,
           "bordercolor": "rgb(17,17,17)",
           "tickwidth": 0
          },
          "mapbox": {
           "style": "dark"
          }
         }
        },
        "xaxis": {
         "anchor": "y",
         "domain": [
          0.0,
          1.0
         ],
         "title": {
          "text": "지역"
         }
        },
        "yaxis": {
         "anchor": "x",
         "domain": [
          0.0,
          1.0
         ],
         "title": {
          "text": "유효인산"
         }
        },
        "legend": {
         "tracegroupgap": 0
        },
        "title": {
         "text": "지역별(콩) 유효인산 평균치"
        },
        "barmode": "relative",
        "shapes": [
         {
          "line": {
           "color": "white",
           "dash": "dash",
           "width": 2
          },
          "name": "적정 하한",
          "type": "line",
          "x0": -0.5,
          "x1": 3.5,
          "y0": 150,
          "y1": 150
         },
         {
          "line": {
           "color": "white",
           "dash": "dash",
           "width": 2
          },
          "name": "적정 상한",
          "type": "line",
          "x0": -0.5,
          "x1": 3.5,
          "y0": 250,
          "y1": 250
         }
        ]
       },
       "config": {
        "plotlyServerURL": "https://plotly.com"
       }
      }
     },
     "metadata": {},
     "output_type": "display_data"
    }
   ],
   "execution_count": 22
  },
  {
   "metadata": {
    "ExecuteTime": {
     "end_time": "2025-07-20T15:31:02.330826Z",
     "start_time": "2025-07-20T15:31:00.746915Z"
    }
   },
   "cell_type": "code",
   "source": "fig_p.write_image('bean_p.png')",
   "id": "9b8ee85872021a80",
   "outputs": [],
   "execution_count": 16
  },
  {
   "metadata": {
    "ExecuteTime": {
     "end_time": "2025-07-20T16:22:15.044214Z",
     "start_time": "2025-07-20T16:22:15.001902Z"
    }
   },
   "cell_type": "code",
   "source": [
    "#유효규산\n",
    "fig_sio = px.bar(stats_table_rice, x='지역', y='유효규산', text_auto='.5s', title='지역별(벼) 유효규산 평균치')\n",
    "fig_sio.add_shape(\n",
    "    type='line',\n",
    "    x0=-0.5,\n",
    "    x1=3.5,\n",
    "    y0=157,\n",
    "    y1=157,\n",
    "    line=dict(color=\"white\", width=2, dash='dash'),\n",
    "    name='적정 하한'\n",
    ")\n",
    "\n",
    "fig_sio.add_shape(\n",
    "    type='line',\n",
    "    x0=-0.5,\n",
    "    x1=3.5,\n",
    "    y0=180,\n",
    "    y1=180,\n",
    "    line=dict(color=\"white\", width=2, dash='dash'),\n",
    "    name='적정 상한'\n",
    ")\n",
    "\n",
    "fig_sio.update_traces(textposition='inside')\n",
    "\n",
    "fig_sio.show()"
   ],
   "id": "40c08dd273fae1cd",
   "outputs": [
    {
     "data": {
      "application/vnd.plotly.v1+json": {
       "data": [
        {
         "hovertemplate": "지역=%{x}<br>유효규산=%{y}<extra></extra>",
         "legendgroup": "",
         "marker": {
          "color": "#636efa",
          "pattern": {
           "shape": ""
          }
         },
         "name": "",
         "orientation": "v",
         "showlegend": false,
         "textposition": "inside",
         "texttemplate": "%{y:.5s}",
         "x": [
          "구례",
          "김제",
          "순창",
          "화성"
         ],
         "xaxis": "x",
         "y": {
          "dtype": "f8",
          "bdata": "7+7u7u7YYUBVVVVVVT14QCpcj8L1UoxAtbS0tLRUgUA="
         },
         "yaxis": "y",
         "type": "bar"
        }
       ],
       "layout": {
        "template": {
         "data": {
          "histogram2dcontour": [
           {
            "type": "histogram2dcontour",
            "colorbar": {
             "outlinewidth": 0,
             "ticks": ""
            },
            "colorscale": [
             [
              0.0,
              "#0d0887"
             ],
             [
              0.1111111111111111,
              "#46039f"
             ],
             [
              0.2222222222222222,
              "#7201a8"
             ],
             [
              0.3333333333333333,
              "#9c179e"
             ],
             [
              0.4444444444444444,
              "#bd3786"
             ],
             [
              0.5555555555555556,
              "#d8576b"
             ],
             [
              0.6666666666666666,
              "#ed7953"
             ],
             [
              0.7777777777777778,
              "#fb9f3a"
             ],
             [
              0.8888888888888888,
              "#fdca26"
             ],
             [
              1.0,
              "#f0f921"
             ]
            ]
           }
          ],
          "choropleth": [
           {
            "type": "choropleth",
            "colorbar": {
             "outlinewidth": 0,
             "ticks": ""
            }
           }
          ],
          "histogram2d": [
           {
            "type": "histogram2d",
            "colorbar": {
             "outlinewidth": 0,
             "ticks": ""
            },
            "colorscale": [
             [
              0.0,
              "#0d0887"
             ],
             [
              0.1111111111111111,
              "#46039f"
             ],
             [
              0.2222222222222222,
              "#7201a8"
             ],
             [
              0.3333333333333333,
              "#9c179e"
             ],
             [
              0.4444444444444444,
              "#bd3786"
             ],
             [
              0.5555555555555556,
              "#d8576b"
             ],
             [
              0.6666666666666666,
              "#ed7953"
             ],
             [
              0.7777777777777778,
              "#fb9f3a"
             ],
             [
              0.8888888888888888,
              "#fdca26"
             ],
             [
              1.0,
              "#f0f921"
             ]
            ]
           }
          ],
          "heatmap": [
           {
            "type": "heatmap",
            "colorbar": {
             "outlinewidth": 0,
             "ticks": ""
            },
            "colorscale": [
             [
              0.0,
              "#0d0887"
             ],
             [
              0.1111111111111111,
              "#46039f"
             ],
             [
              0.2222222222222222,
              "#7201a8"
             ],
             [
              0.3333333333333333,
              "#9c179e"
             ],
             [
              0.4444444444444444,
              "#bd3786"
             ],
             [
              0.5555555555555556,
              "#d8576b"
             ],
             [
              0.6666666666666666,
              "#ed7953"
             ],
             [
              0.7777777777777778,
              "#fb9f3a"
             ],
             [
              0.8888888888888888,
              "#fdca26"
             ],
             [
              1.0,
              "#f0f921"
             ]
            ]
           }
          ],
          "contourcarpet": [
           {
            "type": "contourcarpet",
            "colorbar": {
             "outlinewidth": 0,
             "ticks": ""
            }
           }
          ],
          "contour": [
           {
            "type": "contour",
            "colorbar": {
             "outlinewidth": 0,
             "ticks": ""
            },
            "colorscale": [
             [
              0.0,
              "#0d0887"
             ],
             [
              0.1111111111111111,
              "#46039f"
             ],
             [
              0.2222222222222222,
              "#7201a8"
             ],
             [
              0.3333333333333333,
              "#9c179e"
             ],
             [
              0.4444444444444444,
              "#bd3786"
             ],
             [
              0.5555555555555556,
              "#d8576b"
             ],
             [
              0.6666666666666666,
              "#ed7953"
             ],
             [
              0.7777777777777778,
              "#fb9f3a"
             ],
             [
              0.8888888888888888,
              "#fdca26"
             ],
             [
              1.0,
              "#f0f921"
             ]
            ]
           }
          ],
          "surface": [
           {
            "type": "surface",
            "colorbar": {
             "outlinewidth": 0,
             "ticks": ""
            },
            "colorscale": [
             [
              0.0,
              "#0d0887"
             ],
             [
              0.1111111111111111,
              "#46039f"
             ],
             [
              0.2222222222222222,
              "#7201a8"
             ],
             [
              0.3333333333333333,
              "#9c179e"
             ],
             [
              0.4444444444444444,
              "#bd3786"
             ],
             [
              0.5555555555555556,
              "#d8576b"
             ],
             [
              0.6666666666666666,
              "#ed7953"
             ],
             [
              0.7777777777777778,
              "#fb9f3a"
             ],
             [
              0.8888888888888888,
              "#fdca26"
             ],
             [
              1.0,
              "#f0f921"
             ]
            ]
           }
          ],
          "mesh3d": [
           {
            "type": "mesh3d",
            "colorbar": {
             "outlinewidth": 0,
             "ticks": ""
            }
           }
          ],
          "scatter": [
           {
            "marker": {
             "line": {
              "color": "#283442"
             }
            },
            "type": "scatter"
           }
          ],
          "parcoords": [
           {
            "type": "parcoords",
            "line": {
             "colorbar": {
              "outlinewidth": 0,
              "ticks": ""
             }
            }
           }
          ],
          "scatterpolargl": [
           {
            "type": "scatterpolargl",
            "marker": {
             "colorbar": {
              "outlinewidth": 0,
              "ticks": ""
             }
            }
           }
          ],
          "bar": [
           {
            "error_x": {
             "color": "#f2f5fa"
            },
            "error_y": {
             "color": "#f2f5fa"
            },
            "marker": {
             "line": {
              "color": "rgb(17,17,17)",
              "width": 0.5
             },
             "pattern": {
              "fillmode": "overlay",
              "size": 10,
              "solidity": 0.2
             }
            },
            "type": "bar"
           }
          ],
          "scattergeo": [
           {
            "type": "scattergeo",
            "marker": {
             "colorbar": {
              "outlinewidth": 0,
              "ticks": ""
             }
            }
           }
          ],
          "scatterpolar": [
           {
            "type": "scatterpolar",
            "marker": {
             "colorbar": {
              "outlinewidth": 0,
              "ticks": ""
             }
            }
           }
          ],
          "histogram": [
           {
            "marker": {
             "pattern": {
              "fillmode": "overlay",
              "size": 10,
              "solidity": 0.2
             }
            },
            "type": "histogram"
           }
          ],
          "scattergl": [
           {
            "marker": {
             "line": {
              "color": "#283442"
             }
            },
            "type": "scattergl"
           }
          ],
          "scatter3d": [
           {
            "type": "scatter3d",
            "line": {
             "colorbar": {
              "outlinewidth": 0,
              "ticks": ""
             }
            },
            "marker": {
             "colorbar": {
              "outlinewidth": 0,
              "ticks": ""
             }
            }
           }
          ],
          "scattermap": [
           {
            "type": "scattermap",
            "marker": {
             "colorbar": {
              "outlinewidth": 0,
              "ticks": ""
             }
            }
           }
          ],
          "scattermapbox": [
           {
            "type": "scattermapbox",
            "marker": {
             "colorbar": {
              "outlinewidth": 0,
              "ticks": ""
             }
            }
           }
          ],
          "scatterternary": [
           {
            "type": "scatterternary",
            "marker": {
             "colorbar": {
              "outlinewidth": 0,
              "ticks": ""
             }
            }
           }
          ],
          "scattercarpet": [
           {
            "type": "scattercarpet",
            "marker": {
             "colorbar": {
              "outlinewidth": 0,
              "ticks": ""
             }
            }
           }
          ],
          "carpet": [
           {
            "aaxis": {
             "endlinecolor": "#A2B1C6",
             "gridcolor": "#506784",
             "linecolor": "#506784",
             "minorgridcolor": "#506784",
             "startlinecolor": "#A2B1C6"
            },
            "baxis": {
             "endlinecolor": "#A2B1C6",
             "gridcolor": "#506784",
             "linecolor": "#506784",
             "minorgridcolor": "#506784",
             "startlinecolor": "#A2B1C6"
            },
            "type": "carpet"
           }
          ],
          "table": [
           {
            "cells": {
             "fill": {
              "color": "#506784"
             },
             "line": {
              "color": "rgb(17,17,17)"
             }
            },
            "header": {
             "fill": {
              "color": "#2a3f5f"
             },
             "line": {
              "color": "rgb(17,17,17)"
             }
            },
            "type": "table"
           }
          ],
          "barpolar": [
           {
            "marker": {
             "line": {
              "color": "rgb(17,17,17)",
              "width": 0.5
             },
             "pattern": {
              "fillmode": "overlay",
              "size": 10,
              "solidity": 0.2
             }
            },
            "type": "barpolar"
           }
          ],
          "pie": [
           {
            "automargin": true,
            "type": "pie"
           }
          ]
         },
         "layout": {
          "autotypenumbers": "strict",
          "colorway": [
           "#636efa",
           "#EF553B",
           "#00cc96",
           "#ab63fa",
           "#FFA15A",
           "#19d3f3",
           "#FF6692",
           "#B6E880",
           "#FF97FF",
           "#FECB52"
          ],
          "font": {
           "color": "#f2f5fa"
          },
          "hovermode": "closest",
          "hoverlabel": {
           "align": "left"
          },
          "paper_bgcolor": "rgb(17,17,17)",
          "plot_bgcolor": "rgb(17,17,17)",
          "polar": {
           "bgcolor": "rgb(17,17,17)",
           "angularaxis": {
            "gridcolor": "#506784",
            "linecolor": "#506784",
            "ticks": ""
           },
           "radialaxis": {
            "gridcolor": "#506784",
            "linecolor": "#506784",
            "ticks": ""
           }
          },
          "ternary": {
           "bgcolor": "rgb(17,17,17)",
           "aaxis": {
            "gridcolor": "#506784",
            "linecolor": "#506784",
            "ticks": ""
           },
           "baxis": {
            "gridcolor": "#506784",
            "linecolor": "#506784",
            "ticks": ""
           },
           "caxis": {
            "gridcolor": "#506784",
            "linecolor": "#506784",
            "ticks": ""
           }
          },
          "coloraxis": {
           "colorbar": {
            "outlinewidth": 0,
            "ticks": ""
           }
          },
          "colorscale": {
           "sequential": [
            [
             0.0,
             "#0d0887"
            ],
            [
             0.1111111111111111,
             "#46039f"
            ],
            [
             0.2222222222222222,
             "#7201a8"
            ],
            [
             0.3333333333333333,
             "#9c179e"
            ],
            [
             0.4444444444444444,
             "#bd3786"
            ],
            [
             0.5555555555555556,
             "#d8576b"
            ],
            [
             0.6666666666666666,
             "#ed7953"
            ],
            [
             0.7777777777777778,
             "#fb9f3a"
            ],
            [
             0.8888888888888888,
             "#fdca26"
            ],
            [
             1.0,
             "#f0f921"
            ]
           ],
           "sequentialminus": [
            [
             0.0,
             "#0d0887"
            ],
            [
             0.1111111111111111,
             "#46039f"
            ],
            [
             0.2222222222222222,
             "#7201a8"
            ],
            [
             0.3333333333333333,
             "#9c179e"
            ],
            [
             0.4444444444444444,
             "#bd3786"
            ],
            [
             0.5555555555555556,
             "#d8576b"
            ],
            [
             0.6666666666666666,
             "#ed7953"
            ],
            [
             0.7777777777777778,
             "#fb9f3a"
            ],
            [
             0.8888888888888888,
             "#fdca26"
            ],
            [
             1.0,
             "#f0f921"
            ]
           ],
           "diverging": [
            [
             0,
             "#8e0152"
            ],
            [
             0.1,
             "#c51b7d"
            ],
            [
             0.2,
             "#de77ae"
            ],
            [
             0.3,
             "#f1b6da"
            ],
            [
             0.4,
             "#fde0ef"
            ],
            [
             0.5,
             "#f7f7f7"
            ],
            [
             0.6,
             "#e6f5d0"
            ],
            [
             0.7,
             "#b8e186"
            ],
            [
             0.8,
             "#7fbc41"
            ],
            [
             0.9,
             "#4d9221"
            ],
            [
             1,
             "#276419"
            ]
           ]
          },
          "xaxis": {
           "gridcolor": "#283442",
           "linecolor": "#506784",
           "ticks": "",
           "title": {
            "standoff": 15
           },
           "zerolinecolor": "#283442",
           "automargin": true,
           "zerolinewidth": 2
          },
          "yaxis": {
           "gridcolor": "#283442",
           "linecolor": "#506784",
           "ticks": "",
           "title": {
            "standoff": 15
           },
           "zerolinecolor": "#283442",
           "automargin": true,
           "zerolinewidth": 2
          },
          "scene": {
           "xaxis": {
            "backgroundcolor": "rgb(17,17,17)",
            "gridcolor": "#506784",
            "linecolor": "#506784",
            "showbackground": true,
            "ticks": "",
            "zerolinecolor": "#C8D4E3",
            "gridwidth": 2
           },
           "yaxis": {
            "backgroundcolor": "rgb(17,17,17)",
            "gridcolor": "#506784",
            "linecolor": "#506784",
            "showbackground": true,
            "ticks": "",
            "zerolinecolor": "#C8D4E3",
            "gridwidth": 2
           },
           "zaxis": {
            "backgroundcolor": "rgb(17,17,17)",
            "gridcolor": "#506784",
            "linecolor": "#506784",
            "showbackground": true,
            "ticks": "",
            "zerolinecolor": "#C8D4E3",
            "gridwidth": 2
           }
          },
          "shapedefaults": {
           "line": {
            "color": "#f2f5fa"
           }
          },
          "annotationdefaults": {
           "arrowcolor": "#f2f5fa",
           "arrowhead": 0,
           "arrowwidth": 1
          },
          "geo": {
           "bgcolor": "rgb(17,17,17)",
           "landcolor": "rgb(17,17,17)",
           "subunitcolor": "#506784",
           "showland": true,
           "showlakes": true,
           "lakecolor": "rgb(17,17,17)"
          },
          "title": {
           "x": 0.05
          },
          "updatemenudefaults": {
           "bgcolor": "#506784",
           "borderwidth": 0
          },
          "sliderdefaults": {
           "bgcolor": "#C8D4E3",
           "borderwidth": 1,
           "bordercolor": "rgb(17,17,17)",
           "tickwidth": 0
          },
          "mapbox": {
           "style": "dark"
          }
         }
        },
        "xaxis": {
         "anchor": "y",
         "domain": [
          0.0,
          1.0
         ],
         "title": {
          "text": "지역"
         }
        },
        "yaxis": {
         "anchor": "x",
         "domain": [
          0.0,
          1.0
         ],
         "title": {
          "text": "유효규산"
         }
        },
        "legend": {
         "tracegroupgap": 0
        },
        "title": {
         "text": "지역별(벼) 유효규산 평균치"
        },
        "barmode": "relative",
        "shapes": [
         {
          "line": {
           "color": "white",
           "dash": "dash",
           "width": 2
          },
          "name": "적정 하한",
          "type": "line",
          "x0": -0.5,
          "x1": 3.5,
          "y0": 157,
          "y1": 157
         },
         {
          "line": {
           "color": "white",
           "dash": "dash",
           "width": 2
          },
          "name": "적정 상한",
          "type": "line",
          "x0": -0.5,
          "x1": 3.5,
          "y0": 180,
          "y1": 180
         }
        ]
       },
       "config": {
        "plotlyServerURL": "https://plotly.com"
       }
      }
     },
     "metadata": {},
     "output_type": "display_data"
    }
   ],
   "execution_count": 21
  },
  {
   "metadata": {
    "ExecuteTime": {
     "end_time": "2025-07-20T16:22:47.469054Z",
     "start_time": "2025-07-20T16:22:45.985248Z"
    }
   },
   "cell_type": "code",
   "source": "fig_sio.write_image('rice_sio.png')",
   "id": "3d68d00b11366445",
   "outputs": [],
   "execution_count": 23
  },
  {
   "metadata": {
    "ExecuteTime": {
     "end_time": "2025-07-20T16:54:12.082230Z",
     "start_time": "2025-07-20T16:54:12.046206Z"
    }
   },
   "cell_type": "code",
   "source": [
    "#교환성 칼륨\n",
    "fig_k = px.bar(stats_table_bean, x='지역', y='교환성칼륨', text_auto='.2f', title='지역별(콩) 교환성칼륨 평균치')\n",
    "fig_k.add_shape(\n",
    "    type='line',\n",
    "    x0=-0.5,\n",
    "    x1=3.5,\n",
    "    y0=0.45,\n",
    "    y1=0.45,\n",
    "    line=dict(color=\"white\", width=2, dash='dash'),\n",
    "    name='적정 하한'\n",
    ")\n",
    "\n",
    "fig_k.add_shape(\n",
    "    type='line',\n",
    "    x0=-0.5,\n",
    "    x1=3.5,\n",
    "    y0=0.55,\n",
    "    y1=0.55,\n",
    "    line=dict(color=\"white\", width=2, dash='dash'),\n",
    "    name='적정 상한'\n",
    ")\n",
    "\n",
    "fig_k.update_traces(textposition='inside')\n",
    "\n",
    "fig_k.show()"
   ],
   "id": "c6075e7856756cf2",
   "outputs": [
    {
     "data": {
      "application/vnd.plotly.v1+json": {
       "data": [
        {
         "hovertemplate": "지역=%{x}<br>교환성칼륨=%{y}<extra></extra>",
         "legendgroup": "",
         "marker": {
          "color": "#636efa",
          "pattern": {
           "shape": ""
          }
         },
         "name": "",
         "orientation": "v",
         "showlegend": false,
         "textposition": "inside",
         "texttemplate": "%{y:.2f}",
         "x": [
          "김제",
          "새만금",
          "순창"
         ],
         "xaxis": "x",
         "y": {
          "dtype": "f8",
          "bdata": "9+eol/dB1D+wqMLnZazZPwAAAAAAAPh/"
         },
         "yaxis": "y",
         "type": "bar"
        }
       ],
       "layout": {
        "template": {
         "data": {
          "histogram2dcontour": [
           {
            "type": "histogram2dcontour",
            "colorbar": {
             "outlinewidth": 0,
             "ticks": ""
            },
            "colorscale": [
             [
              0.0,
              "#0d0887"
             ],
             [
              0.1111111111111111,
              "#46039f"
             ],
             [
              0.2222222222222222,
              "#7201a8"
             ],
             [
              0.3333333333333333,
              "#9c179e"
             ],
             [
              0.4444444444444444,
              "#bd3786"
             ],
             [
              0.5555555555555556,
              "#d8576b"
             ],
             [
              0.6666666666666666,
              "#ed7953"
             ],
             [
              0.7777777777777778,
              "#fb9f3a"
             ],
             [
              0.8888888888888888,
              "#fdca26"
             ],
             [
              1.0,
              "#f0f921"
             ]
            ]
           }
          ],
          "choropleth": [
           {
            "type": "choropleth",
            "colorbar": {
             "outlinewidth": 0,
             "ticks": ""
            }
           }
          ],
          "histogram2d": [
           {
            "type": "histogram2d",
            "colorbar": {
             "outlinewidth": 0,
             "ticks": ""
            },
            "colorscale": [
             [
              0.0,
              "#0d0887"
             ],
             [
              0.1111111111111111,
              "#46039f"
             ],
             [
              0.2222222222222222,
              "#7201a8"
             ],
             [
              0.3333333333333333,
              "#9c179e"
             ],
             [
              0.4444444444444444,
              "#bd3786"
             ],
             [
              0.5555555555555556,
              "#d8576b"
             ],
             [
              0.6666666666666666,
              "#ed7953"
             ],
             [
              0.7777777777777778,
              "#fb9f3a"
             ],
             [
              0.8888888888888888,
              "#fdca26"
             ],
             [
              1.0,
              "#f0f921"
             ]
            ]
           }
          ],
          "heatmap": [
           {
            "type": "heatmap",
            "colorbar": {
             "outlinewidth": 0,
             "ticks": ""
            },
            "colorscale": [
             [
              0.0,
              "#0d0887"
             ],
             [
              0.1111111111111111,
              "#46039f"
             ],
             [
              0.2222222222222222,
              "#7201a8"
             ],
             [
              0.3333333333333333,
              "#9c179e"
             ],
             [
              0.4444444444444444,
              "#bd3786"
             ],
             [
              0.5555555555555556,
              "#d8576b"
             ],
             [
              0.6666666666666666,
              "#ed7953"
             ],
             [
              0.7777777777777778,
              "#fb9f3a"
             ],
             [
              0.8888888888888888,
              "#fdca26"
             ],
             [
              1.0,
              "#f0f921"
             ]
            ]
           }
          ],
          "contourcarpet": [
           {
            "type": "contourcarpet",
            "colorbar": {
             "outlinewidth": 0,
             "ticks": ""
            }
           }
          ],
          "contour": [
           {
            "type": "contour",
            "colorbar": {
             "outlinewidth": 0,
             "ticks": ""
            },
            "colorscale": [
             [
              0.0,
              "#0d0887"
             ],
             [
              0.1111111111111111,
              "#46039f"
             ],
             [
              0.2222222222222222,
              "#7201a8"
             ],
             [
              0.3333333333333333,
              "#9c179e"
             ],
             [
              0.4444444444444444,
              "#bd3786"
             ],
             [
              0.5555555555555556,
              "#d8576b"
             ],
             [
              0.6666666666666666,
              "#ed7953"
             ],
             [
              0.7777777777777778,
              "#fb9f3a"
             ],
             [
              0.8888888888888888,
              "#fdca26"
             ],
             [
              1.0,
              "#f0f921"
             ]
            ]
           }
          ],
          "surface": [
           {
            "type": "surface",
            "colorbar": {
             "outlinewidth": 0,
             "ticks": ""
            },
            "colorscale": [
             [
              0.0,
              "#0d0887"
             ],
             [
              0.1111111111111111,
              "#46039f"
             ],
             [
              0.2222222222222222,
              "#7201a8"
             ],
             [
              0.3333333333333333,
              "#9c179e"
             ],
             [
              0.4444444444444444,
              "#bd3786"
             ],
             [
              0.5555555555555556,
              "#d8576b"
             ],
             [
              0.6666666666666666,
              "#ed7953"
             ],
             [
              0.7777777777777778,
              "#fb9f3a"
             ],
             [
              0.8888888888888888,
              "#fdca26"
             ],
             [
              1.0,
              "#f0f921"
             ]
            ]
           }
          ],
          "mesh3d": [
           {
            "type": "mesh3d",
            "colorbar": {
             "outlinewidth": 0,
             "ticks": ""
            }
           }
          ],
          "scatter": [
           {
            "marker": {
             "line": {
              "color": "#283442"
             }
            },
            "type": "scatter"
           }
          ],
          "parcoords": [
           {
            "type": "parcoords",
            "line": {
             "colorbar": {
              "outlinewidth": 0,
              "ticks": ""
             }
            }
           }
          ],
          "scatterpolargl": [
           {
            "type": "scatterpolargl",
            "marker": {
             "colorbar": {
              "outlinewidth": 0,
              "ticks": ""
             }
            }
           }
          ],
          "bar": [
           {
            "error_x": {
             "color": "#f2f5fa"
            },
            "error_y": {
             "color": "#f2f5fa"
            },
            "marker": {
             "line": {
              "color": "rgb(17,17,17)",
              "width": 0.5
             },
             "pattern": {
              "fillmode": "overlay",
              "size": 10,
              "solidity": 0.2
             }
            },
            "type": "bar"
           }
          ],
          "scattergeo": [
           {
            "type": "scattergeo",
            "marker": {
             "colorbar": {
              "outlinewidth": 0,
              "ticks": ""
             }
            }
           }
          ],
          "scatterpolar": [
           {
            "type": "scatterpolar",
            "marker": {
             "colorbar": {
              "outlinewidth": 0,
              "ticks": ""
             }
            }
           }
          ],
          "histogram": [
           {
            "marker": {
             "pattern": {
              "fillmode": "overlay",
              "size": 10,
              "solidity": 0.2
             }
            },
            "type": "histogram"
           }
          ],
          "scattergl": [
           {
            "marker": {
             "line": {
              "color": "#283442"
             }
            },
            "type": "scattergl"
           }
          ],
          "scatter3d": [
           {
            "type": "scatter3d",
            "line": {
             "colorbar": {
              "outlinewidth": 0,
              "ticks": ""
             }
            },
            "marker": {
             "colorbar": {
              "outlinewidth": 0,
              "ticks": ""
             }
            }
           }
          ],
          "scattermap": [
           {
            "type": "scattermap",
            "marker": {
             "colorbar": {
              "outlinewidth": 0,
              "ticks": ""
             }
            }
           }
          ],
          "scattermapbox": [
           {
            "type": "scattermapbox",
            "marker": {
             "colorbar": {
              "outlinewidth": 0,
              "ticks": ""
             }
            }
           }
          ],
          "scatterternary": [
           {
            "type": "scatterternary",
            "marker": {
             "colorbar": {
              "outlinewidth": 0,
              "ticks": ""
             }
            }
           }
          ],
          "scattercarpet": [
           {
            "type": "scattercarpet",
            "marker": {
             "colorbar": {
              "outlinewidth": 0,
              "ticks": ""
             }
            }
           }
          ],
          "carpet": [
           {
            "aaxis": {
             "endlinecolor": "#A2B1C6",
             "gridcolor": "#506784",
             "linecolor": "#506784",
             "minorgridcolor": "#506784",
             "startlinecolor": "#A2B1C6"
            },
            "baxis": {
             "endlinecolor": "#A2B1C6",
             "gridcolor": "#506784",
             "linecolor": "#506784",
             "minorgridcolor": "#506784",
             "startlinecolor": "#A2B1C6"
            },
            "type": "carpet"
           }
          ],
          "table": [
           {
            "cells": {
             "fill": {
              "color": "#506784"
             },
             "line": {
              "color": "rgb(17,17,17)"
             }
            },
            "header": {
             "fill": {
              "color": "#2a3f5f"
             },
             "line": {
              "color": "rgb(17,17,17)"
             }
            },
            "type": "table"
           }
          ],
          "barpolar": [
           {
            "marker": {
             "line": {
              "color": "rgb(17,17,17)",
              "width": 0.5
             },
             "pattern": {
              "fillmode": "overlay",
              "size": 10,
              "solidity": 0.2
             }
            },
            "type": "barpolar"
           }
          ],
          "pie": [
           {
            "automargin": true,
            "type": "pie"
           }
          ]
         },
         "layout": {
          "autotypenumbers": "strict",
          "colorway": [
           "#636efa",
           "#EF553B",
           "#00cc96",
           "#ab63fa",
           "#FFA15A",
           "#19d3f3",
           "#FF6692",
           "#B6E880",
           "#FF97FF",
           "#FECB52"
          ],
          "font": {
           "color": "#f2f5fa"
          },
          "hovermode": "closest",
          "hoverlabel": {
           "align": "left"
          },
          "paper_bgcolor": "rgb(17,17,17)",
          "plot_bgcolor": "rgb(17,17,17)",
          "polar": {
           "bgcolor": "rgb(17,17,17)",
           "angularaxis": {
            "gridcolor": "#506784",
            "linecolor": "#506784",
            "ticks": ""
           },
           "radialaxis": {
            "gridcolor": "#506784",
            "linecolor": "#506784",
            "ticks": ""
           }
          },
          "ternary": {
           "bgcolor": "rgb(17,17,17)",
           "aaxis": {
            "gridcolor": "#506784",
            "linecolor": "#506784",
            "ticks": ""
           },
           "baxis": {
            "gridcolor": "#506784",
            "linecolor": "#506784",
            "ticks": ""
           },
           "caxis": {
            "gridcolor": "#506784",
            "linecolor": "#506784",
            "ticks": ""
           }
          },
          "coloraxis": {
           "colorbar": {
            "outlinewidth": 0,
            "ticks": ""
           }
          },
          "colorscale": {
           "sequential": [
            [
             0.0,
             "#0d0887"
            ],
            [
             0.1111111111111111,
             "#46039f"
            ],
            [
             0.2222222222222222,
             "#7201a8"
            ],
            [
             0.3333333333333333,
             "#9c179e"
            ],
            [
             0.4444444444444444,
             "#bd3786"
            ],
            [
             0.5555555555555556,
             "#d8576b"
            ],
            [
             0.6666666666666666,
             "#ed7953"
            ],
            [
             0.7777777777777778,
             "#fb9f3a"
            ],
            [
             0.8888888888888888,
             "#fdca26"
            ],
            [
             1.0,
             "#f0f921"
            ]
           ],
           "sequentialminus": [
            [
             0.0,
             "#0d0887"
            ],
            [
             0.1111111111111111,
             "#46039f"
            ],
            [
             0.2222222222222222,
             "#7201a8"
            ],
            [
             0.3333333333333333,
             "#9c179e"
            ],
            [
             0.4444444444444444,
             "#bd3786"
            ],
            [
             0.5555555555555556,
             "#d8576b"
            ],
            [
             0.6666666666666666,
             "#ed7953"
            ],
            [
             0.7777777777777778,
             "#fb9f3a"
            ],
            [
             0.8888888888888888,
             "#fdca26"
            ],
            [
             1.0,
             "#f0f921"
            ]
           ],
           "diverging": [
            [
             0,
             "#8e0152"
            ],
            [
             0.1,
             "#c51b7d"
            ],
            [
             0.2,
             "#de77ae"
            ],
            [
             0.3,
             "#f1b6da"
            ],
            [
             0.4,
             "#fde0ef"
            ],
            [
             0.5,
             "#f7f7f7"
            ],
            [
             0.6,
             "#e6f5d0"
            ],
            [
             0.7,
             "#b8e186"
            ],
            [
             0.8,
             "#7fbc41"
            ],
            [
             0.9,
             "#4d9221"
            ],
            [
             1,
             "#276419"
            ]
           ]
          },
          "xaxis": {
           "gridcolor": "#283442",
           "linecolor": "#506784",
           "ticks": "",
           "title": {
            "standoff": 15
           },
           "zerolinecolor": "#283442",
           "automargin": true,
           "zerolinewidth": 2
          },
          "yaxis": {
           "gridcolor": "#283442",
           "linecolor": "#506784",
           "ticks": "",
           "title": {
            "standoff": 15
           },
           "zerolinecolor": "#283442",
           "automargin": true,
           "zerolinewidth": 2
          },
          "scene": {
           "xaxis": {
            "backgroundcolor": "rgb(17,17,17)",
            "gridcolor": "#506784",
            "linecolor": "#506784",
            "showbackground": true,
            "ticks": "",
            "zerolinecolor": "#C8D4E3",
            "gridwidth": 2
           },
           "yaxis": {
            "backgroundcolor": "rgb(17,17,17)",
            "gridcolor": "#506784",
            "linecolor": "#506784",
            "showbackground": true,
            "ticks": "",
            "zerolinecolor": "#C8D4E3",
            "gridwidth": 2
           },
           "zaxis": {
            "backgroundcolor": "rgb(17,17,17)",
            "gridcolor": "#506784",
            "linecolor": "#506784",
            "showbackground": true,
            "ticks": "",
            "zerolinecolor": "#C8D4E3",
            "gridwidth": 2
           }
          },
          "shapedefaults": {
           "line": {
            "color": "#f2f5fa"
           }
          },
          "annotationdefaults": {
           "arrowcolor": "#f2f5fa",
           "arrowhead": 0,
           "arrowwidth": 1
          },
          "geo": {
           "bgcolor": "rgb(17,17,17)",
           "landcolor": "rgb(17,17,17)",
           "subunitcolor": "#506784",
           "showland": true,
           "showlakes": true,
           "lakecolor": "rgb(17,17,17)"
          },
          "title": {
           "x": 0.05
          },
          "updatemenudefaults": {
           "bgcolor": "#506784",
           "borderwidth": 0
          },
          "sliderdefaults": {
           "bgcolor": "#C8D4E3",
           "borderwidth": 1,
           "bordercolor": "rgb(17,17,17)",
           "tickwidth": 0
          },
          "mapbox": {
           "style": "dark"
          }
         }
        },
        "xaxis": {
         "anchor": "y",
         "domain": [
          0.0,
          1.0
         ],
         "title": {
          "text": "지역"
         }
        },
        "yaxis": {
         "anchor": "x",
         "domain": [
          0.0,
          1.0
         ],
         "title": {
          "text": "교환성칼륨"
         }
        },
        "legend": {
         "tracegroupgap": 0
        },
        "title": {
         "text": "지역별(콩) 교환성칼륨 평균치"
        },
        "barmode": "relative",
        "shapes": [
         {
          "line": {
           "color": "white",
           "dash": "dash",
           "width": 2
          },
          "name": "적정 하한",
          "type": "line",
          "x0": -0.5,
          "x1": 3.5,
          "y0": 0.45,
          "y1": 0.45
         },
         {
          "line": {
           "color": "white",
           "dash": "dash",
           "width": 2
          },
          "name": "적정 상한",
          "type": "line",
          "x0": -0.5,
          "x1": 3.5,
          "y0": 0.55,
          "y1": 0.55
         }
        ]
       },
       "config": {
        "plotlyServerURL": "https://plotly.com"
       }
      }
     },
     "metadata": {},
     "output_type": "display_data"
    }
   ],
   "execution_count": 33
  },
  {
   "metadata": {
    "ExecuteTime": {
     "end_time": "2025-07-20T16:54:20.960303Z",
     "start_time": "2025-07-20T16:54:19.440127Z"
    }
   },
   "cell_type": "code",
   "source": "fig_k.write_image('bean_k.png')",
   "id": "4dfe5f133e01bb83",
   "outputs": [],
   "execution_count": 34
  },
  {
   "metadata": {
    "ExecuteTime": {
     "end_time": "2025-07-20T17:18:51.487053Z",
     "start_time": "2025-07-20T17:18:51.482992Z"
    }
   },
   "cell_type": "code",
   "source": [
    "import pandas as pd\n",
    "import matplotlib.pyplot as plt\n",
    "import seaborn as sns\n",
    "import numpy as np\n",
    "import ace_tools_open as tools\n",
    "plt.rc('font', family='Malgun Gothic')"
   ],
   "id": "dffa520142bebaad",
   "outputs": [],
   "execution_count": 39
  },
  {
   "metadata": {
    "ExecuteTime": {
     "end_time": "2025-07-20T17:31:30.405512Z",
     "start_time": "2025-07-20T17:31:30.243400Z"
    }
   },
   "cell_type": "code",
   "source": [
    "# 컬럼명을 기준으로 이온 성분 분석을 위한 데이터프레임 구성\n",
    "ions_df = data_sheet[[\"지역\", \"품목\", \"EC\", \"교환성칼륨\", \"교환성칼슘\", \"교환성마그네슘\"]].dropna()\n",
    "\n",
    "# 컬럼명 정리\n",
    "ions_df.columns = [\"지역\", \"작물\", \"EC\", \"K\", \"Ca\", \"Mg\"]\n",
    "\n",
    "# Na 항목은 존재하지 않음 (차후 수집 필요)\n",
    "# 총 이온합 및 이온 비율 계산\n",
    "ions_df[\"총이온\"] = ions_df[[\"K\", \"Ca\", \"Mg\"]].sum(axis=1)\n",
    "\n",
    "for ion in [\"K\", \"Ca\", \"Mg\"]:\n",
    "    ions_df[f\"{ion}_비율\"] = ions_df[ion] / ions_df[\"총이온\"] * 100\n",
    "\n",
    "# EC와 K 비율 간 상관관계 시각화\n",
    "plt.figure(figsize=(6, 4))\n",
    "sns.scatterplot(data=ions_df, x=\"EC\", y=\"K\", hue=\"지역\", style=\"작물\")\n",
    "plt.title(\"EC와 교환성 K 상간 관계\")\n",
    "plt.xlabel(\"EC (dS/m)\")\n",
    "plt.ylabel(\"K(cmol+/kg)\")\n",
    "plt.tight_layout()\n",
    "plt.show()\n",
    "\n",
    "# 이온 성분 비율 결과 출력\n",
    "import ace_tools_open as tools\n",
    "tools.display_dataframe_to_user(name=\"토양 이온 분석 결과\", dataframe=ions_df)"
   ],
   "id": "36ce13af72df6453",
   "outputs": [
    {
     "data": {
      "text/plain": [
       "<Figure size 600x400 with 1 Axes>"
      ],
      "image/png": "[encoded data removed]"
     },
     "metadata": {},
     "output_type": "display_data"
    },
    {
     "name": "stdout",
     "output_type": "stream",
     "text": [
      "토양 이온 분석 결과\n"
     ]
    },
    {
     "data": {
      "text/plain": [
       "<IPython.core.display.HTML object>"
      ],
      "text/html": [
       "<!--| quarto-html-table-processing: none -->\n",
       "<table id=\"itables_53eb931f_f076_4455_8309_6138857b3eee\"><tbody><tr>\n",
       "    <td style=\"vertical-align:middle; text-align:left\">\n",
       "    <a href=https://mwouts.github.io/itables/><svg class=\"main-svg\" xmlns=\"http://www.w3.org/2000/svg\" xmlns:xlink=\"http://www.w3.org/1999/xlink\"\n",
       "width=\"64\" viewBox=\"0 0 500 400\" style=\"font-family: 'Droid Sans', sans-serif;\">\n",
       "    <g style=\"fill:#d9d7fc\">\n",
       "        <path d=\"M100,400H500V357H100Z\" />\n",
       "        <path d=\"M100,300H400V257H100Z\" />\n",
       "        <path d=\"M0,200H400V157H0Z\" />\n",
       "        <path d=\"M100,100H500V57H100Z\" />\n",
       "        <path d=\"M100,350H500V307H100Z\" />\n",
       "        <path d=\"M100,250H400V207H100Z\" />\n",
       "        <path d=\"M0,150H400V107H0Z\" />\n",
       "        <path d=\"M100,50H500V7H100Z\" />\n",
       "    </g>\n",
       "    <g style=\"fill:#1a1366;stroke:#1a1366;\">\n",
       "   <rect x=\"100\" y=\"7\" width=\"400\" height=\"43\">\n",
       "    <animate\n",
       "      attributeName=\"width\"\n",
       "      values=\"0;400;0\"\n",
       "      dur=\"5s\"\n",
       "      repeatCount=\"indefinite\" />\n",
       "      <animate\n",
       "      attributeName=\"x\"\n",
       "      values=\"100;100;500\"\n",
       "      dur=\"5s\"\n",
       "      repeatCount=\"indefinite\" />\n",
       "  </rect>\n",
       "        <rect x=\"0\" y=\"107\" width=\"400\" height=\"43\">\n",
       "    <animate\n",
       "      attributeName=\"width\"\n",
       "      values=\"0;400;0\"\n",
       "      dur=\"3.5s\"\n",
       "      repeatCount=\"indefinite\" />\n",
       "    <animate\n",
       "      attributeName=\"x\"\n",
       "      values=\"0;0;400\"\n",
       "      dur=\"3.5s\"\n",
       "      repeatCount=\"indefinite\" />\n",
       "  </rect>\n",
       "        <rect x=\"100\" y=\"207\" width=\"300\" height=\"43\">\n",
       "    <animate\n",
       "      attributeName=\"width\"\n",
       "      values=\"0;300;0\"\n",
       "      dur=\"3s\"\n",
       "      repeatCount=\"indefinite\" />\n",
       "    <animate\n",
       "      attributeName=\"x\"\n",
       "      values=\"100;100;400\"\n",
       "      dur=\"3s\"\n",
       "      repeatCount=\"indefinite\" />\n",
       "  </rect>\n",
       "        <rect x=\"100\" y=\"307\" width=\"400\" height=\"43\">\n",
       "    <animate\n",
       "      attributeName=\"width\"\n",
       "      values=\"0;400;0\"\n",
       "      dur=\"4s\"\n",
       "      repeatCount=\"indefinite\" />\n",
       "      <animate\n",
       "      attributeName=\"x\"\n",
       "      values=\"100;100;500\"\n",
       "      dur=\"4s\"\n",
       "      repeatCount=\"indefinite\" />\n",
       "  </rect>\n",
       "        <g style=\"fill:transparent;stroke-width:8; stroke-linejoin:round\" rx=\"5\">\n",
       "            <g transform=\"translate(45 50) rotate(-45)\">\n",
       "                <circle r=\"33\" cx=\"0\" cy=\"0\" />\n",
       "                <rect x=\"-8\" y=\"32\" width=\"16\" height=\"30\" />\n",
       "            </g>\n",
       "\n",
       "            <g transform=\"translate(450 152)\">\n",
       "                <polyline points=\"-15,-20 -35,-20 -35,40 25,40 25,20\" />\n",
       "                <rect x=\"-15\" y=\"-40\" width=\"60\" height=\"60\" />\n",
       "            </g>\n",
       "\n",
       "            <g transform=\"translate(50 352)\">\n",
       "                <polygon points=\"-35,-5 0,-40 35,-5\" />\n",
       "                <polygon points=\"-35,10 0,45 35,10\" />\n",
       "            </g>\n",
       "\n",
       "            <g transform=\"translate(75 250)\">\n",
       "                <polyline points=\"-30,30 -60,0 -30,-30\" />\n",
       "                <polyline points=\"0,30 -30,0 0,-30\" />\n",
       "            </g>\n",
       "\n",
       "            <g transform=\"translate(425 250) rotate(180)\">\n",
       "                <polyline points=\"-30,30 -60,0 -30,-30\" />\n",
       "                <polyline points=\"0,30 -30,0 0,-30\" />\n",
       "            </g>\n",
       "        </g>\n",
       "    </g>\n",
       "</svg>\n",
       "</a>\n",
       "    Loading ITables v2.4.4 from the internet...\n",
       "    (need <a href=https://mwouts.github.io/itables/troubleshooting.html>help</a>?)</td>\n",
       "    </tr></tbody></table>\n",
       "<link href=\"https://www.unpkg.com/dt_for_itables@2.3.3/dt_bundle.css\" rel=\"stylesheet\">\n",
       "<script type=\"module\">\n",
       "    import { ITable, jQuery as $ } from 'https://www.unpkg.com/dt_for_itables@2.3.3/dt_bundle.js';\n",
       "\n",
       "    document.querySelectorAll(\"#itables_53eb931f_f076_4455_8309_6138857b3eee:not(.dataTable)\").forEach(table => {\n",
       "        if (!(table instanceof HTMLTableElement))\n",
       "            return;\n",
       "\n",
       "        let dt_args = {\"layout\": {\"topStart\": \"pageLength\", \"topEnd\": \"search\", \"bottomStart\": \"info\", \"bottomEnd\": \"paging\"}, \"style\": {\"table-layout\": \"auto\", \"width\": \"auto\", \"margin\": \"auto\", \"caption-side\": \"bottom\"}, \"classes\": [\"display\", \"nowrap\"], \"order\": [], \"text_in_header_can_be_selected\": true, \"table_html\": \"<table><thead>\\n    <tr style=\\\"text-align: right;\\\">\\n      <th></th>\\n      <th>\\uc9c0\\uc5ed</th>\\n      <th>\\uc791\\ubb3c</th>\\n      <th>EC</th>\\n      <th>K</th>\\n      <th>Ca</th>\\n      <th>Mg</th>\\n      <th>\\ucd1d\\uc774\\uc628</th>\\n      <th>K_\\ube44\\uc728</th>\\n      <th>Ca_\\ube44\\uc728</th>\\n      <th>Mg_\\ube44\\uc728</th>\\n    </tr>\\n  </thead></table>\", \"data_json\": \"[[0, \\\"\\\\uae40\\\\uc81c\\\", \\\"\\\\ubcbc\\\", 0.3, 0.10965, 7.1856, 1.735686, 9.030936, 1.21416, 79.566503, 19.219337], [1, \\\"\\\\uae40\\\\uc81c\\\", \\\"\\\\ubcbc\\\", 0.3, 0.09945, 7.14069, 1.554714, 8.794854, 1.130775, 81.191683, 17.677542], [2, \\\"\\\\uae40\\\\uc81c\\\", \\\"\\\\ubcbc\\\", 0.3, 0.1224, 7.19059, 1.702782, 9.015772, 1.357621, 79.755677, 18.886702], [3, \\\"\\\\uae40\\\\uc81c\\\", \\\"\\\\ubcbc\\\", 0.2, 0.10455, 7.22552, 1.80972, 9.13979, 1.143899, 79.055646, 19.800455], [4, \\\"\\\\uae40\\\\uc81c\\\", \\\"\\\\ubcbc\\\", 0.2, 0.11475, 7.48001, 1.711008, 9.305768, 1.233106, 80.380362, 18.386532], [5, \\\"\\\\uae40\\\\uc81c\\\", \\\"\\\\ubcbc\\\", 0.2, 0.0765, 4.56585, 1.061154, 5.703504, 1.341281, 80.05342, 18.605299], [6, \\\"\\\\uae40\\\\uc81c\\\", \\\"\\\\ubcbc\\\", 0.3, 0.10965, 8.25845, 1.752138, 10.120238, 1.083473, 81.603318, 17.313209], [7, \\\"\\\\uae40\\\\uc81c\\\", \\\"\\\\ubcbc\\\", 0.3, 0.09945, 7.87921, 1.678104, 9.656764, 1.029848, 81.592654, 17.377498], [8, \\\"\\\\uae40\\\\uc81c\\\", \\\"\\\\ubcbc\\\", 0.3, 0.10965, 7.485, 1.628748, 9.223398, 1.188824, 81.152304, 17.658871], [9, \\\"\\\\uae40\\\\uc81c\\\", \\\"\\\\ubcbc\\\", 0.3, 0.13005, 7.39019, 1.702782, 9.223022, 1.410058, 80.127641, 18.4623], [10, \\\"\\\\uae40\\\\uc81c\\\", \\\"\\\\ubcbc\\\", 0.4, 0.15045, 7.69957, 1.743912, 9.593932, 1.568179, 80.254582, 18.17724], [11, \\\"\\\\uae40\\\\uc81c\\\", \\\"\\\\ubcbc\\\", 0.2, 0.13005, 7.15067, 1.719234, 8.999954, 1.445007, 79.452295, 19.102698], [12, \\\"\\\\uae40\\\\uc81c\\\", \\\"\\\\ubcbc\\\", 0.2, 0.1428, 7.24049, 1.52181, 8.9051, 1.603575, 81.307228, 17.089196], [13, \\\"\\\\uae40\\\\uc81c\\\", \\\"\\\\ubcbc\\\", 0.2, 0.17595, 7.99897, 1.628748, 9.803668, 1.794736, 81.591604, 16.613659], [14, \\\"\\\\uae40\\\\uc81c\\\", \\\"\\\\ubcbc\\\", 0.3, 0.14025, 7.25546, 1.834398, 9.230108, 1.519484, 78.606448, 19.874069], [15, \\\"\\\\uae40\\\\uc81c\\\", \\\"\\\\ubcbc\\\", 0.3, 0.10455, 7.12073, 1.6452, 8.87048, 1.178628, 80.274461, 18.546911], [16, \\\"\\\\uae40\\\\uc81c\\\", \\\"\\\\ubcbc\\\", 0.3, 0.1632, 7.00097, 1.571166, 8.735336, 1.868274, 80.1454, 17.986326], [17, \\\"\\\\uae40\\\\uc81c\\\", \\\"\\\\ubcbc\\\", 0.4, 0.1326, 6.80636, 1.472454, 8.411414, 1.576429, 80.918143, 17.505428], [18, \\\"\\\\uae40\\\\uc81c\\\", \\\"\\\\ubcbc\\\", 0.3, 0.2448, 8.28839, 1.6452, 10.17839, 2.405096, 81.431248, 16.163657], [19, \\\"\\\\uae40\\\\uc81c\\\", \\\"\\\\ubcbc\\\", 0.4, 0.102, 7.25546, 1.678104, 9.035564, 1.128873, 80.298917, 18.572211], [20, \\\"\\\\uae40\\\\uc81c\\\", \\\"\\\\ubcbc\\\", 0.3, 0.13515, 7.96903, 1.941336, 10.045516, 1.345376, 79.329225, 19.325399], [21, \\\"\\\\uae40\\\\uc81c\\\", \\\"\\\\ubcbc\\\", 0.4, 0.15045, 8.77242, 2.731032, 11.653902, 1.290984, 75.27453, 23.434486], [22, \\\"\\\\uae40\\\\uc81c\\\", \\\"\\\\ubcbc\\\", 0.3, 0.1122, 7.63969, 1.80972, 9.56161, 1.173443, 79.899619, 18.926938], [23, \\\"\\\\uae40\\\\uc81c\\\", \\\"\\\\ubcbc\\\", 0.3, 0.15555, 7.39518, 1.579392, 9.130122, 1.703701, 80.997603, 17.298695], [24, \\\"\\\\uae40\\\\uc81c\\\", \\\"\\\\ubcbc\\\", 0.2, 0.14025, 6.7864, 1.636974, 8.563624, 1.637741, 79.246824, 19.115435], [25, \\\"\\\\uae40\\\\uc81c\\\", \\\"\\\\ubcbc\\\", 0.3, 0.1275, 8.11873, 2.048274, 10.294504, 1.238525, 78.864703, 19.896772], [26, \\\"\\\\uae40\\\\uc81c\\\", \\\"\\\\ubcbc\\\", 0.3, 0.1581, 7.95406, 2.270376, 10.382536, 1.522749, 76.609992, 21.867259], [27, \\\"\\\\uae40\\\\uc81c\\\", \\\"\\\\ubcbc\\\", 0.4, 0.17085, 8.87222, 2.42667, 11.46974, 1.489572, 77.353279, 21.157149], [28, \\\"\\\\uae40\\\\uc81c\\\", \\\"\\\\ubcbc\\\", 0.3, 0.1275, 8.23849, 2.50893, 10.87492, 1.172422, 75.756787, 23.07079], [29, \\\"\\\\uae40\\\\uc81c\\\", \\\"\\\\ubcbc\\\", 0.3, 0.1173, 8.51793, 1.595844, 10.231074, 1.146507, 83.255482, 15.598011], [30, \\\"\\\\uae40\\\\uc81c\\\", \\\"\\\\ubcbc\\\", 0.4, 0.2193, 9.31134, 2.155212, 11.685852, 1.876628, 79.680455, 18.442917], [31, \\\"\\\\uae40\\\\uc81c\\\", \\\"\\\\ubcbc\\\", 0.4, 0.16575, 8.50296, 2.188116, 10.856826, 1.526689, 78.319023, 20.154288], [32, \\\"\\\\uae40\\\\uc81c\\\", \\\"\\\\ubcbc\\\", 0.3, 0.13005, 7.45007, 1.966014, 9.546134, 1.362332, 78.042797, 20.594871], [33, \\\"\\\\uae40\\\\uc81c\\\", \\\"\\\\ubcbc\\\", 0.4, 0.1275, 6.84129, 1.702782, 8.671572, 1.470322, 78.893308, 19.63637], [34, \\\"\\\\uae40\\\\uc81c\\\", \\\"\\\\ubcbc\\\", 0.3, 0.1581, 8.14368, 1.949562, 10.251342, 1.542237, 79.440136, 19.017627], [35, \\\"\\\\uae40\\\\uc81c\\\", \\\"\\\\ubcbc\\\", 0.3, 0.1275, 8.07881, 1.982466, 10.188776, 1.251377, 79.291271, 19.457352], [36, \\\"\\\\uae40\\\\uc81c\\\", \\\"\\\\ubcbc\\\", 0.3, 0.12495, 7.78939, 2.048274, 9.962614, 1.254189, 78.186207, 20.559604], [37, \\\"\\\\uae40\\\\uc81c\\\", \\\"\\\\ubcbc\\\", 0.3, 0.13005, 7.92911, 1.982466, 10.041626, 1.295109, 78.962411, 19.74248], [38, \\\"\\\\uae40\\\\uc81c\\\", \\\"\\\\ubcbc\\\", 0.3, 0.1326, 7.95406, 1.85085, 9.93751, 1.334338, 80.040775, 18.624887], [39, \\\"\\\\uae40\\\\uc81c\\\", \\\"\\\\ubcbc\\\", 0.2, 0.1479, 7.4351, 1.908432, 9.491432, 1.558247, 78.33486, 20.106892], [40, \\\"\\\\uae40\\\\uc81c\\\", \\\"\\\\ubcbc\\\", 0.2, 0.11985, 8.28839, 2.007144, 10.415384, 1.150702, 79.578343, 19.270955], [41, \\\"\\\\uae40\\\\uc81c\\\", \\\"\\\\ubcbc\\\", 0.4, 0.1785, 7.34029, 1.785042, 9.303832, 1.918564, 78.895341, 19.186095], [42, \\\"\\\\uae40\\\\uc81c\\\", \\\"\\\\ubcbc\\\", 0.3, 0.25755, 7.49997, 2.040048, 9.797568, 2.628714, 76.549303, 20.821984], [43, \\\"\\\\uae40\\\\uc81c\\\", \\\"\\\\ubcbc\\\", 0.4, 0.17085, 7.92412, 1.908432, 10.003402, 1.707919, 79.214251, 19.07783], [44, \\\"\\\\uae40\\\\uc81c\\\", \\\"\\\\ubcbc\\\", 0.2, 0.13515, 5.90317, 2.163438, 8.201758, 1.647817, 71.974447, 26.377735], [45, \\\"\\\\uae40\\\\uc81c\\\", \\\"\\\\ubcbc\\\", 0.3, 0.10965, 6.16265, 2.212794, 8.485094, 1.292266, 72.629131, 26.078603], [46, \\\"\\\\uae40\\\\uc81c\\\", \\\"\\\\ubcbc\\\", 0.4, 0.13005, 7.14069, 2.048274, 9.319014, 1.395534, 76.624952, 21.979514], [47, \\\"\\\\uae40\\\\uc81c\\\", \\\"\\\\ubcbc\\\", 0.6, 0.8109, 9.16164, 2.38554, 12.35808, 6.561699, 74.134817, 19.303484], [48, \\\"\\\\ud654\\\\uc131\\\", \\\"\\\\ubcbc\\\", 3.24, 1.28, 4.15, 5.68, 11.11, 11.521152, 37.353735, 51.125113], [49, \\\"\\\\ud654\\\\uc131\\\", \\\"\\\\ubcbc\\\", 3.25, 1.25, 4.72, 5.65, 11.62, 10.757315, 40.619621, 48.623064], [50, \\\"\\\\ud654\\\\uc131\\\", \\\"\\\\ubcbc\\\", 3.3, 1.46, 4.53, 5.7, 11.69, 12.489307, 38.751069, 48.759624], [51, \\\"\\\\ud654\\\\uc131\\\", \\\"\\\\ubcbc\\\", 2.54, 1.19, 5.26, 4.93, 11.38, 10.456942, 46.221441, 43.321617], [52, \\\"\\\\ud654\\\\uc131\\\", \\\"\\\\ubcbc\\\", 3.05, 1.48, 3.97, 5.0, 10.45, 14.162679, 37.990431, 47.84689], [53, \\\"\\\\ud654\\\\uc131\\\", \\\"\\\\ubcbc\\\", 2.81, 1.24, 4.31, 5.15, 10.7, 11.588785, 40.280374, 48.130841], [54, \\\"\\\\ud654\\\\uc131\\\", \\\"\\\\ubcbc\\\", 2.49, 1.22, 4.39, 5.36, 10.97, 11.12124, 40.018232, 48.860529], [55, \\\"\\\\ud654\\\\uc131\\\", \\\"\\\\ubcbc\\\", 2.41, 1.1, 5.42, 4.66, 11.18, 9.838998, 48.479428, 41.681574], [56, \\\"\\\\ud654\\\\uc131\\\", \\\"\\\\ubcbc\\\", 2.47, 1.17, 5.45, 5.44, 12.06, 9.701493, 45.190713, 45.107794], [57, \\\"\\\\ud654\\\\uc131\\\", \\\"\\\\ubcbc\\\", 2.05, 1.02, 5.82, 5.1, 11.94, 8.542714, 48.743719, 42.713568], [58, \\\"\\\\ud654\\\\uc131\\\", \\\"\\\\ubcbc\\\", 2.31, 1.01, 5.97, 5.07, 12.05, 8.381743, 49.543568, 42.074689], [59, \\\"\\\\ud654\\\\uc131\\\", \\\"\\\\ubcbc\\\", 2.52, 1.14, 5.69, 4.8, 11.63, 9.802236, 48.925193, 41.272571], [60, \\\"\\\\ud654\\\\uc131\\\", \\\"\\\\ubcbc\\\", 2.51, 1.24, 4.75, 5.29, 11.28, 10.992908, 42.109929, 46.897163], [61, \\\"\\\\ud654\\\\uc131\\\", \\\"\\\\ubcbc\\\", 2.52, 1.18, 4.77, 5.21, 11.16, 10.573477, 42.741935, 46.684588], [62, \\\"\\\\ud654\\\\uc131\\\", \\\"\\\\ubcbc\\\", 2.17, 1.02, 5.05, 5.22, 11.29, 9.034544, 44.729849, 46.235607], [63, \\\"\\\\ud654\\\\uc131\\\", \\\"\\\\ubcbc\\\", 2.48, 1.08, 5.19, 4.93, 11.2, 9.642857, 46.339286, 44.017857], [64, \\\"\\\\ud654\\\\uc131\\\", \\\"\\\\ubcbc\\\", 2.02, 1.28, 5.03, 5.39, 11.7, 10.940171, 42.991453, 46.068376], [65, \\\"\\\\ud654\\\\uc131\\\", \\\"\\\\ubcbc\\\", 1.49, 1.08, 4.9, 5.36, 11.34, 9.52381, 43.209877, 47.266314], [66, \\\"\\\\ud654\\\\uc131\\\", \\\"\\\\ubcbc\\\", 1.65, 1.08, 5.18, 5.1, 11.36, 9.507042, 45.598592, 44.894366], [67, \\\"\\\\ud654\\\\uc131\\\", \\\"\\\\ubcbc\\\", 1.53, 1.02, 4.91, 5.09, 11.02, 9.255898, 44.555354, 46.188748], [68, \\\"\\\\ud654\\\\uc131\\\", \\\"\\\\ubcbc\\\", 1.42, 1.1, 5.25, 4.65, 11.0, 10.0, 47.727273, 42.272727], [69, \\\"\\\\ud654\\\\uc131\\\", \\\"\\\\ubcbc\\\", 1.89, 1.14, 5.07, 5.23, 11.44, 9.965035, 44.318182, 45.716783], [70, \\\"\\\\ud654\\\\uc131\\\", \\\"\\\\ubcbc\\\", 2.02, 1.31, 5.73, 5.11, 12.15, 10.781893, 47.160494, 42.057613], [71, \\\"\\\\ud654\\\\uc131\\\", \\\"\\\\ubcbc\\\", 6.55, 0.9, 4.93, 3.5, 9.33, 9.646302, 52.8403, 37.513398], [72, \\\"\\\\ud654\\\\uc131\\\", \\\"\\\\ubcbc\\\", 5.03, 0.83, 4.39, 3.42, 8.64, 9.606481, 50.810185, 39.583333], [73, \\\"\\\\ud654\\\\uc131\\\", \\\"\\\\ubcbc\\\", 4.0, 0.8, 4.68, 3.14, 8.62, 9.280742, 54.292343, 36.426914], [74, \\\"\\\\ud654\\\\uc131\\\", \\\"\\\\ubcbc\\\", 3.36, 0.79, 4.27, 3.27, 8.33, 9.483794, 51.260504, 39.255702], [75, \\\"\\\\ud654\\\\uc131\\\", \\\"\\\\ubcbc\\\", 5.12, 0.85, 3.86, 3.63, 8.34, 10.191847, 46.282974, 43.52518], [76, \\\"\\\\ud654\\\\uc131\\\", \\\"\\\\ubcbc\\\", 4.15, 0.76, 4.06, 3.29, 8.11, 9.371147, 50.061652, 40.567201], [77, \\\"\\\\ud654\\\\uc131\\\", \\\"\\\\ubcbc\\\", 2.82, 0.8, 5.68, 2.83, 9.31, 8.592911, 61.009667, 30.397422], [78, \\\"\\\\ud654\\\\uc131\\\", \\\"\\\\ubcbc\\\", 1.73, 0.74, 5.18, 2.27, 8.19, 9.035409, 63.247863, 27.716728], [79, \\\"\\\\ud654\\\\uc131\\\", \\\"\\\\ubcbc\\\", 3.38, 0.68, 5.14, 2.61, 8.43, 8.066429, 60.972716, 30.960854], [80, \\\"\\\\ud654\\\\uc131\\\", \\\"\\\\ubcbc\\\", 1.58, 0.79, 4.51, 2.24, 7.54, 10.477454, 59.814324, 29.708223], [81, \\\"\\\\ud654\\\\uc131\\\", \\\"\\\\ubcbc\\\", 2.28, 0.78, 5.08, 2.41, 8.27, 9.431681, 61.426844, 29.141475], [82, \\\"\\\\ud654\\\\uc131\\\", \\\"\\\\ubcbc\\\", 1.65, 0.75, 5.08, 2.49, 8.32, 9.014423, 61.057692, 29.927885], [83, \\\"\\\\ud654\\\\uc131\\\", \\\"\\\\ubcbc\\\", 3.03, 0.83, 5.18, 2.48, 8.49, 9.776207, 61.012956, 29.210836], [84, \\\"\\\\ud654\\\\uc131\\\", \\\"\\\\ubcbc\\\", 2.68, 0.59, 4.99, 2.36, 7.94, 7.43073, 62.846348, 29.722922], [85, \\\"\\\\ud654\\\\uc131\\\", \\\"\\\\ubcbc\\\", 1.92, 0.52, 4.77, 2.83, 8.12, 6.403941, 58.743842, 34.852217], [86, \\\"\\\\ud654\\\\uc131\\\", \\\"\\\\ubcbc\\\", 1.76, 0.51, 3.93, 2.74, 7.18, 7.103064, 54.735376, 38.16156], [87, \\\"\\\\ud654\\\\uc131\\\", \\\"\\\\ubcbc\\\", 1.24, 0.56, 3.7, 3.11, 7.37, 7.598372, 50.203528, 42.1981], [88, \\\"\\\\ud654\\\\uc131\\\", \\\"\\\\ubcbc\\\", 1.46, 0.44, 4.31, 2.61, 7.36, 5.978261, 58.559783, 35.461957], [89, \\\"\\\\ud654\\\\uc131\\\", \\\"\\\\ubcbc\\\", 1.52, 0.57, 4.03, 2.81, 7.41, 7.692308, 54.385965, 37.921727], [90, \\\"\\\\ud654\\\\uc131\\\", \\\"\\\\ubcbc\\\", 2.12, 0.51, 4.2, 2.6, 7.31, 6.976744, 57.45554, 35.567715], [91, \\\"\\\\ud654\\\\uc131\\\", \\\"\\\\ubcbc\\\", 1.59, 0.54, 4.07, 2.92, 7.53, 7.171315, 54.050465, 38.77822], [92, \\\"\\\\ud654\\\\uc131\\\", \\\"\\\\ubcbc\\\", 1.74, 0.54, 4.77, 2.33, 7.64, 7.068063, 62.434555, 30.497382], [93, \\\"\\\\ud654\\\\uc131\\\", \\\"\\\\ubcbc\\\", 3.95, 0.77, 4.97, 2.67, 8.41, 9.155767, 59.096314, 31.747919], [94, \\\"\\\\ud654\\\\uc131\\\", \\\"\\\\ubcbc\\\", 3.35, 0.82, 4.64, 3.58, 9.04, 9.070796, 51.327434, 39.60177], [95, \\\"\\\\ud654\\\\uc131\\\", \\\"\\\\ubcbc\\\", 1.73, 0.56, 4.02, 2.42, 7.0, 8.0, 57.428571, 34.571429], [96, \\\"\\\\ud654\\\\uc131\\\", \\\"\\\\ubcbc\\\", 1.98, 0.69, 4.21, 2.7, 7.6, 9.078947, 55.394737, 35.526316], [97, \\\"\\\\ud654\\\\uc131\\\", \\\"\\\\ubcbc\\\", 4.12, 1.0, 5.63, 3.21, 9.84, 10.162602, 57.215447, 32.621951], [98, \\\"\\\\ud654\\\\uc131\\\", \\\"\\\\ubcbc\\\", 3.58, 0.64, 5.16, 2.83, 8.63, 7.415991, 59.791425, 32.792584], [99, \\\"\\\\ud654\\\\uc131\\\", \\\"\\\\ubcbc\\\", 5.01, 0.72, 5.41, 2.95, 9.08, 7.929515, 59.581498, 32.488987], [100, \\\"\\\\ud654\\\\uc131\\\", \\\"\\\\ubcbc\\\", 2.52, 0.57, 4.96, 2.4, 7.93, 7.187894, 62.547289, 30.264817], [101, \\\"\\\\ud654\\\\uc131\\\", \\\"\\\\ubcbc\\\", 3.1, 0.73, 5.36, 2.48, 8.57, 8.518086, 62.543757, 28.938156], [102, \\\"\\\\ud654\\\\uc131\\\", \\\"\\\\ubcbc\\\", 3.87, 0.88, 3.77, 3.74, 8.39, 10.488677, 44.934446, 44.576877], [103, \\\"\\\\ud654\\\\uc131\\\", \\\"\\\\ubcbc\\\", 3.83, 0.9, 4.06, 3.43, 8.39, 10.727056, 48.390942, 40.882002], [104, \\\"\\\\ud654\\\\uc131\\\", \\\"\\\\ubcbc\\\", 4.08, 0.97, 4.85, 3.54, 9.36, 10.363248, 51.816239, 37.820513], [105, \\\"\\\\ud654\\\\uc131\\\", \\\"\\\\ubcbc\\\", 2.88, 0.82, 4.74, 2.74, 8.3, 9.879518, 57.108434, 33.012048], [106, \\\"\\\\ud654\\\\uc131\\\", \\\"\\\\ubcbc\\\", 2.25, 0.82, 4.87, 2.94, 8.63, 9.501738, 56.431054, 34.067207], [107, \\\"\\\\ud654\\\\uc131\\\", \\\"\\\\ubcbc\\\", 2.13, 0.73, 4.75, 2.75, 8.23, 8.869988, 57.715674, 33.414338], [108, \\\"\\\\ud654\\\\uc131\\\", \\\"\\\\ubcbc\\\", 2.88, 0.64, 3.48, 3.24, 7.36, 8.695652, 47.282609, 44.021739], [109, \\\"\\\\ud654\\\\uc131\\\", \\\"\\\\ubcbc\\\", 2.24, 0.71, 3.88, 3.34, 7.93, 8.953342, 48.928121, 42.118537], [110, \\\"\\\\ud654\\\\uc131\\\", \\\"\\\\ubcbc\\\", 3.84, 0.77, 4.71, 3.19, 8.67, 8.8812, 54.32526, 36.793541], [111, \\\"\\\\ud654\\\\uc131\\\", \\\"\\\\ubcbc\\\", 3.41, 0.58, 4.54, 2.79, 7.91, 7.332491, 57.395702, 35.271808], [112, \\\"\\\\ud654\\\\uc131\\\", \\\"\\\\ubcbc\\\", 4.08, 0.77, 3.01, 3.69, 7.47, 10.307898, 40.294511, 49.39759], [113, \\\"\\\\ud654\\\\uc131\\\", \\\"\\\\ubcbc\\\", 4.38, 0.52, 4.33, 2.83, 7.68, 6.770833, 56.380208, 36.848958], [114, \\\"\\\\ud654\\\\uc131\\\", \\\"\\\\ubcbc\\\", 3.17, 0.53, 4.25, 2.79, 7.57, 7.001321, 56.142668, 36.856011], [115, \\\"\\\\ud654\\\\uc131\\\", \\\"\\\\ubcbc\\\", 5.32, 0.53, 4.5, 3.44, 8.47, 6.257379, 53.128689, 40.613932], [162, \\\"\\\\uae40\\\\uc81c\\\", \\\"\\\\ucf69\\\", 0.55, 0.19, 5.26, 1.69, 7.14, 2.661064, 73.669468, 23.669468], [163, \\\"\\\\uae40\\\\uc81c\\\", \\\"\\\\ucf69\\\", 0.62, 0.23, 4.56, 1.31, 6.1, 3.770492, 74.754098, 21.47541], [164, \\\"\\\\uae40\\\\uc81c\\\", \\\"\\\\ucf69\\\", 0.46, 0.17, 3.96, 1.13, 5.26, 3.231939, 75.285171, 21.48289], [165, \\\"\\\\uae40\\\\uc81c\\\", \\\"\\\\ucf69\\\", 0.45, 0.2, 4.71, 1.52, 6.43, 3.11042, 73.250389, 23.639191], [166, \\\"\\\\uae40\\\\uc81c\\\", \\\"\\\\ucf69\\\", 0.46, 0.18, 5.32, 1.75, 7.25, 2.482759, 73.37931, 24.137931], [167, \\\"\\\\uae40\\\\uc81c\\\", \\\"\\\\ucf69\\\", 0.58, 0.18, 4.87, 1.34, 6.39, 2.816901, 76.212833, 20.970266], [168, \\\"\\\\uae40\\\\uc81c\\\", \\\"\\\\ucf69\\\", 0.53, 0.17, 5.27, 1.45, 6.89, 2.467344, 76.487663, 21.044993], [169, \\\"\\\\uae40\\\\uc81c\\\", \\\"\\\\ucf69\\\", 0.42, 0.2, 6.2, 2.53, 8.93, 2.239642, 69.428891, 28.331467], [170, \\\"\\\\uae40\\\\uc81c\\\", \\\"\\\\ucf69\\\", 0.45, 0.21, 6.65, 2.67, 9.53, 2.203568, 69.779643, 28.016789], [171, \\\"\\\\uae40\\\\uc81c\\\", \\\"\\\\ucf69\\\", 0.59, 0.21, 5.43, 1.85, 7.49, 2.803738, 72.496662, 24.699599], [172, \\\"\\\\uae40\\\\uc81c\\\", \\\"\\\\ucf69\\\", 0.94, 0.27, 4.27, 1.31, 5.85, 4.615385, 72.991453, 22.393162], [173, \\\"\\\\uae40\\\\uc81c\\\", \\\"\\\\ucf69\\\", 0.95, 0.25, 4.36, 1.56, 6.17, 4.051864, 70.664506, 25.28363], [174, \\\"\\\\uae40\\\\uc81c\\\", \\\"\\\\ucf69\\\", 0.9, 0.46, 5.26, 1.78, 7.5, 6.133333, 70.133333, 23.733333], [175, \\\"\\\\uae40\\\\uc81c\\\", \\\"\\\\ucf69\\\", 0.87, 0.19, 5.02, 2.02, 7.23, 2.627939, 69.432918, 27.939142], [176, \\\"\\\\uae40\\\\uc81c\\\", \\\"\\\\ucf69\\\", 1.06, 0.17, 4.12, 1.67, 5.96, 2.852349, 69.127517, 28.020134], [177, \\\"\\\\uae40\\\\uc81c\\\", \\\"\\\\ucf69\\\", 0.62, 0.2, 5.94, 2.02, 8.16, 2.45098, 72.794118, 24.754902], [178, \\\"\\\\uae40\\\\uc81c\\\", \\\"\\\\ucf69\\\", 0.64, 0.17, 5.36, 1.56, 7.09, 2.397743, 75.599436, 22.002821], [179, \\\"\\\\uae40\\\\uc81c\\\", \\\"\\\\ucf69\\\", 0.51, 0.17, 5.8, 2.54, 8.51, 1.99765, 68.155112, 29.847239], [180, \\\"\\\\uae40\\\\uc81c\\\", \\\"\\\\ucf69\\\", 0.49, 0.15, 5.19, 1.8, 7.14, 2.10084, 72.689076, 25.210084], [181, \\\"\\\\uae40\\\\uc81c\\\", \\\"\\\\ucf69\\\", 0.55, 0.17, 5.25, 2.48, 7.9, 2.151899, 66.455696, 31.392405], [182, \\\"\\\\uae40\\\\uc81c\\\", \\\"\\\\ucf69\\\", 0.45, 0.18, 5.97, 1.73, 7.88, 2.284264, 75.761421, 21.954315], [183, \\\"\\\\uae40\\\\uc81c\\\", \\\"\\\\ucf69\\\", 0.52, 0.22, 6.63, 2.35, 9.2, 2.391304, 72.065217, 25.543478], [184, \\\"\\\\uae40\\\\uc81c\\\", \\\"\\\\ucf69\\\", 0.37, 0.16, 5.07, 1.43, 6.66, 2.402402, 76.126126, 21.471471], [185, \\\"\\\\uae40\\\\uc81c\\\", \\\"\\\\ucf69\\\", 0.55, 0.18, 5.56, 2.11, 7.85, 2.292994, 70.828025, 26.878981], [186, \\\"\\\\uae40\\\\uc81c\\\", \\\"\\\\ucf69\\\", 0.39, 0.15, 5.49, 2.03, 7.67, 1.955671, 71.577575, 26.466754], [187, \\\"\\\\uae40\\\\uc81c\\\", \\\"\\\\ucf69\\\", 0.47, 0.18, 5.53, 1.87, 7.58, 2.37467, 72.955145, 24.670185], [188, \\\"\\\\uae40\\\\uc81c\\\", \\\"\\\\ucf69\\\", 0.66, 0.2, 5.39, 1.7, 7.29, 2.743484, 73.9369, 23.319616], [189, \\\"\\\\uae40\\\\uc81c\\\", \\\"\\\\ucf69\\\", 0.52, 0.17, 5.24, 1.77, 7.18, 2.367688, 72.980501, 24.651811], [190, \\\"\\\\uae40\\\\uc81c\\\", \\\"\\\\ucf69\\\", 0.47, 0.15, 4.79, 1.35, 6.29, 2.384738, 76.152623, 21.462639], [191, \\\"\\\\uae40\\\\uc81c\\\", \\\"\\\\ucf69\\\", 0.28, 0.15, 5.29, 1.78, 7.22, 2.077562, 73.268698, 24.65374], [192, \\\"\\\\uae40\\\\uc81c\\\", \\\"\\\\ucf69\\\", 0.71, 0.87, 6.26, 2.12, 9.25, 9.405405, 67.675676, 22.918919], [193, \\\"\\\\uae40\\\\uc81c\\\", \\\"\\\\ucf69\\\", 0.41, 0.31, 4.1, 1.38, 5.79, 5.354059, 70.811744, 23.834197], [194, \\\"\\\\uae40\\\\uc81c\\\", \\\"\\\\ucf69\\\", 0.31, 0.17, 3.89, 1.15, 5.21, 3.262956, 74.664107, 22.072937], [195, \\\"\\\\uae40\\\\uc81c\\\", \\\"\\\\ucf69\\\", 0.42, 0.18, 4.7, 1.4, 6.28, 2.866242, 74.840764, 22.292994], [196, \\\"\\\\uae40\\\\uc81c\\\", \\\"\\\\ucf69\\\", 0.35, 0.17, 6.0, 1.79, 7.96, 2.135678, 75.376884, 22.487437], [197, \\\"\\\\uae40\\\\uc81c\\\", \\\"\\\\ucf69\\\", 0.31, 0.2, 5.39, 1.7, 7.29, 2.743484, 73.9369, 23.319616], [198, \\\"\\\\uae40\\\\uc81c\\\", \\\"\\\\ucf69\\\", 0.39, 0.22, 4.7, 1.54, 6.46, 3.405573, 72.755418, 23.839009], [199, \\\"\\\\uae40\\\\uc81c\\\", \\\"\\\\ucf69\\\", 0.25, 0.17, 5.4, 1.51, 7.08, 2.40113, 76.271186, 21.327684], [200, \\\"\\\\uae40\\\\uc81c\\\", \\\"\\\\ucf69\\\", 0.45, 0.16, 5.37, 1.52, 7.05, 2.269504, 76.170213, 21.560284], [201, \\\"\\\\uae40\\\\uc81c\\\", \\\"\\\\ucf69\\\", 0.55, 0.19, 5.48, 1.8, 7.47, 2.543507, 73.360107, 24.096386], [202, \\\"\\\\uae40\\\\uc81c\\\", \\\"\\\\ucf69\\\", 0.34, 0.14, 4.4, 1.21, 5.75, 2.434783, 76.521739, 21.043478], [203, \\\"\\\\uae40\\\\uc81c\\\", \\\"\\\\ucf69\\\", 0.48, 0.13, 3.77, 0.86, 4.76, 2.731092, 79.201681, 18.067227], [204, \\\"\\\\uae40\\\\uc81c\\\", \\\"\\\\ucf69\\\", 0.25, 0.13, 5.39, 1.19, 6.71, 1.937407, 80.327869, 17.734724], [205, \\\"\\\\uae40\\\\uc81c\\\", \\\"\\\\ucf69\\\", 0.51, 0.16, 7.76, 1.03, 8.95, 1.787709, 86.703911, 11.50838], [206, \\\"\\\\uae40\\\\uc81c\\\", \\\"\\\\ucf69\\\", 0.83, 0.17, 6.31, 1.39, 7.87, 2.160102, 80.177891, 17.662008], [207, \\\"\\\\uae40\\\\uc81c\\\", \\\"\\\\ucf69\\\", 0.55, 0.43, 4.52, 1.49, 6.44, 6.677019, 70.186335, 23.136646], [208, \\\"\\\\uae40\\\\uc81c\\\", \\\"\\\\ucf69\\\", 0.45, 0.49, 5.14, 1.54, 7.17, 6.834031, 71.687587, 21.478382], [209, \\\"\\\\uae40\\\\uc81c\\\", \\\"\\\\ucf69\\\", 0.52, 0.52, 5.1, 1.56, 7.18, 7.24234, 71.030641, 21.727019], [210, \\\"\\\\uae40\\\\uc81c\\\", \\\"\\\\ucf69\\\", 0.47, 0.56, 4.99, 1.42, 6.97, 8.034433, 71.592539, 20.373027], [211, \\\"\\\\uae40\\\\uc81c\\\", \\\"\\\\ucf69\\\", 0.59, 0.53, 4.54, 1.22, 6.29, 8.426073, 72.17806, 19.395866], [212, \\\"\\\\uae40\\\\uc81c\\\", \\\"\\\\ucf69\\\", 0.72, 0.33, 4.76, 1.54, 6.63, 4.977376, 71.794872, 23.227753], [213, \\\"\\\\uae40\\\\uc81c\\\", \\\"\\\\ucf69\\\", 0.27, 0.29, 4.81, 1.28, 6.38, 4.545455, 75.39185, 20.062696], [214, \\\"\\\\uae40\\\\uc81c\\\", \\\"\\\\ucf69\\\", 0.39, 0.38, 5.48, 1.33, 7.19, 5.285118, 76.216968, 18.497914], [215, \\\"\\\\uae40\\\\uc81c\\\", \\\"\\\\ucf69\\\", 0.56, 0.37, 4.4, 1.1, 5.87, 6.303237, 74.957411, 18.739353], [216, \\\"\\\\uae40\\\\uc81c\\\", \\\"\\\\ucf69\\\", 0.6, 0.43, 4.84, 1.38, 6.65, 6.466165, 72.781955, 20.75188], [217, \\\"\\\\uae40\\\\uc81c\\\", \\\"\\\\ucf69\\\", 0.56, 0.32, 4.67, 1.42, 6.41, 4.9922, 72.854914, 22.152886], [218, \\\"\\\\uae40\\\\uc81c\\\", \\\"\\\\ucf69\\\", 0.57, 0.31, 4.7, 1.28, 6.29, 4.928458, 74.721781, 20.349762], [219, \\\"\\\\uae40\\\\uc81c\\\", \\\"\\\\ucf69\\\", 0.45, 0.27, 4.61, 1.21, 6.09, 4.433498, 75.697865, 19.868637], [220, \\\"\\\\uae40\\\\uc81c\\\", \\\"\\\\ucf69\\\", 0.62, 0.5, 4.5, 1.19, 6.19, 8.077544, 72.6979, 19.224556], [221, \\\"\\\\uae40\\\\uc81c\\\", \\\"\\\\ucf69\\\", 0.69, 0.38, 4.56, 1.18, 6.12, 6.20915, 74.509804, 19.281046], [222, \\\"\\\\uae40\\\\uc81c\\\", \\\"\\\\ucf69\\\", 0.7, 0.56, 7.9, 1.8, 10.26, 5.45809, 76.998051, 17.54386], [223, \\\"\\\\uae40\\\\uc81c\\\", \\\"\\\\ucf69\\\", 0.6, 0.49, 9.9, 1.6, 11.99, 4.086739, 82.568807, 13.344454], [224, \\\"\\\\uae40\\\\uc81c\\\", \\\"\\\\ucf69\\\", 0.5, 0.44, 7.9, 2.0, 10.34, 4.255319, 76.402321, 19.34236], [225, \\\"\\\\uae40\\\\uc81c\\\", \\\"\\\\ucf69\\\", 0.8, 0.54, 7.9, 2.0, 10.44, 5.172414, 75.670498, 19.157088], [226, \\\"\\\\uae40\\\\uc81c\\\", \\\"\\\\ucf69\\\", 0.5, 0.38, 8.0, 2.0, 10.38, 3.660886, 77.071291, 19.267823], [227, \\\"\\\\uae40\\\\uc81c\\\", \\\"\\\\ucf69\\\", 0.6, 0.46, 8.8, 2.0, 11.26, 4.085258, 78.152753, 17.761989], [228, \\\"\\\\uae40\\\\uc81c\\\", \\\"\\\\ucf69\\\", 0.4, 0.27, 9.1, 2.6, 11.97, 2.255639, 76.023392, 21.720969], [229, \\\"\\\\uae40\\\\uc81c\\\", \\\"\\\\ucf69\\\", 0.6, 1.25, 6.4, 2.2, 9.85, 12.690355, 64.974619, 22.335025], [230, \\\"\\\\uae40\\\\uc81c\\\", \\\"\\\\ucf69\\\", 0.6, 0.65, 9.1, 2.1, 11.85, 5.485232, 76.793249, 17.721519], [231, \\\"\\\\uae40\\\\uc81c\\\", \\\"\\\\ucf69\\\", 0.3, 0.5, 7.0, 1.8, 9.3, 5.376344, 75.268817, 19.354839], [232, \\\"\\\\uae40\\\\uc81c\\\", \\\"\\\\ucf69\\\", 0.4, 0.29, 6.0, 1.8, 8.09, 3.584672, 74.165637, 22.249691], [233, \\\"\\\\uae40\\\\uc81c\\\", \\\"\\\\ucf69\\\", 0.5, 0.63, 6.7, 2.0, 9.33, 6.752412, 71.811361, 21.436227], [234, \\\"\\\\uae40\\\\uc81c\\\", \\\"\\\\ucf69\\\", 0.4, 0.25, 7.5, 2.3, 10.05, 2.487562, 74.626866, 22.885572], [235, \\\"\\\\uae40\\\\uc81c\\\", \\\"\\\\ucf69\\\", 0.3, 0.29, 7.4, 1.7, 9.39, 3.088392, 78.807242, 18.104366], [236, \\\"\\\\uae40\\\\uc81c\\\", \\\"\\\\ucf69\\\", 0.5, 0.55, 6.8, 2.3, 9.65, 5.699482, 70.466321, 23.834197], [237, \\\"\\\\uae40\\\\uc81c\\\", \\\"\\\\ucf69\\\", 0.3, 0.38, 5.9, 1.6, 7.88, 4.822335, 74.873096, 20.304569], [238, \\\"\\\\uae40\\\\uc81c\\\", \\\"\\\\ucf69\\\", 0.4, 0.55, 6.0, 1.6, 8.15, 6.748466, 73.619632, 19.631902], [239, \\\"\\\\uae40\\\\uc81c\\\", \\\"\\\\ucf69\\\", 0.3, 0.31, 6.5, 1.8, 8.61, 3.600465, 75.493612, 20.905923], [240, \\\"\\\\uae40\\\\uc81c\\\", \\\"\\\\ucf69\\\", 0.7, 0.83, 7.9, 2.5, 11.23, 7.390917, 70.347284, 22.261799], [241, \\\"\\\\uae40\\\\uc81c\\\", \\\"\\\\ucf69\\\", 0.5, 0.42, 6.5, 2.1, 9.02, 4.656319, 72.062084, 23.281596], [242, \\\"\\\\uae40\\\\uc81c\\\", \\\"\\\\ucf69\\\", 0.7, 0.4, 7.8, 2.0, 10.2, 3.921569, 76.470588, 19.607843], [243, \\\"\\\\uae40\\\\uc81c\\\", \\\"\\\\ucf69\\\", 0.7, 0.43, 7.7, 2.0, 10.13, 4.244817, 76.011846, 19.743337], [244, \\\"\\\\uae40\\\\uc81c\\\", \\\"\\\\ucf69\\\", 0.4, 0.45, 7.3, 2.3, 10.05, 4.477612, 72.636816, 22.885572], [245, \\\"\\\\uae40\\\\uc81c\\\", \\\"\\\\ucf69\\\", 0.5, 0.49, 7.3, 2.2, 9.99, 4.904905, 73.073073, 22.022022], [246, \\\"\\\\uae40\\\\uc81c\\\", \\\"\\\\ucf69\\\", 0.7, 0.76, 7.0, 1.9, 9.66, 7.867495, 72.463768, 19.668737], [247, \\\"\\\\uae40\\\\uc81c\\\", \\\"\\\\ucf69\\\", 0.6, 0.49, 7.4, 1.9, 9.79, 5.005107, 75.587334, 19.407559], [248, \\\"\\\\uae40\\\\uc81c\\\", \\\"\\\\ucf69\\\", 0.4, 0.11, 3.9, 1.1, 5.11, 2.152642, 76.320939, 21.526419], [249, \\\"\\\\uae40\\\\uc81c\\\", \\\"\\\\ucf69\\\", 0.3, 0.17, 4.0, 1.5, 5.67, 2.998236, 70.546737, 26.455026], [250, \\\"\\\\uae40\\\\uc81c\\\", \\\"\\\\ucf69\\\", 0.3, 0.15, 4.6, 2.5, 7.25, 2.068966, 63.448276, 34.482759], [251, \\\"\\\\uae40\\\\uc81c\\\", \\\"\\\\ucf69\\\", 0.6, 0.2, 4.6, 1.7, 6.5, 3.076923, 70.769231, 26.153846], [252, \\\"\\\\uae40\\\\uc81c\\\", \\\"\\\\ucf69\\\", 0.4, 0.2, 4.1, 2.7, 7.0, 2.857143, 58.571429, 38.571429], [253, \\\"\\\\uae40\\\\uc81c\\\", \\\"\\\\ucf69\\\", 0.5, 0.15, 4.2, 2.1, 6.45, 2.325581, 65.116279, 32.55814], [254, \\\"\\\\uae40\\\\uc81c\\\", \\\"\\\\ucf69\\\", 0.5, 0.21, 5.3, 2.7, 8.21, 2.557856, 64.55542, 32.886724], [255, \\\"\\\\uae40\\\\uc81c\\\", \\\"\\\\ucf69\\\", 0.7, 0.34, 4.7, 1.8, 6.84, 4.97076, 68.71345, 26.315789], [256, \\\"\\\\uae40\\\\uc81c\\\", \\\"\\\\ucf69\\\", 0.4, 0.12, 4.1, 1.6, 5.82, 2.061856, 70.446735, 27.491409], [257, \\\"\\\\uc0c8\\\\ub9cc\\\\uae08\\\", \\\"\\\\ucf69\\\", 0.275, 0.421483, 0.968064, 2.158848, 3.548395, 11.878141, 27.281739, 60.840119], [258, \\\"\\\\uc0c8\\\\ub9cc\\\\uae08\\\", \\\"\\\\ucf69\\\", 0.11, 0.346547, 1.400699, 2.583539, 4.330785, 8.001951, 32.342834, 59.655215], [259, \\\"\\\\uc0c8\\\\ub9cc\\\\uae08\\\", \\\"\\\\ucf69\\\", 0.42, 0.518926, 0.91018, 2.728395, 4.157501, 12.481678, 21.892472, 65.62585], [260, \\\"\\\\uc0c8\\\\ub9cc\\\\uae08\\\", \\\"\\\\ucf69\\\", 0.4, 0.341432, 1.666168, 2.231276, 4.238876, 8.054783, 39.306831, 52.638386], [261, \\\"\\\\uc0c8\\\\ub9cc\\\\uae08\\\", \\\"\\\\ucf69\\\", 0.35, 0.683887, 0.88024, 2.621399, 4.185526, 16.339343, 21.030558, 62.630099], [262, \\\"\\\\uc0c8\\\\ub9cc\\\\uae08\\\", \\\"\\\\ucf69\\\", 0.33, 0.632992, 0.848303, 2.731687, 4.212983, 15.024801, 20.135457, 64.839741], [263, \\\"\\\\uc0c8\\\\ub9cc\\\\uae08\\\", \\\"\\\\ucf69\\\", 0.13, 0.665473, 0.901198, 2.652675, 4.219346, 15.771951, 21.358705, 62.869343], [264, \\\"\\\\uc0c8\\\\ub9cc\\\\uae08\\\", \\\"\\\\ucf69\\\", 0.11, 0.372634, 2.25, 2.262551, 4.885186, 7.627842, 46.057614, 46.314543], [265, \\\"\\\\uc0c8\\\\ub9cc\\\\uae08\\\", \\\"\\\\ucf69\\\", 0.165, 0.613555, 0.872754, 2.57037, 4.05668, 15.12456, 21.51401, 63.36143], [266, \\\"\\\\uc0c8\\\\ub9cc\\\\uae08\\\", \\\"\\\\ucf69\\\", 0.105, 0.588491, 1.098303, 2.61893, 4.305724, 13.667643, 25.507981, 60.824376], [267, \\\"\\\\uc0c8\\\\ub9cc\\\\uae08\\\", \\\"\\\\ucf69\\\", 0.125, 0.551918, 0.860778, 2.811523, 4.224219, 13.065566, 20.37722, 66.557214], [268, \\\"\\\\uc0c8\\\\ub9cc\\\\uae08\\\", \\\"\\\\ucf69\\\", 0.1, 0.595652, 0.738523, 2.529218, 3.863393, 15.41785, 19.115915, 65.466235], [269, \\\"\\\\uc0c8\\\\ub9cc\\\\uae08\\\", \\\"\\\\ucf69\\\", 0.115, 0.670844, 1.046906, 2.409877, 4.127627, 16.252535, 25.363393, 58.384072], [270, \\\"\\\\uc0c8\\\\ub9cc\\\\uae08\\\", \\\"\\\\ucf69\\\", 0.11, 0.511253, 0.942116, 2.731687, 4.185056, 12.216161, 22.511424, 65.272415], [271, \\\"\\\\uc0c8\\\\ub9cc\\\\uae08\\\", \\\"\\\\ucf69\\\", 0.1, 0.551151, 0.87525, 2.6, 4.0264, 13.688427, 21.737766, 64.573806], [272, \\\"\\\\uc0c8\\\\ub9cc\\\\uae08\\\", \\\"\\\\ucf69\\\", 0.105, 0.447059, 1.418663, 2.614815, 4.480536, 9.977797, 31.662787, 58.359416], [273, \\\"\\\\uc0c8\\\\ub9cc\\\\uae08\\\", \\\"\\\\ucf69\\\", 0.1, 0.568542, 0.830339, 2.733333, 4.132215, 13.758776, 20.094292, 66.146932], [274, \\\"\\\\uc0c8\\\\ub9cc\\\\uae08\\\", \\\"\\\\ucf69\\\", 0.095, 0.353964, 0.886228, 2.703704, 3.943895, 8.974989, 22.470868, 68.554143], [275, \\\"\\\\uc0c8\\\\ub9cc\\\\uae08\\\", \\\"\\\\ucf69\\\", 0.115, 0.558824, 1.033932, 2.420576, 4.013332, 13.92418, 25.762438, 60.313382], [276, \\\"\\\\uc0c8\\\\ub9cc\\\\uae08\\\", \\\"\\\\ucf69\\\", 0.16, 0.584399, 1.049401, 2.395885, 4.029685, 14.502349, 26.041768, 59.455883], [277, \\\"\\\\uc0c8\\\\ub9cc\\\\uae08\\\", \\\"\\\\ucf69\\\", 0.14, 0.585166, 1.027944, 2.548971, 4.162082, 14.059461, 24.697837, 61.242702], [278, \\\"\\\\uc0c8\\\\ub9cc\\\\uae08\\\", \\\"\\\\ucf69\\\", 0.175, 0.552685, 0.919162, 2.504527, 3.976374, 13.899232, 23.115575, 62.985193], [279, \\\"\\\\uc0c8\\\\ub9cc\\\\uae08\\\", \\\"\\\\ucf69\\\", 0.2, 0.642199, 0.860778, 2.512757, 4.015735, 15.992078, 21.43514, 62.572782], [280, \\\"\\\\uc0c8\\\\ub9cc\\\\uae08\\\", \\\"\\\\ucf69\\\", 0.155, 0.66445, 0.823852, 2.318519, 3.806821, 17.4542, 21.641477, 60.904323], [281, \\\"\\\\uc0c8\\\\ub9cc\\\\uae08\\\", \\\"\\\\ucf69\\\", 0.12, 0.437596, 1.168663, 2.616461, 4.222719, 10.362893, 27.675593, 61.961513], [282, \\\"\\\\uc0c8\\\\ub9cc\\\\uae08\\\", \\\"\\\\ucf69\\\", 0.185, 0.582609, 0.811377, 2.274074, 3.66806, 15.883292, 22.120065, 61.996643], [283, \\\"\\\\uc0c8\\\\ub9cc\\\\uae08\\\", \\\"\\\\ucf69\\\", 0.22, 0.672634, 1.032934, 2.669136, 4.374704, 15.375537, 23.611519, 61.012943], [284, \\\"\\\\uc0c8\\\\ub9cc\\\\uae08\\\", \\\"\\\\ucf69\\\", 0.12, 0.43555, 0.98004, 2.790947, 4.206536, 10.354121, 23.298026, 66.347853], [285, \\\"\\\\uc0c8\\\\ub9cc\\\\uae08\\\", \\\"\\\\ucf69\\\", 0.145, 0.440665, 1.526946, 2.099588, 4.0672, 10.834604, 37.542936, 51.62246], [286, \\\"\\\\uc0c8\\\\ub9cc\\\\uae08\\\", \\\"\\\\ucf69\\\", 0.175, 0.362148, 1.164172, 2.490535, 4.016855, 9.015719, 28.982168, 62.002113], [287, \\\"\\\\uc0c8\\\\ub9cc\\\\uae08\\\", \\\"\\\\ucf69\\\", 0.11, 0.413299, 1.237026, 2.508642, 4.158967, 9.937545, 29.743585, 60.31887], [288, \\\"\\\\uc0c8\\\\ub9cc\\\\uae08\\\", \\\"\\\\ucf69\\\", 0.14, 0.515857, 0.936627, 2.363786, 3.81627, 13.517305, 24.542993, 61.939703], [289, \\\"\\\\uc0c8\\\\ub9cc\\\\uae08\\\", \\\"\\\\ucf69\\\", 0.105, 0.345269, 1.2001, 2.222222, 3.767591, 9.164174, 31.853244, 58.982583], [290, \\\"\\\\uc0c8\\\\ub9cc\\\\uae08\\\", \\\"\\\\ucf69\\\", 0.1, 0.532737, 1.095808, 2.691358, 4.319903, 12.332142, 25.366504, 62.301353], [291, \\\"\\\\uc0c8\\\\ub9cc\\\\uae08\\\", \\\"\\\\ucf69\\\", 0.095, 0.397954, 0.944112, 2.357202, 3.699267, 10.757643, 25.521588, 63.72077], [292, \\\"\\\\uc0c8\\\\ub9cc\\\\uae08\\\", \\\"\\\\ucf69\\\", 0.105, 0.401535, 1.030938, 2.5893, 4.021773, 9.984018, 25.633921, 64.382062], [293, \\\"\\\\uc0c8\\\\ub9cc\\\\uae08\\\", \\\"\\\\ucf69\\\", 0.36, 0.525831, 0.909681, 2.251852, 3.687364, 14.260356, 24.670217, 61.069426], [294, \\\"\\\\uc0c8\\\\ub9cc\\\\uae08\\\", \\\"\\\\ucf69\\\", 0.355, 0.424552, 1.175649, 2.290535, 3.890736, 10.911879, 30.216614, 58.871507], [295, \\\"\\\\uc0c8\\\\ub9cc\\\\uae08\\\", \\\"\\\\ucf69\\\", 0.37, 0.160102, 3.868263, 0.978601, 5.006967, 3.197591, 77.257625, 19.544784], [296, \\\"\\\\uc0c8\\\\ub9cc\\\\uae08\\\", \\\"\\\\ucf69\\\", 0.25, 0.328645, 1.327844, 2.441152, 4.097641, 8.020334, 32.405091, 59.574575], [297, \\\"\\\\uc0c8\\\\ub9cc\\\\uae08\\\", \\\"\\\\ucf69\\\", 0.255, 0.18133, 3.513473, 0.987654, 4.682457, 3.872538, 75.034812, 21.09265], [298, \\\"\\\\uc0c8\\\\ub9cc\\\\uae08\\\", \\\"\\\\ucf69\\\", 0.155, 0.170077, 2.441118, 1.595062, 4.206256, 4.043423, 58.035403, 37.921174], [299, \\\"\\\\uc0c8\\\\ub9cc\\\\uae08\\\", \\\"\\\\ucf69\\\", 0.155, 0.475959, 1.134731, 2.366255, 3.976945, 11.967958, 28.532721, 59.499321], [300, \\\"\\\\uc0c8\\\\ub9cc\\\\uae08\\\", \\\"\\\\ucf69\\\", 0.115, 0.497442, 1.115768, 2.48642, 4.099631, 12.133836, 27.216317, 60.649848], [301, \\\"\\\\uc0c8\\\\ub9cc\\\\uae08\\\", \\\"\\\\ucf69\\\", 0.13, 0.227366, 1.760978, 2.004115, 3.992459, 5.694879, 44.107605, 50.197516], [302, \\\"\\\\uc0c8\\\\ub9cc\\\\uae08\\\", \\\"\\\\ucf69\\\", 0.105, 0.224297, 3.140719, 1.150617, 4.515633, 4.967115, 69.552129, 25.480756], [303, \\\"\\\\uc0c8\\\\ub9cc\\\\uae08\\\", \\\"\\\\ucf69\\\", 0.14, 0.162404, 3.041916, 1.152263, 4.356584, 3.727785, 69.823431, 26.448784], [304, \\\"\\\\uc0c8\\\\ub9cc\\\\uae08\\\", \\\"\\\\ucf69\\\", 0.2, 0.122506, 3.444112, 1.009877, 4.576495, 2.676861, 75.256544, 22.066595], [305, \\\"\\\\uc0c8\\\\ub9cc\\\\uae08\\\", \\\"\\\\ucf69\\\", 0.125, 0.496164, 1.404691, 1.902058, 3.802912, 13.046941, 36.937238, 50.015821], [306, \\\"\\\\uc0c8\\\\ub9cc\\\\uae08\\\", \\\"\\\\ucf69\\\", 0.1, 0.675703, 0.861776, 2.369547, 3.907027, 17.294565, 22.057089, 60.648346], [307, \\\"\\\\uc0c8\\\\ub9cc\\\\uae08\\\", \\\"\\\\ucf69\\\", 0.11, 0.463939, 1.713074, 2.184362, 4.361375, 10.63744, 39.278301, 50.084259], [308, \\\"\\\\uc0c8\\\\ub9cc\\\\uae08\\\", \\\"\\\\ucf69\\\", 0.11, 0.40179, 1.339321, 2.31358, 4.054692, 9.909268, 33.031397, 57.059336], [309, \\\"\\\\uc0c8\\\\ub9cc\\\\uae08\\\", \\\"\\\\ucf69\\\", 0.11, 0.437084, 1.433134, 2.070782, 3.941, 11.090698, 36.364723, 52.54458], [310, \\\"\\\\uc0c8\\\\ub9cc\\\\uae08\\\", \\\"\\\\ucf69\\\", 0.095, 0.395908, 2.081836, 1.649383, 4.127127, 9.592822, 50.44275, 39.964429], [311, \\\"\\\\uc0c8\\\\ub9cc\\\\uae08\\\", \\\"\\\\ucf69\\\", 0.085, 0.481841, 1.050898, 2.233745, 3.766484, 12.792869, 27.901302, 59.305829], [312, \\\"\\\\uc0c8\\\\ub9cc\\\\uae08\\\", \\\"\\\\ucf69\\\", 0.1, 0.211509, 1.344311, 2.2, 3.75582, 5.631498, 35.79275, 58.575752], [313, \\\"\\\\uc0c8\\\\ub9cc\\\\uae08\\\", \\\"\\\\ucf69\\\", 0.25, 0.267263, 1.68014, 2.026337, 3.973741, 6.725739, 42.281062, 50.993199], [314, \\\"\\\\uc0c8\\\\ub9cc\\\\uae08\\\", \\\"\\\\ucf69\\\", 0.28, 0.396675, 1.293413, 2.212346, 3.902434, 10.164815, 33.143755, 56.69143], [315, \\\"\\\\uc0c8\\\\ub9cc\\\\uae08\\\", \\\"\\\\ucf69\\\", 0.36, 0.341432, 1.497006, 2.306173, 4.144611, 8.23798, 36.119336, 55.642684], [316, \\\"\\\\uc0c8\\\\ub9cc\\\\uae08\\\", \\\"\\\\ucf69\\\", 0.205, 0.396419, 1.121756, 2.328395, 3.846571, 10.305788, 29.162506, 60.531707], [317, \\\"\\\\uc0c8\\\\ub9cc\\\\uae08\\\", \\\"\\\\ucf69\\\", 0.475, 0.351407, 0.927146, 2.480658, 3.759211, 9.347884, 24.663307, 65.988809], [318, \\\"\\\\uc0c8\\\\ub9cc\\\\uae08\\\", \\\"\\\\ucf69\\\", 0.085, 0.270332, 1.333333, 2.372016, 3.975682, 6.79965, 33.537221, 59.663129], [319, \\\"\\\\uc0c8\\\\ub9cc\\\\uae08\\\", \\\"\\\\ucf69\\\", 0.085, 0.455754, 1.327844, 2.455967, 4.239566, 10.750027, 31.32029, 57.929683], [320, \\\"\\\\uc0c8\\\\ub9cc\\\\uae08\\\", \\\"\\\\ucf69\\\", 0.275, 0.738363, 1.057385, 2.270782, 4.06653, 18.15708, 26.002148, 55.840772], [321, \\\"\\\\uc0c8\\\\ub9cc\\\\uae08\\\", \\\"\\\\ucf69\\\", 0.17, 0.410997, 1.60978, 2.079835, 4.100613, 10.022829, 39.257066, 50.720106], [322, \\\"\\\\uc0c8\\\\ub9cc\\\\uae08\\\", \\\"\\\\ucf69\\\", 0.165, 0.549616, 1.501996, 2.241975, 4.293588, 12.800865, 34.982307, 52.216828], [323, \\\"\\\\uc0c8\\\\ub9cc\\\\uae08\\\", \\\"\\\\ucf69\\\", 0.145, 0.284399, 0.975549, 2.416461, 3.676409, 7.735782, 26.535376, 65.728842], [324, \\\"\\\\uc0c8\\\\ub9cc\\\\uae08\\\", \\\"\\\\ucf69\\\", 0.085, 0.372379, 1.143713, 2.479835, 3.995926, 9.318953, 28.621962, 62.059084], [325, \\\"\\\\uc0c8\\\\ub9cc\\\\uae08\\\", \\\"\\\\ucf69\\\", 0.13, 0.329668, 1.492016, 2.195062, 4.016745, 8.20733, 37.144899, 54.647771], [326, \\\"\\\\uc0c8\\\\ub9cc\\\\uae08\\\", \\\"\\\\ucf69\\\", 0.155, 0.274169, 1.283433, 2.444444, 4.002046, 6.850715, 32.069422, 61.079863], [327, \\\"\\\\uc0c8\\\\ub9cc\\\\uae08\\\", \\\"\\\\ucf69\\\", 0.13, 0.290793, 1.677146, 2.144033, 4.111971, 7.071859, 40.7869, 52.14124], [328, \\\"\\\\uc0c8\\\\ub9cc\\\\uae08\\\", \\\"\\\\ucf69\\\", 0.085, 0.314322, 1.946607, 1.974486, 4.235415, 7.421286, 45.960241, 46.618472], [329, \\\"\\\\uc0c8\\\\ub9cc\\\\uae08\\\", \\\"\\\\ucf69\\\", 0.09, 0.276215, 1.954092, 1.868313, 4.098619, 6.739216, 47.67683, 45.583953], [330, \\\"\\\\uc0c8\\\\ub9cc\\\\uae08\\\", \\\"\\\\ucf69\\\", 0.08, 0.17954, 1.892715, 1.881481, 3.953736, 4.541013, 47.87155, 47.587437], [331, \\\"\\\\uc0c8\\\\ub9cc\\\\uae08\\\", \\\"\\\\ucf69\\\", 0.23, 0.507161, 0.997505, 2.506996, 4.011662, 12.64217, 24.86513, 62.4927], [332, \\\"\\\\uc0c8\\\\ub9cc\\\\uae08\\\", \\\"\\\\ucf69\\\", 0.195, 0.197442, 2.005988, 2.057613, 4.261044, 4.633664, 47.077387, 48.288948], [333, \\\"\\\\uc0c8\\\\ub9cc\\\\uae08\\\", \\\"\\\\ucf69\\\", 0.085, 0.274169, 1.0998, 2.461728, 3.835698, 7.147821, 28.672761, 64.179418], [334, \\\"\\\\uc0c8\\\\ub9cc\\\\uae08\\\", \\\"\\\\ucf69\\\", 0.075, 0.180563, 1.253493, 2.506996, 3.941052, 4.581586, 31.806055, 63.612359], [335, \\\"\\\\uc0c8\\\\ub9cc\\\\uae08\\\", \\\"\\\\ucf69\\\", 0.09, 0.431458, 0.752495, 2.615638, 3.799591, 11.355376, 19.804634, 68.839991], [336, \\\"\\\\uc0c8\\\\ub9cc\\\\uae08\\\", \\\"\\\\ucf69\\\", 0.11, 0.340665, 0.929641, 2.440329, 3.710635, 9.180773, 25.053414, 65.765813], [337, \\\"\\\\uc0c8\\\\ub9cc\\\\uae08\\\", \\\"\\\\ucf69\\\", 0.135, 0.231202, 1.297904, 1.999177, 3.528283, 6.55282, 36.785715, 56.661465], [338, \\\"\\\\uc0c8\\\\ub9cc\\\\uae08\\\", \\\"\\\\ucf69\\\", 0.085, 0.182864, 1.008483, 2.406584, 3.597932, 5.082488, 28.02952, 66.887992], [339, \\\"\\\\uc0c8\\\\ub9cc\\\\uae08\\\", \\\"\\\\ucf69\\\", 0.13, 0.503836, 0.75, 2.190123, 3.44396, 14.629565, 21.777258, 63.593178], [340, \\\"\\\\uc0c8\\\\ub9cc\\\\uae08\\\", \\\"\\\\ucf69\\\", 0.085, 0.306905, 1.028942, 2.257613, 3.593461, 8.540663, 28.633738, 62.825599], [341, \\\"\\\\uc0c8\\\\ub9cc\\\\uae08\\\", \\\"\\\\ucf69\\\", 0.08, 0.390793, 0.923653, 2.386831, 3.701277, 10.558325, 24.954975, 64.4867], [342, \\\"\\\\uc0c8\\\\ub9cc\\\\uae08\\\", \\\"\\\\ucf69\\\", 0.08, 0.348338, 0.998004, 2.247737, 3.594078, 9.691987, 27.76801, 62.540003], [343, \\\"\\\\uc0c8\\\\ub9cc\\\\uae08\\\", \\\"\\\\ucf69\\\", 0.09, 0.307417, 0.953094, 2.30535, 3.56586, 8.621114, 26.728298, 64.650589], [344, \\\"\\\\uc0c8\\\\ub9cc\\\\uae08\\\", \\\"\\\\ucf69\\\", 0.145, 0.204859, 0.778443, 1.998354, 2.981656, 6.870655, 26.107741, 67.021604], [345, \\\"\\\\uc0c8\\\\ub9cc\\\\uae08\\\", \\\"\\\\ucf69\\\", 0.075, 0.223785, 0.899202, 1.963786, 3.086773, 7.24981, 29.1308, 63.61939], [346, \\\"\\\\uc0c8\\\\ub9cc\\\\uae08\\\", \\\"\\\\ucf69\\\", 0.07, 0.377749, 1.457086, 1.413169, 3.248004, 11.6302, 44.860963, 43.508837], [347, \\\"\\\\uc0c8\\\\ub9cc\\\\uae08\\\", \\\"\\\\ucf69\\\", 0.13, 0.488747, 0.66517, 1.890535, 3.044451, 16.05369, 21.848588, 62.097722], [348, \\\"\\\\uc0c8\\\\ub9cc\\\\uae08\\\", \\\"\\\\ucf69\\\", 0.105, 0.603325, 0.868762, 2.364609, 3.836696, 15.725112, 22.643504, 61.631384], [349, \\\"\\\\uc0c8\\\\ub9cc\\\\uae08\\\", \\\"\\\\ucf69\\\", 0.12, 0.672123, 0.851796, 2.345679, 3.869598, 17.369317, 22.012529, 60.618155], [350, \\\"\\\\uc0c8\\\\ub9cc\\\\uae08\\\", \\\"\\\\ucf69\\\", 0.145, 0.590537, 1.105788, 2.152263, 3.848589, 15.34425, 28.732308, 55.923442], [351, \\\"\\\\uc0c8\\\\ub9cc\\\\uae08\\\", \\\"\\\\ucf69\\\", 0.09, 0.778772, 0.900699, 2.201646, 3.881117, 20.065676, 23.2072, 56.727124], [352, \\\"\\\\uc0c8\\\\ub9cc\\\\uae08\\\", \\\"\\\\ucf69\\\", 0.135, 0.730946, 0.906687, 2.477366, 4.114999, 17.762975, 22.033701, 60.203323], [353, \\\"\\\\uc0c8\\\\ub9cc\\\\uae08\\\", \\\"\\\\ucf69\\\", 0.105, 0.3711, 1.032435, 2.148971, 3.552506, 10.44614, 29.062164, 60.491697], [354, \\\"\\\\uc0c8\\\\ub9cc\\\\uae08\\\", \\\"\\\\ucf69\\\", 0.135, 0.284655, 1.281437, 2.150617, 3.716709, 7.658784, 34.477735, 57.863481], [355, \\\"\\\\uc0c8\\\\ub9cc\\\\uae08\\\", \\\"\\\\ucf69\\\", 0.185, 0.209719, 1.081337, 2.265844, 3.5569, 5.896109, 30.40112, 63.702771], [356, \\\"\\\\uc0c8\\\\ub9cc\\\\uae08\\\", \\\"\\\\ucf69\\\", 0.085, 0.261637, 1.244012, 2.306173, 3.811822, 6.863827, 32.635629, 60.500544], [357, \\\"\\\\uc0c8\\\\ub9cc\\\\uae08\\\", \\\"\\\\ucf69\\\", 0.16, 0.242199, 2.301397, 1.888066, 4.431663, 5.465206, 51.930786, 42.604008], [358, \\\"\\\\uc0c8\\\\ub9cc\\\\uae08\\\", \\\"\\\\ucf69\\\", 0.09, 0.306394, 1.146707, 2.463374, 3.916475, 7.823205, 29.279048, 62.897747], [359, \\\"\\\\uc0c8\\\\ub9cc\\\\uae08\\\", \\\"\\\\ucf69\\\", 0.155, 0.346547, 0.836327, 2.282305, 3.465179, 10.000848, 24.135183, 65.863968], [360, \\\"\\\\uc0c8\\\\ub9cc\\\\uae08\\\", \\\"\\\\ucf69\\\", 0.18, 0.311765, 1.126747, 2.341564, 3.780075, 8.24758, 29.807517, 61.944903], [361, \\\"\\\\uc0c8\\\\ub9cc\\\\uae08\\\", \\\"\\\\ucf69\\\", 0.09, 0.229412, 1.090319, 2.206584, 3.526315, 6.505707, 30.919507, 62.574786], [362, \\\"\\\\uc0c8\\\\ub9cc\\\\uae08\\\", \\\"\\\\ucf69\\\", 0.075, 0.24578, 0.9501, 2.169547, 3.365427, 7.303086, 28.23118, 64.465734], [363, \\\"\\\\uc0c8\\\\ub9cc\\\\uae08\\\", \\\"\\\\ucf69\\\", 0.07, 0.394373, 1.096806, 2.537449, 4.028628, 9.789272, 27.225306, 62.985422], [364, \\\"\\\\uc0c8\\\\ub9cc\\\\uae08\\\", \\\"\\\\ucf69\\\", 0.095, 0.265473, 1.117265, 2.206584, 3.589323, 7.39619, 31.127471, 61.476339], [365, \\\"\\\\uc0c8\\\\ub9cc\\\\uae08\\\", \\\"\\\\ucf69\\\", 0.105, 0.470588, 0.949601, 2.164609, 3.584798, 13.127329, 26.489659, 60.383012], [366, \\\"\\\\uc0c8\\\\ub9cc\\\\uae08\\\", \\\"\\\\ucf69\\\", 0.075, 0.530435, 0.854291, 2.548148, 3.932874, 13.487204, 21.721808, 64.790988], [367, \\\"\\\\uc0c8\\\\ub9cc\\\\uae08\\\", \\\"\\\\ucf69\\\", 0.08, 0.363939, 1.087824, 2.512757, 3.96452, 9.179891, 27.438991, 63.381118], [368, \\\"\\\\uc0c8\\\\ub9cc\\\\uae08\\\", \\\"\\\\ucf69\\\", 0.075, 0.317136, 0.829341, 2.3893, 3.535777, 8.96933, 23.4557, 67.574969], [369, \\\"\\\\uc0c8\\\\ub9cc\\\\uae08\\\", \\\"\\\\ucf69\\\", 0.08, 0.644246, 0.692116, 2.396708, 3.733069, 17.257798, 18.540127, 64.202075], [370, \\\"\\\\uc0c8\\\\ub9cc\\\\uae08\\\", \\\"\\\\ucf69\\\", 0.1, 0.452174, 0.798902, 2.25679, 3.507866, 12.890284, 22.774591, 64.335125], [371, \\\"\\\\uc0c8\\\\ub9cc\\\\uae08\\\", \\\"\\\\ucf69\\\", 0.235, 0.51688, 1.37475, 2.465844, 4.357474, 11.861914, 31.549254, 56.588833], [372, \\\"\\\\uc0c8\\\\ub9cc\\\\uae08\\\", \\\"\\\\ucf69\\\", 0.1, 0.61023, 0.921657, 2.534156, 4.066043, 15.007961, 22.667164, 62.324875], [373, \\\"\\\\uc0c8\\\\ub9cc\\\\uae08\\\", \\\"\\\\ucf69\\\", 0.16, 0.455499, 0.71507, 2.042798, 3.213367, 14.175123, 22.252979, 63.571898], [374, \\\"\\\\uc0c8\\\\ub9cc\\\\uae08\\\", \\\"\\\\ucf69\\\", 0.165, 0.535294, 0.688623, 1.841975, 3.065892, 17.459652, 22.460762, 60.079585], [375, \\\"\\\\uc0c8\\\\ub9cc\\\\uae08\\\", \\\"\\\\ucf69\\\", 0.125, 0.516624, 0.724052, 2.059259, 3.299935, 15.655581, 21.941397, 62.403021], [376, \\\"\\\\uc0c8\\\\ub9cc\\\\uae08\\\", \\\"\\\\ucf69\\\", 0.09, 0.41867, 0.573353, 1.739095, 2.731118, 15.329622, 20.993355, 63.677023], [377, \\\"\\\\uc0c8\\\\ub9cc\\\\uae08\\\", \\\"\\\\ucf69\\\", 0.11, 0.324552, 0.899701, 1.939918, 3.164171, 10.257109, 28.434009, 61.308882], [378, \\\"\\\\uc0c8\\\\ub9cc\\\\uae08\\\", \\\"\\\\ucf69\\\", 0.125, 0.331969, 0.80988, 2.024691, 3.166541, 10.483658, 25.576181, 63.940161], [379, \\\"\\\\uc0c8\\\\ub9cc\\\\uae08\\\", \\\"\\\\ucf69\\\", 0.09, 0.323529, 0.961577, 1.945679, 3.230785, 10.013956, 29.762945, 60.223099], [380, \\\"\\\\uc0c8\\\\ub9cc\\\\uae08\\\", \\\"\\\\ucf69\\\", 0.105, 0.268286, 1.193114, 2.043621, 3.505022, 7.654345, 34.040126, 58.305529], [381, \\\"\\\\uc0c8\\\\ub9cc\\\\uae08\\\", \\\"\\\\ucf69\\\", 0.09, 0.240665, 0.971058, 1.721811, 2.933534, 8.203927, 33.101987, 58.694086], [382, \\\"\\\\uc0c8\\\\ub9cc\\\\uae08\\\", \\\"\\\\ucf69\\\", 0.105, 0.213811, 0.731537, 1.979424, 2.924772, 7.31034, 25.011763, 67.677897], [383, \\\"\\\\uc0c8\\\\ub9cc\\\\uae08\\\", \\\"\\\\ucf69\\\", 0.115, 0.181586, 1.13024, 1.790947, 3.102772, 5.85237, 36.42677, 57.72086], [384, \\\"\\\\uc0c8\\\\ub9cc\\\\uae08\\\", \\\"\\\\ucf69\\\", 0.21, 0.214834, 1.007984, 2.084774, 3.307591, 6.495172, 30.474865, 63.029963], [385, \\\"\\\\uc0c8\\\\ub9cc\\\\uae08\\\", \\\"\\\\ucf69\\\", 0.5, 0.116113, 3.126747, 1.442798, 4.685657, 2.478041, 66.730156, 30.791802], [386, \\\"\\\\uc0c8\\\\ub9cc\\\\uae08\\\", \\\"\\\\ucf69\\\", 0.125, 0.23376, 1.249501, 2.167901, 3.651162, 6.402334, 34.222011, 59.375655], [387, \\\"\\\\uc0c8\\\\ub9cc\\\\uae08\\\", \\\"\\\\ucf69\\\", 0.305, 0.374936, 1.310878, 2.279835, 3.96565, 9.454594, 33.055826, 57.489581], [388, \\\"\\\\uc0c8\\\\ub9cc\\\\uae08\\\", \\\"\\\\ucf69\\\", 0.24, 0.194118, 0.974052, 2.063374, 3.231544, 6.006963, 30.141997, 63.85104], [389, \\\"\\\\uc0c8\\\\ub9cc\\\\uae08\\\", \\\"\\\\ucf69\\\", 0.09, 0.341688, 0.975549, 2.024691, 3.341928, 10.224276, 29.191198, 60.584525], [390, \\\"\\\\uc0c8\\\\ub9cc\\\\uae08\\\", \\\"\\\\ucf69\\\", 0.095, 0.335294, 0.821856, 2.107819, 3.264969, 10.269442, 25.171945, 64.558613], [391, \\\"\\\\uc0c8\\\\ub9cc\\\\uae08\\\", \\\"\\\\ucf69\\\", 0.195, 0.421483, 0.869261, 2.046914, 3.337658, 12.628116, 26.044051, 61.327833], [392, \\\"\\\\uc0c8\\\\ub9cc\\\\uae08\\\", \\\"\\\\ucf69\\\", 0.17, 0.576215, 0.807385, 2.137449, 3.521049, 16.364864, 22.930249, 60.704886], [393, \\\"\\\\uc0c8\\\\ub9cc\\\\uae08\\\", \\\"\\\\ucf69\\\", 0.08, 0.290026, 0.871756, 1.882305, 3.044087, 9.527507, 28.637703, 61.834789], [394, \\\"\\\\uc0c8\\\\ub9cc\\\\uae08\\\", \\\"\\\\ucf69\\\", 0.075, 0.365729, 1.029441, 2.353086, 3.748256, 9.757307, 27.464533, 62.77816], [395, \\\"\\\\uc0c8\\\\ub9cc\\\\uae08\\\", \\\"\\\\ucf69\\\", 0.09, 0.343734, 0.863772, 2.249383, 3.456889, 9.943449, 24.986987, 65.069564], [396, \\\"\\\\uc0c8\\\\ub9cc\\\\uae08\\\", \\\"\\\\ucf69\\\", 0.085, 0.332737, 0.846806, 1.99177, 3.171313, 10.492078, 26.70208, 62.805843], [397, \\\"\\\\uc0c8\\\\ub9cc\\\\uae08\\\", \\\"\\\\ucf69\\\", 0.115, 0.402302, 1.061876, 1.979424, 3.443602, 11.682587, 30.836208, 57.481205], [398, \\\"\\\\uc0c8\\\\ub9cc\\\\uae08\\\", \\\"\\\\ucf69\\\", 0.095, 0.343223, 0.985529, 2.091358, 3.420109, 10.035425, 28.815713, 61.148862], [399, \\\"\\\\uc0c8\\\\ub9cc\\\\uae08\\\", \\\"\\\\ucf69\\\", 0.065, 0.312788, 0.957086, 2.398354, 3.668227, 8.526945, 26.091234, 65.381821], [400, \\\"\\\\uc0c8\\\\ub9cc\\\\uae08\\\", \\\"\\\\ucf69\\\", 0.16, 0.381841, 0.931138, 2.323457, 3.636436, 10.500431, 25.605778, 63.893791]]\"};\n",
       "        new ITable(table, dt_args);\n",
       "    });\n",
       "</script>\n"
      ]
     },
     "metadata": {},
     "output_type": "display_data"
    }
   ],
   "execution_count": 44
  }
 ],
 "metadata": {
  "kernelspec": {
   "display_name": "Python 3",
   "language": "python",
   "name": "python3"
  },
  "language_info": {
   "codemirror_mode": {
    "name": "ipython",
    "version": 2
   },
   "file_extension": ".py",
   "mimetype": "text/x-python",
   "name": "python",
   "nbconvert_exporter": "python",
   "pygments_lexer": "ipython2",
   "version": "2.7.6"
  }
 },
 "nbformat": 4,
 "nbformat_minor": 5
}
