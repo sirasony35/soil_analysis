{
 "cells": [
  {
   "cell_type": "code",
   "id": "initial_id",
   "metadata": {
    "collapsed": true,
    "ExecuteTime": {
     "end_time": "2025-08-06T07:02:54.252737Z",
     "start_time": "2025-08-06T07:02:53.962042Z"
    }
   },
   "source": [
    "import pandas as pd\n",
    "import numpy as np\n",
    "import plotly.express as px"
   ],
   "outputs": [],
   "execution_count": 1
  },
  {
   "metadata": {
    "ExecuteTime": {
     "end_time": "2025-08-06T07:02:57.517832Z",
     "start_time": "2025-08-06T07:02:57.299510Z"
    }
   },
   "cell_type": "code",
   "source": [
    "data_sheet = pd.read_excel('data/2025_soil_raw_data.xlsx', sheet_name='토양성분', header=0)\n",
    "data_sheet.head(5)"
   ],
   "id": "4d07fb8d127f8978",
   "outputs": [
    {
     "data": {
      "text/plain": [
       "   지역 품목      샘플코드   PH   EC   유기물  유효인산   유효규산    교환성칼륨    교환성칼슘   교환성마그네슘  \\\n",
       "0  김제  벼  GJ-R1-01  6.4  0.3  23.0  20.0  394.0  0.10965  7.18560  1.735686   \n",
       "1  김제  벼  GJ-R1-02  6.5  0.3  15.0  38.0  384.0  0.09945  7.14069  1.554714   \n",
       "2  김제  벼  GJ-R1-03  6.5  0.3  23.0  22.0  264.0  0.12240  7.19059  1.702782   \n",
       "3  김제  벼  GJ-R1-04  7.0  0.2  23.0  36.0  529.0  0.10455  7.22552  1.809720   \n",
       "4  김제  벼  GJ-R1-05  7.2  0.2  17.0  38.0  594.0  0.11475  7.48001  1.711008   \n",
       "\n",
       "   CEC   토성  sand(%)  silt(%)  clay(%)  석회소요량  \n",
       "0  NaN  NaN      NaN      NaN      NaN    NaN  \n",
       "1  NaN  NaN      NaN      NaN      NaN    NaN  \n",
       "2  NaN  NaN      NaN      NaN      NaN    NaN  \n",
       "3  NaN  NaN      NaN      NaN      NaN    NaN  \n",
       "4  NaN  NaN      NaN      NaN      NaN    NaN  "
      ],
      "text/html": [
       "<div>\n",
       "<style scoped>\n",
       "    .dataframe tbody tr th:only-of-type {\n",
       "        vertical-align: middle;\n",
       "    }\n",
       "\n",
       "    .dataframe tbody tr th {\n",
       "        vertical-align: top;\n",
       "    }\n",
       "\n",
       "    .dataframe thead th {\n",
       "        text-align: right;\n",
       "    }\n",
       "</style>\n",
       "<table border=\"1\" class=\"dataframe\">\n",
       "  <thead>\n",
       "    <tr style=\"text-align: right;\">\n",
       "      <th></th>\n",
       "      <th>지역</th>\n",
       "      <th>품목</th>\n",
       "      <th>샘플코드</th>\n",
       "      <th>PH</th>\n",
       "      <th>EC</th>\n",
       "      <th>유기물</th>\n",
       "      <th>유효인산</th>\n",
       "      <th>유효규산</th>\n",
       "      <th>교환성칼륨</th>\n",
       "      <th>교환성칼슘</th>\n",
       "      <th>교환성마그네슘</th>\n",
       "      <th>CEC</th>\n",
       "      <th>토성</th>\n",
       "      <th>sand(%)</th>\n",
       "      <th>silt(%)</th>\n",
       "      <th>clay(%)</th>\n",
       "      <th>석회소요량</th>\n",
       "    </tr>\n",
       "  </thead>\n",
       "  <tbody>\n",
       "    <tr>\n",
       "      <th>0</th>\n",
       "      <td>김제</td>\n",
       "      <td>벼</td>\n",
       "      <td>GJ-R1-01</td>\n",
       "      <td>6.4</td>\n",
       "      <td>0.3</td>\n",
       "      <td>23.0</td>\n",
       "      <td>20.0</td>\n",
       "      <td>394.0</td>\n",
       "      <td>0.10965</td>\n",
       "      <td>7.18560</td>\n",
       "      <td>1.735686</td>\n",
       "      <td>NaN</td>\n",
       "      <td>NaN</td>\n",
       "      <td>NaN</td>\n",
       "      <td>NaN</td>\n",
       "      <td>NaN</td>\n",
       "      <td>NaN</td>\n",
       "    </tr>\n",
       "    <tr>\n",
       "      <th>1</th>\n",
       "      <td>김제</td>\n",
       "      <td>벼</td>\n",
       "      <td>GJ-R1-02</td>\n",
       "      <td>6.5</td>\n",
       "      <td>0.3</td>\n",
       "      <td>15.0</td>\n",
       "      <td>38.0</td>\n",
       "      <td>384.0</td>\n",
       "      <td>0.09945</td>\n",
       "      <td>7.14069</td>\n",
       "      <td>1.554714</td>\n",
       "      <td>NaN</td>\n",
       "      <td>NaN</td>\n",
       "      <td>NaN</td>\n",
       "      <td>NaN</td>\n",
       "      <td>NaN</td>\n",
       "      <td>NaN</td>\n",
       "    </tr>\n",
       "    <tr>\n",
       "      <th>2</th>\n",
       "      <td>김제</td>\n",
       "      <td>벼</td>\n",
       "      <td>GJ-R1-03</td>\n",
       "      <td>6.5</td>\n",
       "      <td>0.3</td>\n",
       "      <td>23.0</td>\n",
       "      <td>22.0</td>\n",
       "      <td>264.0</td>\n",
       "      <td>0.12240</td>\n",
       "      <td>7.19059</td>\n",
       "      <td>1.702782</td>\n",
       "      <td>NaN</td>\n",
       "      <td>NaN</td>\n",
       "      <td>NaN</td>\n",
       "      <td>NaN</td>\n",
       "      <td>NaN</td>\n",
       "      <td>NaN</td>\n",
       "    </tr>\n",
       "    <tr>\n",
       "      <th>3</th>\n",
       "      <td>김제</td>\n",
       "      <td>벼</td>\n",
       "      <td>GJ-R1-04</td>\n",
       "      <td>7.0</td>\n",
       "      <td>0.2</td>\n",
       "      <td>23.0</td>\n",
       "      <td>36.0</td>\n",
       "      <td>529.0</td>\n",
       "      <td>0.10455</td>\n",
       "      <td>7.22552</td>\n",
       "      <td>1.809720</td>\n",
       "      <td>NaN</td>\n",
       "      <td>NaN</td>\n",
       "      <td>NaN</td>\n",
       "      <td>NaN</td>\n",
       "      <td>NaN</td>\n",
       "      <td>NaN</td>\n",
       "    </tr>\n",
       "    <tr>\n",
       "      <th>4</th>\n",
       "      <td>김제</td>\n",
       "      <td>벼</td>\n",
       "      <td>GJ-R1-05</td>\n",
       "      <td>7.2</td>\n",
       "      <td>0.2</td>\n",
       "      <td>17.0</td>\n",
       "      <td>38.0</td>\n",
       "      <td>594.0</td>\n",
       "      <td>0.11475</td>\n",
       "      <td>7.48001</td>\n",
       "      <td>1.711008</td>\n",
       "      <td>NaN</td>\n",
       "      <td>NaN</td>\n",
       "      <td>NaN</td>\n",
       "      <td>NaN</td>\n",
       "      <td>NaN</td>\n",
       "      <td>NaN</td>\n",
       "    </tr>\n",
       "  </tbody>\n",
       "</table>\n",
       "</div>"
      ]
     },
     "execution_count": 2,
     "metadata": {},
     "output_type": "execute_result"
    }
   ],
   "execution_count": 2
  },
  {
   "metadata": {
    "ExecuteTime": {
     "end_time": "2025-08-06T07:22:33.372070Z",
     "start_time": "2025-08-06T07:22:33.359433Z"
    }
   },
   "cell_type": "code",
   "source": [
    "gj_df = data_sheet[data_sheet['지역'] == '김제'].reset_index(drop=True)\n",
    "gj_df"
   ],
   "id": "db5b7f1a741fd619",
   "outputs": [
    {
     "data": {
      "text/plain": [
       "     지역 품목      샘플코드   PH   EC   유기물   유효인산   유효규산    교환성칼륨    교환성칼슘  \\\n",
       "0    김제  벼  GJ-R1-01  6.4  0.3  23.0   20.0  394.0  0.10965  7.18560   \n",
       "1    김제  벼  GJ-R1-02  6.5  0.3  15.0   38.0  384.0  0.09945  7.14069   \n",
       "2    김제  벼  GJ-R1-03  6.5  0.3  23.0   22.0  264.0  0.12240  7.19059   \n",
       "3    김제  벼  GJ-R1-04  7.0  0.2  23.0   36.0  529.0  0.10455  7.22552   \n",
       "4    김제  벼  GJ-R1-05  7.2  0.2  17.0   38.0  594.0  0.11475  7.48001   \n",
       "..   .. ..       ...  ...  ...   ...    ...    ...      ...      ...   \n",
       "138  김제  콩    GJ-S15  6.6  0.4   4.0   31.0  107.0  0.20000  4.10000   \n",
       "139  김제  콩    GJ-S16  5.9  0.5  17.0   34.0  124.0  0.15000  4.20000   \n",
       "140  김제  콩    GJ-S17  6.6  0.5  13.0   85.0  186.0  0.21000  5.30000   \n",
       "141  김제  콩    GJ-S18  6.1  0.7  16.0  100.0  127.0  0.34000  4.70000   \n",
       "142  김제  콩    GJ-S19  6.0  0.4  11.0   49.0  106.0  0.12000  4.10000   \n",
       "\n",
       "      교환성마그네슘  CEC   토성  sand(%)  silt(%)  clay(%)  석회소요량  \n",
       "0    1.735686  NaN  NaN      NaN      NaN      NaN    NaN  \n",
       "1    1.554714  NaN  NaN      NaN      NaN      NaN    NaN  \n",
       "2    1.702782  NaN  NaN      NaN      NaN      NaN    NaN  \n",
       "3    1.809720  NaN  NaN      NaN      NaN      NaN    NaN  \n",
       "4    1.711008  NaN  NaN      NaN      NaN      NaN    NaN  \n",
       "..        ...  ...  ...      ...      ...      ...    ...  \n",
       "138  2.700000  NaN  NaN      NaN      NaN      NaN    NaN  \n",
       "139  2.100000  NaN  NaN      NaN      NaN      NaN    NaN  \n",
       "140  2.700000  NaN  NaN      NaN      NaN      NaN    NaN  \n",
       "141  1.800000  NaN  NaN      NaN      NaN      NaN    NaN  \n",
       "142  1.600000  NaN  NaN      NaN      NaN      NaN    NaN  \n",
       "\n",
       "[143 rows x 17 columns]"
      ],
      "text/html": [
       "<div>\n",
       "<style scoped>\n",
       "    .dataframe tbody tr th:only-of-type {\n",
       "        vertical-align: middle;\n",
       "    }\n",
       "\n",
       "    .dataframe tbody tr th {\n",
       "        vertical-align: top;\n",
       "    }\n",
       "\n",
       "    .dataframe thead th {\n",
       "        text-align: right;\n",
       "    }\n",
       "</style>\n",
       "<table border=\"1\" class=\"dataframe\">\n",
       "  <thead>\n",
       "    <tr style=\"text-align: right;\">\n",
       "      <th></th>\n",
       "      <th>지역</th>\n",
       "      <th>품목</th>\n",
       "      <th>샘플코드</th>\n",
       "      <th>PH</th>\n",
       "      <th>EC</th>\n",
       "      <th>유기물</th>\n",
       "      <th>유효인산</th>\n",
       "      <th>유효규산</th>\n",
       "      <th>교환성칼륨</th>\n",
       "      <th>교환성칼슘</th>\n",
       "      <th>교환성마그네슘</th>\n",
       "      <th>CEC</th>\n",
       "      <th>토성</th>\n",
       "      <th>sand(%)</th>\n",
       "      <th>silt(%)</th>\n",
       "      <th>clay(%)</th>\n",
       "      <th>석회소요량</th>\n",
       "    </tr>\n",
       "  </thead>\n",
       "  <tbody>\n",
       "    <tr>\n",
       "      <th>0</th>\n",
       "      <td>김제</td>\n",
       "      <td>벼</td>\n",
       "      <td>GJ-R1-01</td>\n",
       "      <td>6.4</td>\n",
       "      <td>0.3</td>\n",
       "      <td>23.0</td>\n",
       "      <td>20.0</td>\n",
       "      <td>394.0</td>\n",
       "      <td>0.10965</td>\n",
       "      <td>7.18560</td>\n",
       "      <td>1.735686</td>\n",
       "      <td>NaN</td>\n",
       "      <td>NaN</td>\n",
       "      <td>NaN</td>\n",
       "      <td>NaN</td>\n",
       "      <td>NaN</td>\n",
       "      <td>NaN</td>\n",
       "    </tr>\n",
       "    <tr>\n",
       "      <th>1</th>\n",
       "      <td>김제</td>\n",
       "      <td>벼</td>\n",
       "      <td>GJ-R1-02</td>\n",
       "      <td>6.5</td>\n",
       "      <td>0.3</td>\n",
       "      <td>15.0</td>\n",
       "      <td>38.0</td>\n",
       "      <td>384.0</td>\n",
       "      <td>0.09945</td>\n",
       "      <td>7.14069</td>\n",
       "      <td>1.554714</td>\n",
       "      <td>NaN</td>\n",
       "      <td>NaN</td>\n",
       "      <td>NaN</td>\n",
       "      <td>NaN</td>\n",
       "      <td>NaN</td>\n",
       "      <td>NaN</td>\n",
       "    </tr>\n",
       "    <tr>\n",
       "      <th>2</th>\n",
       "      <td>김제</td>\n",
       "      <td>벼</td>\n",
       "      <td>GJ-R1-03</td>\n",
       "      <td>6.5</td>\n",
       "      <td>0.3</td>\n",
       "      <td>23.0</td>\n",
       "      <td>22.0</td>\n",
       "      <td>264.0</td>\n",
       "      <td>0.12240</td>\n",
       "      <td>7.19059</td>\n",
       "      <td>1.702782</td>\n",
       "      <td>NaN</td>\n",
       "      <td>NaN</td>\n",
       "      <td>NaN</td>\n",
       "      <td>NaN</td>\n",
       "      <td>NaN</td>\n",
       "      <td>NaN</td>\n",
       "    </tr>\n",
       "    <tr>\n",
       "      <th>3</th>\n",
       "      <td>김제</td>\n",
       "      <td>벼</td>\n",
       "      <td>GJ-R1-04</td>\n",
       "      <td>7.0</td>\n",
       "      <td>0.2</td>\n",
       "      <td>23.0</td>\n",
       "      <td>36.0</td>\n",
       "      <td>529.0</td>\n",
       "      <td>0.10455</td>\n",
       "      <td>7.22552</td>\n",
       "      <td>1.809720</td>\n",
       "      <td>NaN</td>\n",
       "      <td>NaN</td>\n",
       "      <td>NaN</td>\n",
       "      <td>NaN</td>\n",
       "      <td>NaN</td>\n",
       "      <td>NaN</td>\n",
       "    </tr>\n",
       "    <tr>\n",
       "      <th>4</th>\n",
       "      <td>김제</td>\n",
       "      <td>벼</td>\n",
       "      <td>GJ-R1-05</td>\n",
       "      <td>7.2</td>\n",
       "      <td>0.2</td>\n",
       "      <td>17.0</td>\n",
       "      <td>38.0</td>\n",
       "      <td>594.0</td>\n",
       "      <td>0.11475</td>\n",
       "      <td>7.48001</td>\n",
       "      <td>1.711008</td>\n",
       "      <td>NaN</td>\n",
       "      <td>NaN</td>\n",
       "      <td>NaN</td>\n",
       "      <td>NaN</td>\n",
       "      <td>NaN</td>\n",
       "      <td>NaN</td>\n",
       "    </tr>\n",
       "    <tr>\n",
       "      <th>...</th>\n",
       "      <td>...</td>\n",
       "      <td>...</td>\n",
       "      <td>...</td>\n",
       "      <td>...</td>\n",
       "      <td>...</td>\n",
       "      <td>...</td>\n",
       "      <td>...</td>\n",
       "      <td>...</td>\n",
       "      <td>...</td>\n",
       "      <td>...</td>\n",
       "      <td>...</td>\n",
       "      <td>...</td>\n",
       "      <td>...</td>\n",
       "      <td>...</td>\n",
       "      <td>...</td>\n",
       "      <td>...</td>\n",
       "      <td>...</td>\n",
       "    </tr>\n",
       "    <tr>\n",
       "      <th>138</th>\n",
       "      <td>김제</td>\n",
       "      <td>콩</td>\n",
       "      <td>GJ-S15</td>\n",
       "      <td>6.6</td>\n",
       "      <td>0.4</td>\n",
       "      <td>4.0</td>\n",
       "      <td>31.0</td>\n",
       "      <td>107.0</td>\n",
       "      <td>0.20000</td>\n",
       "      <td>4.10000</td>\n",
       "      <td>2.700000</td>\n",
       "      <td>NaN</td>\n",
       "      <td>NaN</td>\n",
       "      <td>NaN</td>\n",
       "      <td>NaN</td>\n",
       "      <td>NaN</td>\n",
       "      <td>NaN</td>\n",
       "    </tr>\n",
       "    <tr>\n",
       "      <th>139</th>\n",
       "      <td>김제</td>\n",
       "      <td>콩</td>\n",
       "      <td>GJ-S16</td>\n",
       "      <td>5.9</td>\n",
       "      <td>0.5</td>\n",
       "      <td>17.0</td>\n",
       "      <td>34.0</td>\n",
       "      <td>124.0</td>\n",
       "      <td>0.15000</td>\n",
       "      <td>4.20000</td>\n",
       "      <td>2.100000</td>\n",
       "      <td>NaN</td>\n",
       "      <td>NaN</td>\n",
       "      <td>NaN</td>\n",
       "      <td>NaN</td>\n",
       "      <td>NaN</td>\n",
       "      <td>NaN</td>\n",
       "    </tr>\n",
       "    <tr>\n",
       "      <th>140</th>\n",
       "      <td>김제</td>\n",
       "      <td>콩</td>\n",
       "      <td>GJ-S17</td>\n",
       "      <td>6.6</td>\n",
       "      <td>0.5</td>\n",
       "      <td>13.0</td>\n",
       "      <td>85.0</td>\n",
       "      <td>186.0</td>\n",
       "      <td>0.21000</td>\n",
       "      <td>5.30000</td>\n",
       "      <td>2.700000</td>\n",
       "      <td>NaN</td>\n",
       "      <td>NaN</td>\n",
       "      <td>NaN</td>\n",
       "      <td>NaN</td>\n",
       "      <td>NaN</td>\n",
       "      <td>NaN</td>\n",
       "    </tr>\n",
       "    <tr>\n",
       "      <th>141</th>\n",
       "      <td>김제</td>\n",
       "      <td>콩</td>\n",
       "      <td>GJ-S18</td>\n",
       "      <td>6.1</td>\n",
       "      <td>0.7</td>\n",
       "      <td>16.0</td>\n",
       "      <td>100.0</td>\n",
       "      <td>127.0</td>\n",
       "      <td>0.34000</td>\n",
       "      <td>4.70000</td>\n",
       "      <td>1.800000</td>\n",
       "      <td>NaN</td>\n",
       "      <td>NaN</td>\n",
       "      <td>NaN</td>\n",
       "      <td>NaN</td>\n",
       "      <td>NaN</td>\n",
       "      <td>NaN</td>\n",
       "    </tr>\n",
       "    <tr>\n",
       "      <th>142</th>\n",
       "      <td>김제</td>\n",
       "      <td>콩</td>\n",
       "      <td>GJ-S19</td>\n",
       "      <td>6.0</td>\n",
       "      <td>0.4</td>\n",
       "      <td>11.0</td>\n",
       "      <td>49.0</td>\n",
       "      <td>106.0</td>\n",
       "      <td>0.12000</td>\n",
       "      <td>4.10000</td>\n",
       "      <td>1.600000</td>\n",
       "      <td>NaN</td>\n",
       "      <td>NaN</td>\n",
       "      <td>NaN</td>\n",
       "      <td>NaN</td>\n",
       "      <td>NaN</td>\n",
       "      <td>NaN</td>\n",
       "    </tr>\n",
       "  </tbody>\n",
       "</table>\n",
       "<p>143 rows × 17 columns</p>\n",
       "</div>"
      ]
     },
     "execution_count": 4,
     "metadata": {},
     "output_type": "execute_result"
    }
   ],
   "execution_count": 4
  },
  {
   "metadata": {
    "ExecuteTime": {
     "end_time": "2025-08-06T07:23:22.886102Z",
     "start_time": "2025-08-06T07:23:22.880450Z"
    }
   },
   "cell_type": "code",
   "source": [
    "gj_df_rice = gj_df[gj_df['품목'] == '벼'].reset_index(drop=True)\n",
    "gj_df_bean = gj_df[gj_df['품목'] == '콩'].reset_index(drop=True)"
   ],
   "id": "ac91f4a8206cd3bc",
   "outputs": [],
   "execution_count": 5
  },
  {
   "metadata": {
    "ExecuteTime": {
     "end_time": "2025-08-06T07:29:44.097075Z",
     "start_time": "2025-08-06T07:29:44.093045Z"
    }
   },
   "cell_type": "code",
   "source": "gj_df_rice['PH'].mean()",
   "id": "ee4d352a19724d1f",
   "outputs": [
    {
     "data": {
      "text/plain": [
       "np.float64(6.833333333333333)"
      ]
     },
     "execution_count": 11,
     "metadata": {},
     "output_type": "execute_result"
    }
   ],
   "execution_count": 11
  },
  {
   "metadata": {
    "ExecuteTime": {
     "end_time": "2025-08-06T07:32:45.819623Z",
     "start_time": "2025-08-06T07:32:45.791802Z"
    }
   },
   "cell_type": "code",
   "source": [
    "fig= px.line(gj_df_rice, x='샘플코드', y='PH', title='김제(벼)PH분포도')\n",
    "\n",
    "fig.add_shape(\n",
    "    type='line',\n",
    "    x0=-0.5,\n",
    "    x1=49.5,\n",
    "    y0=5.5,\n",
    "    y1=5.5,\n",
    "    line=dict(color=\"white\", width=2, dash='dash'),\n",
    "    name='적정 하한'\n",
    ")\n",
    "\n",
    "fig.add_shape(\n",
    "    type='line',\n",
    "    x0=-0.5,\n",
    "    x1=49.5,\n",
    "    y0=6.5,\n",
    "    y1=6.5,\n",
    "    line=dict(color=\"white\", width=2, dash='dash'),\n",
    "    name='적정 상한'\n",
    ")\n",
    "\n",
    "fig.add_shape(\n",
    "    type='line',\n",
    "    x0=-0.5,\n",
    "    x1=49.5,\n",
    "    y0=6.83,\n",
    "    y1=6.83,\n",
    "    line=dict(color=\"skyblue\", width=1, dash='dot'),\n",
    ")\n",
    "\n",
    "fig.show()"
   ],
   "id": "d12eb5ffd5f5448b",
   "outputs": [
    {
     "data": {
      "application/vnd.plotly.v1+json": {
       "data": [
        {
         "hovertemplate": "샘플코드=%{x}<br>PH=%{y}<extra></extra>",
         "legendgroup": "",
         "line": {
          "color": "#636efa",
          "dash": "solid"
         },
         "marker": {
          "symbol": "circle"
         },
         "mode": "lines",
         "name": "",
         "orientation": "v",
         "showlegend": false,
         "x": [
          "GJ-R1-01",
          "GJ-R1-02",
          "GJ-R1-03",
          "GJ-R1-04",
          "GJ-R1-05",
          "GJ-R1-06",
          "GJ-R1-07",
          "GJ-R1-08",
          "GJ-R1-09",
          "GJ-R1-10",
          "GJ-R2-01",
          "GJ-R2-02",
          "GJ-R2-03",
          "GJ-R2-04",
          "GJ-R2-05",
          "GJ-R2-06",
          "GJ-R2-07",
          "GJ-R2-08",
          "GJ-R2-09",
          "GJ-R2-10",
          "GJ-R3-01",
          "GJ-R3-02",
          "GJ-R3-03",
          "GJ-R3-04",
          "GJ-R3-05",
          "GJ-R3-06",
          "GJ-R4-01",
          "GJ-R4-02",
          "GJ-R4-03",
          "GJ-R4-04",
          "GJ-R4-05",
          "GJ-R4-06",
          "GJ-R5-01",
          "GJ-R5-02",
          "GJ-R5-03",
          "GJ-R5-04",
          "GJ-R5-05",
          "GJ-R5-06",
          "GJ-R6-01",
          "GJ-R6-02",
          "GJ-R6-03",
          "GJ-R6-04",
          "GJ-R6-05",
          "GJ-R6-06",
          "GJ-R7",
          "GJ-R8",
          "GJ-R9",
          "GJ-R10"
         ],
         "xaxis": "x",
         "y": {
          "dtype": "f8",
          "bdata": "mpmZmZmZGUAAAAAAAAAaQAAAAAAAABpAAAAAAAAAHEDNzMzMzMwcQDMzMzMzMxtAzczMzMzMGkBmZmZmZmYaQGZmZmZmZhpAmpmZmZmZG0CamZmZmZkbQJqZmZmZmRtAzczMzMzMGkAAAAAAAAAcQAAAAAAAABxAzczMzMzMHEAAAAAAAAAcQM3MzMzMzBpAMzMzMzMzG0AAAAAAAAAcQGZmZmZmZhxAAAAAAAAAHkDNzMzMzMwcQDMzMzMzMxtAMzMzMzMzG0BmZmZmZmYcQJqZmZmZmRtAZmZmZmZmHEDNzMzMzMwcQM3MzMzMzBxAMzMzMzMzHUAAAAAAAAAcQGZmZmZmZhpAMzMzMzMzGUDNzMzMzMwaQJqZmZmZmRtAMzMzMzMzG0AzMzMzMzMbQAAAAAAAABpAAAAAAAAAGkAAAAAAAAAcQM3MzMzMzBpAmpmZmZmZG0AzMzMzMzMbQDMzMzMzMxlAZmZmZmZmGECamZmZmZkZQGZmZmZmZhxA"
         },
         "yaxis": "y",
         "type": "scatter"
        }
       ],
       "layout": {
        "template": {
         "data": {
          "histogram2dcontour": [
           {
            "type": "histogram2dcontour",
            "colorbar": {
             "outlinewidth": 0,
             "ticks": ""
            },
            "colorscale": [
             [
              0.0,
              "#0d0887"
             ],
             [
              0.1111111111111111,
              "#46039f"
             ],
             [
              0.2222222222222222,
              "#7201a8"
             ],
             [
              0.3333333333333333,
              "#9c179e"
             ],
             [
              0.4444444444444444,
              "#bd3786"
             ],
             [
              0.5555555555555556,
              "#d8576b"
             ],
             [
              0.6666666666666666,
              "#ed7953"
             ],
             [
              0.7777777777777778,
              "#fb9f3a"
             ],
             [
              0.8888888888888888,
              "#fdca26"
             ],
             [
              1.0,
              "#f0f921"
             ]
            ]
           }
          ],
          "choropleth": [
           {
            "type": "choropleth",
            "colorbar": {
             "outlinewidth": 0,
             "ticks": ""
            }
           }
          ],
          "histogram2d": [
           {
            "type": "histogram2d",
            "colorbar": {
             "outlinewidth": 0,
             "ticks": ""
            },
            "colorscale": [
             [
              0.0,
              "#0d0887"
             ],
             [
              0.1111111111111111,
              "#46039f"
             ],
             [
              0.2222222222222222,
              "#7201a8"
             ],
             [
              0.3333333333333333,
              "#9c179e"
             ],
             [
              0.4444444444444444,
              "#bd3786"
             ],
             [
              0.5555555555555556,
              "#d8576b"
             ],
             [
              0.6666666666666666,
              "#ed7953"
             ],
             [
              0.7777777777777778,
              "#fb9f3a"
             ],
             [
              0.8888888888888888,
              "#fdca26"
             ],
             [
              1.0,
              "#f0f921"
             ]
            ]
           }
          ],
          "heatmap": [
           {
            "type": "heatmap",
            "colorbar": {
             "outlinewidth": 0,
             "ticks": ""
            },
            "colorscale": [
             [
              0.0,
              "#0d0887"
             ],
             [
              0.1111111111111111,
              "#46039f"
             ],
             [
              0.2222222222222222,
              "#7201a8"
             ],
             [
              0.3333333333333333,
              "#9c179e"
             ],
             [
              0.4444444444444444,
              "#bd3786"
             ],
             [
              0.5555555555555556,
              "#d8576b"
             ],
             [
              0.6666666666666666,
              "#ed7953"
             ],
             [
              0.7777777777777778,
              "#fb9f3a"
             ],
             [
              0.8888888888888888,
              "#fdca26"
             ],
             [
              1.0,
              "#f0f921"
             ]
            ]
           }
          ],
          "contourcarpet": [
           {
            "type": "contourcarpet",
            "colorbar": {
             "outlinewidth": 0,
             "ticks": ""
            }
           }
          ],
          "contour": [
           {
            "type": "contour",
            "colorbar": {
             "outlinewidth": 0,
             "ticks": ""
            },
            "colorscale": [
             [
              0.0,
              "#0d0887"
             ],
             [
              0.1111111111111111,
              "#46039f"
             ],
             [
              0.2222222222222222,
              "#7201a8"
             ],
             [
              0.3333333333333333,
              "#9c179e"
             ],
             [
              0.4444444444444444,
              "#bd3786"
             ],
             [
              0.5555555555555556,
              "#d8576b"
             ],
             [
              0.6666666666666666,
              "#ed7953"
             ],
             [
              0.7777777777777778,
              "#fb9f3a"
             ],
             [
              0.8888888888888888,
              "#fdca26"
             ],
             [
              1.0,
              "#f0f921"
             ]
            ]
           }
          ],
          "surface": [
           {
            "type": "surface",
            "colorbar": {
             "outlinewidth": 0,
             "ticks": ""
            },
            "colorscale": [
             [
              0.0,
              "#0d0887"
             ],
             [
              0.1111111111111111,
              "#46039f"
             ],
             [
              0.2222222222222222,
              "#7201a8"
             ],
             [
              0.3333333333333333,
              "#9c179e"
             ],
             [
              0.4444444444444444,
              "#bd3786"
             ],
             [
              0.5555555555555556,
              "#d8576b"
             ],
             [
              0.6666666666666666,
              "#ed7953"
             ],
             [
              0.7777777777777778,
              "#fb9f3a"
             ],
             [
              0.8888888888888888,
              "#fdca26"
             ],
             [
              1.0,
              "#f0f921"
             ]
            ]
           }
          ],
          "mesh3d": [
           {
            "type": "mesh3d",
            "colorbar": {
             "outlinewidth": 0,
             "ticks": ""
            }
           }
          ],
          "scatter": [
           {
            "marker": {
             "line": {
              "color": "#283442"
             }
            },
            "type": "scatter"
           }
          ],
          "parcoords": [
           {
            "type": "parcoords",
            "line": {
             "colorbar": {
              "outlinewidth": 0,
              "ticks": ""
             }
            }
           }
          ],
          "scatterpolargl": [
           {
            "type": "scatterpolargl",
            "marker": {
             "colorbar": {
              "outlinewidth": 0,
              "ticks": ""
             }
            }
           }
          ],
          "bar": [
           {
            "error_x": {
             "color": "#f2f5fa"
            },
            "error_y": {
             "color": "#f2f5fa"
            },
            "marker": {
             "line": {
              "color": "rgb(17,17,17)",
              "width": 0.5
             },
             "pattern": {
              "fillmode": "overlay",
              "size": 10,
              "solidity": 0.2
             }
            },
            "type": "bar"
           }
          ],
          "scattergeo": [
           {
            "type": "scattergeo",
            "marker": {
             "colorbar": {
              "outlinewidth": 0,
              "ticks": ""
             }
            }
           }
          ],
          "scatterpolar": [
           {
            "type": "scatterpolar",
            "marker": {
             "colorbar": {
              "outlinewidth": 0,
              "ticks": ""
             }
            }
           }
          ],
          "histogram": [
           {
            "marker": {
             "pattern": {
              "fillmode": "overlay",
              "size": 10,
              "solidity": 0.2
             }
            },
            "type": "histogram"
           }
          ],
          "scattergl": [
           {
            "marker": {
             "line": {
              "color": "#283442"
             }
            },
            "type": "scattergl"
           }
          ],
          "scatter3d": [
           {
            "type": "scatter3d",
            "line": {
             "colorbar": {
              "outlinewidth": 0,
              "ticks": ""
             }
            },
            "marker": {
             "colorbar": {
              "outlinewidth": 0,
              "ticks": ""
             }
            }
           }
          ],
          "scattermap": [
           {
            "type": "scattermap",
            "marker": {
             "colorbar": {
              "outlinewidth": 0,
              "ticks": ""
             }
            }
           }
          ],
          "scattermapbox": [
           {
            "type": "scattermapbox",
            "marker": {
             "colorbar": {
              "outlinewidth": 0,
              "ticks": ""
             }
            }
           }
          ],
          "scatterternary": [
           {
            "type": "scatterternary",
            "marker": {
             "colorbar": {
              "outlinewidth": 0,
              "ticks": ""
             }
            }
           }
          ],
          "scattercarpet": [
           {
            "type": "scattercarpet",
            "marker": {
             "colorbar": {
              "outlinewidth": 0,
              "ticks": ""
             }
            }
           }
          ],
          "carpet": [
           {
            "aaxis": {
             "endlinecolor": "#A2B1C6",
             "gridcolor": "#506784",
             "linecolor": "#506784",
             "minorgridcolor": "#506784",
             "startlinecolor": "#A2B1C6"
            },
            "baxis": {
             "endlinecolor": "#A2B1C6",
             "gridcolor": "#506784",
             "linecolor": "#506784",
             "minorgridcolor": "#506784",
             "startlinecolor": "#A2B1C6"
            },
            "type": "carpet"
           }
          ],
          "table": [
           {
            "cells": {
             "fill": {
              "color": "#506784"
             },
             "line": {
              "color": "rgb(17,17,17)"
             }
            },
            "header": {
             "fill": {
              "color": "#2a3f5f"
             },
             "line": {
              "color": "rgb(17,17,17)"
             }
            },
            "type": "table"
           }
          ],
          "barpolar": [
           {
            "marker": {
             "line": {
              "color": "rgb(17,17,17)",
              "width": 0.5
             },
             "pattern": {
              "fillmode": "overlay",
              "size": 10,
              "solidity": 0.2
             }
            },
            "type": "barpolar"
           }
          ],
          "pie": [
           {
            "automargin": true,
            "type": "pie"
           }
          ]
         },
         "layout": {
          "autotypenumbers": "strict",
          "colorway": [
           "#636efa",
           "#EF553B",
           "#00cc96",
           "#ab63fa",
           "#FFA15A",
           "#19d3f3",
           "#FF6692",
           "#B6E880",
           "#FF97FF",
           "#FECB52"
          ],
          "font": {
           "color": "#f2f5fa"
          },
          "hovermode": "closest",
          "hoverlabel": {
           "align": "left"
          },
          "paper_bgcolor": "rgb(17,17,17)",
          "plot_bgcolor": "rgb(17,17,17)",
          "polar": {
           "bgcolor": "rgb(17,17,17)",
           "angularaxis": {
            "gridcolor": "#506784",
            "linecolor": "#506784",
            "ticks": ""
           },
           "radialaxis": {
            "gridcolor": "#506784",
            "linecolor": "#506784",
            "ticks": ""
           }
          },
          "ternary": {
           "bgcolor": "rgb(17,17,17)",
           "aaxis": {
            "gridcolor": "#506784",
            "linecolor": "#506784",
            "ticks": ""
           },
           "baxis": {
            "gridcolor": "#506784",
            "linecolor": "#506784",
            "ticks": ""
           },
           "caxis": {
            "gridcolor": "#506784",
            "linecolor": "#506784",
            "ticks": ""
           }
          },
          "coloraxis": {
           "colorbar": {
            "outlinewidth": 0,
            "ticks": ""
           }
          },
          "colorscale": {
           "sequential": [
            [
             0.0,
             "#0d0887"
            ],
            [
             0.1111111111111111,
             "#46039f"
            ],
            [
             0.2222222222222222,
             "#7201a8"
            ],
            [
             0.3333333333333333,
             "#9c179e"
            ],
            [
             0.4444444444444444,
             "#bd3786"
            ],
            [
             0.5555555555555556,
             "#d8576b"
            ],
            [
             0.6666666666666666,
             "#ed7953"
            ],
            [
             0.7777777777777778,
             "#fb9f3a"
            ],
            [
             0.8888888888888888,
             "#fdca26"
            ],
            [
             1.0,
             "#f0f921"
            ]
           ],
           "sequentialminus": [
            [
             0.0,
             "#0d0887"
            ],
            [
             0.1111111111111111,
             "#46039f"
            ],
            [
             0.2222222222222222,
             "#7201a8"
            ],
            [
             0.3333333333333333,
             "#9c179e"
            ],
            [
             0.4444444444444444,
             "#bd3786"
            ],
            [
             0.5555555555555556,
             "#d8576b"
            ],
            [
             0.6666666666666666,
             "#ed7953"
            ],
            [
             0.7777777777777778,
             "#fb9f3a"
            ],
            [
             0.8888888888888888,
             "#fdca26"
            ],
            [
             1.0,
             "#f0f921"
            ]
           ],
           "diverging": [
            [
             0,
             "#8e0152"
            ],
            [
             0.1,
             "#c51b7d"
            ],
            [
             0.2,
             "#de77ae"
            ],
            [
             0.3,
             "#f1b6da"
            ],
            [
             0.4,
             "#fde0ef"
            ],
            [
             0.5,
             "#f7f7f7"
            ],
            [
             0.6,
             "#e6f5d0"
            ],
            [
             0.7,
             "#b8e186"
            ],
            [
             0.8,
             "#7fbc41"
            ],
            [
             0.9,
             "#4d9221"
            ],
            [
             1,
             "#276419"
            ]
           ]
          },
          "xaxis": {
           "gridcolor": "#283442",
           "linecolor": "#506784",
           "ticks": "",
           "title": {
            "standoff": 15
           },
           "zerolinecolor": "#283442",
           "automargin": true,
           "zerolinewidth": 2
          },
          "yaxis": {
           "gridcolor": "#283442",
           "linecolor": "#506784",
           "ticks": "",
           "title": {
            "standoff": 15
           },
           "zerolinecolor": "#283442",
           "automargin": true,
           "zerolinewidth": 2
          },
          "scene": {
           "xaxis": {
            "backgroundcolor": "rgb(17,17,17)",
            "gridcolor": "#506784",
            "linecolor": "#506784",
            "showbackground": true,
            "ticks": "",
            "zerolinecolor": "#C8D4E3",
            "gridwidth": 2
           },
           "yaxis": {
            "backgroundcolor": "rgb(17,17,17)",
            "gridcolor": "#506784",
            "linecolor": "#506784",
            "showbackground": true,
            "ticks": "",
            "zerolinecolor": "#C8D4E3",
            "gridwidth": 2
           },
           "zaxis": {
            "backgroundcolor": "rgb(17,17,17)",
            "gridcolor": "#506784",
            "linecolor": "#506784",
            "showbackground": true,
            "ticks": "",
            "zerolinecolor": "#C8D4E3",
            "gridwidth": 2
           }
          },
          "shapedefaults": {
           "line": {
            "color": "#f2f5fa"
           }
          },
          "annotationdefaults": {
           "arrowcolor": "#f2f5fa",
           "arrowhead": 0,
           "arrowwidth": 1
          },
          "geo": {
           "bgcolor": "rgb(17,17,17)",
           "landcolor": "rgb(17,17,17)",
           "subunitcolor": "#506784",
           "showland": true,
           "showlakes": true,
           "lakecolor": "rgb(17,17,17)"
          },
          "title": {
           "x": 0.05
          },
          "updatemenudefaults": {
           "bgcolor": "#506784",
           "borderwidth": 0
          },
          "sliderdefaults": {
           "bgcolor": "#C8D4E3",
           "borderwidth": 1,
           "bordercolor": "rgb(17,17,17)",
           "tickwidth": 0
          },
          "mapbox": {
           "style": "dark"
          }
         }
        },
        "xaxis": {
         "anchor": "y",
         "domain": [
          0.0,
          1.0
         ],
         "title": {
          "text": "샘플코드"
         }
        },
        "yaxis": {
         "anchor": "x",
         "domain": [
          0.0,
          1.0
         ],
         "title": {
          "text": "PH"
         }
        },
        "legend": {
         "tracegroupgap": 0
        },
        "title": {
         "text": "김제(벼)PH분포도"
        },
        "shapes": [
         {
          "line": {
           "color": "white",
           "dash": "dash",
           "width": 2
          },
          "name": "적정 하한",
          "type": "line",
          "x0": -0.5,
          "x1": 49.5,
          "y0": 5.5,
          "y1": 5.5
         },
         {
          "line": {
           "color": "white",
           "dash": "dash",
           "width": 2
          },
          "name": "적정 상한",
          "type": "line",
          "x0": -0.5,
          "x1": 49.5,
          "y0": 6.5,
          "y1": 6.5
         },
         {
          "line": {
           "color": "skyblue",
           "dash": "dot",
           "width": 1
          },
          "type": "line",
          "x0": -0.5,
          "x1": 49.5,
          "y0": 6.83,
          "y1": 6.83
         }
        ]
       },
       "config": {
        "plotlyServerURL": "https://plot.ly"
       }
      }
     },
     "metadata": {},
     "output_type": "display_data"
    }
   ],
   "execution_count": 19
  },
  {
   "metadata": {
    "ExecuteTime": {
     "end_time": "2025-08-06T07:46:18.112518Z",
     "start_time": "2025-08-06T07:46:18.028239Z"
    }
   },
   "cell_type": "code",
   "source": [
    "import geopandas as gpd\n",
    "import pydeck as pdk"
   ],
   "id": "bd823100fa9627f3",
   "outputs": [],
   "execution_count": 20
  }
 ],
 "metadata": {
  "kernelspec": {
   "display_name": "Python 3",
   "language": "python",
   "name": "python3"
  },
  "language_info": {
   "codemirror_mode": {
    "name": "ipython",
    "version": 2
   },
   "file_extension": ".py",
   "mimetype": "text/x-python",
   "name": "python",
   "nbconvert_exporter": "python",
   "pygments_lexer": "ipython2",
   "version": "2.7.6"
  }
 },
 "nbformat": 4,
 "nbformat_minor": 5
}
